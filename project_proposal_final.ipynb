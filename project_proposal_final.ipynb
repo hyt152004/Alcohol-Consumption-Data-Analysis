{
 "cells": [
  {
   "cell_type": "markdown",
   "id": "5086d759-2583-4e25-83d5-a1e18e885b54",
   "metadata": {},
   "source": [
    "# Project Title"
   ]
  },
  {
   "cell_type": "code",
   "execution_count": 15,
   "id": "c47e5a1b-05ad-443b-9f4b-78b99b87fdc1",
   "metadata": {},
   "outputs": [],
   "source": [
    "library(tidyverse)\n",
    "library(repr)\n",
    "options(repr.matrix.max.rows = 7)"
   ]
  },
  {
   "cell_type": "markdown",
   "id": "3812af0f-09e1-4f6f-98a4-19c039bef35e",
   "metadata": {},
   "source": [
    "## Introduction\n",
    "While not the most dangerous, alcohol is one of if not the most popular drug in the world. Its consumption is not only popularized but normalized in modern society;, regardless of any negative effects it may have. Many mental factors, such as extraversion and neuroticism, can affect how often one consumes alcohol. Furthermore, minimum legal ages fail to stop children and young teens from consuming alcohol. The question we aim to answer in this project is **\"How can we predict the frequency of alcohol consumption based on certain aspects of an individual’s personality?\"** The dataset we are using to answer this question is a quantified drug consumption dataset. The dataset contains information about 1885 unique individuals. Each entry contains 12 attributes, such as personality measurements, education level, age, gender, country of residence, and ethnicity;, all of which are quantified and standardized. In additionFurthermore, the dataset contains information regarding these individuals’ use of 18 legal and illegal drugs, ranging from chocolate to heroin, and one fictitious drug (semeron) to filter out liars. Each value in the drugs columndrug columns reflects the recency of an individual’s use of said drug, ranging from “Never Used” to “Used in Last Day.”"
   ]
  },
  {
   "cell_type": "markdown",
   "id": "3059b857-d301-4a8f-81c3-ceeef94254f0",
   "metadata": {},
   "source": [
    "## Preliminary Data Exploration\n",
    "### Reading the data\n",
    "The dataset does not contain any headings so we will provide labels for each column and rename appropriately."
   ]
  },
  {
   "cell_type": "code",
   "execution_count": 16,
   "id": "445d3c7e-61cf-4b5c-9816-ee6706aac8a3",
   "metadata": {},
   "outputs": [
    {
     "name": "stderr",
     "output_type": "stream",
     "text": [
      "\u001b[1mRows: \u001b[22m\u001b[34m1885\u001b[39m \u001b[1mColumns: \u001b[22m\u001b[34m32\u001b[39m\n",
      "\u001b[36m──\u001b[39m \u001b[1mColumn specification\u001b[22m \u001b[36m────────────────────────────────────────────────────────\u001b[39m\n",
      "\u001b[1mDelimiter:\u001b[22m \",\"\n",
      "\u001b[31mchr\u001b[39m (19): X14, X15, X16, X17, X18, X19, X20, X21, X22, X23, X24, X25, X26, X...\n",
      "\u001b[32mdbl\u001b[39m (13): X1, X2, X3, X4, X5, X6, X7, X8, X9, X10, X11, X12, X13\n",
      "\n",
      "\u001b[36mℹ\u001b[39m Use `spec()` to retrieve the full column specification for this data.\n",
      "\u001b[36mℹ\u001b[39m Specify the column types or set `show_col_types = FALSE` to quiet this message.\n"
     ]
    },
    {
     "data": {
      "text/html": [
       "<table class=\"dataframe\">\n",
       "<caption>A spec_tbl_df: 1885 × 32</caption>\n",
       "<thead>\n",
       "\t<tr><th scope=col>ID</th><th scope=col>Age</th><th scope=col>Gender</th><th scope=col>Education</th><th scope=col>Country</th><th scope=col>Ethnicity</th><th scope=col>Neuroticism</th><th scope=col>Extraversion</th><th scope=col>Openness_to_Experience</th><th scope=col>Agreeableness</th><th scope=col>⋯</th><th scope=col>Ecstacy</th><th scope=col>Heorin</th><th scope=col>LegalH</th><th scope=col>LSD</th><th scope=col>Meth</th><th scope=col>Mushrooms</th><th scope=col>Nicotine</th><th scope=col>Semer</th><th scope=col>VSA</th><th scope=col>NA</th></tr>\n",
       "\t<tr><th scope=col>&lt;dbl&gt;</th><th scope=col>&lt;dbl&gt;</th><th scope=col>&lt;dbl&gt;</th><th scope=col>&lt;dbl&gt;</th><th scope=col>&lt;dbl&gt;</th><th scope=col>&lt;dbl&gt;</th><th scope=col>&lt;dbl&gt;</th><th scope=col>&lt;dbl&gt;</th><th scope=col>&lt;dbl&gt;</th><th scope=col>&lt;dbl&gt;</th><th scope=col>⋯</th><th scope=col>&lt;chr&gt;</th><th scope=col>&lt;chr&gt;</th><th scope=col>&lt;chr&gt;</th><th scope=col>&lt;chr&gt;</th><th scope=col>&lt;chr&gt;</th><th scope=col>&lt;chr&gt;</th><th scope=col>&lt;chr&gt;</th><th scope=col>&lt;chr&gt;</th><th scope=col>&lt;chr&gt;</th><th scope=col>&lt;chr&gt;</th></tr>\n",
       "</thead>\n",
       "<tbody>\n",
       "\t<tr><td>1</td><td> 0.49788</td><td> 0.48246</td><td>-0.05921</td><td>0.96082</td><td> 0.12600</td><td> 0.31287</td><td>-0.57545</td><td>-0.58331</td><td>-0.91699</td><td>⋯</td><td>CL0</td><td>CL0</td><td>CL0</td><td>CL0</td><td>CL0</td><td>CL0</td><td>CL0</td><td>CL2</td><td>CL0</td><td>CL0</td></tr>\n",
       "\t<tr><td>2</td><td>-0.07854</td><td>-0.48246</td><td> 1.98437</td><td>0.96082</td><td>-0.31685</td><td>-0.67825</td><td> 1.93886</td><td> 1.43533</td><td> 0.76096</td><td>⋯</td><td>CL4</td><td>CL0</td><td>CL2</td><td>CL0</td><td>CL2</td><td>CL3</td><td>CL0</td><td>CL4</td><td>CL0</td><td>CL0</td></tr>\n",
       "\t<tr><td>3</td><td> 0.49788</td><td>-0.48246</td><td>-0.05921</td><td>0.96082</td><td>-0.31685</td><td>-0.46725</td><td> 0.80523</td><td>-0.84732</td><td>-1.62090</td><td>⋯</td><td>CL0</td><td>CL0</td><td>CL0</td><td>CL0</td><td>CL0</td><td>CL0</td><td>CL1</td><td>CL0</td><td>CL0</td><td>CL0</td></tr>\n",
       "\t<tr><td>4</td><td>-0.95197</td><td> 0.48246</td><td> 1.16365</td><td>0.96082</td><td>-0.31685</td><td>-0.14882</td><td>-0.80615</td><td>-0.01928</td><td> 0.59042</td><td>⋯</td><td>CL0</td><td>CL0</td><td>CL2</td><td>CL0</td><td>CL0</td><td>CL0</td><td>CL0</td><td>CL2</td><td>CL0</td><td>CL0</td></tr>\n",
       "\t<tr><td>⋮</td><td>⋮</td><td>⋮</td><td>⋮</td><td>⋮</td><td>⋮</td><td>⋮</td><td>⋮</td><td>⋮</td><td>⋮</td><td>⋱</td><td>⋮</td><td>⋮</td><td>⋮</td><td>⋮</td><td>⋮</td><td>⋮</td><td>⋮</td><td>⋮</td><td>⋮</td><td>⋮</td></tr>\n",
       "\t<tr><td>1886</td><td>-0.07854</td><td> 0.48246</td><td> 0.45468</td><td>-0.57009</td><td>-0.31685</td><td> 1.13281</td><td>-1.37639</td><td>-1.27553</td><td>-1.77200</td><td>⋯</td><td>CL4</td><td>CL0</td><td>CL2</td><td>CL0</td><td>CL2</td><td>CL0</td><td>CL2</td><td>CL6</td><td>CL0</td><td>CL0</td></tr>\n",
       "\t<tr><td>1887</td><td>-0.95197</td><td> 0.48246</td><td>-0.61113</td><td>-0.57009</td><td>-0.31685</td><td> 0.91093</td><td>-1.92173</td><td> 0.29338</td><td>-1.62090</td><td>⋯</td><td>CL3</td><td>CL0</td><td>CL0</td><td>CL3</td><td>CL3</td><td>CL0</td><td>CL3</td><td>CL4</td><td>CL0</td><td>CL0</td></tr>\n",
       "\t<tr><td>1888</td><td>-0.95197</td><td>-0.48246</td><td>-0.61113</td><td> 0.21128</td><td>-0.31685</td><td>-0.46725</td><td> 2.12700</td><td> 1.65653</td><td> 1.11406</td><td>⋯</td><td>CL3</td><td>CL0</td><td>CL0</td><td>CL3</td><td>CL3</td><td>CL0</td><td>CL3</td><td>CL6</td><td>CL0</td><td>CL2</td></tr>\n",
       "</tbody>\n",
       "</table>\n"
      ],
      "text/latex": [
       "A spec\\_tbl\\_df: 1885 × 32\n",
       "\\begin{tabular}{lllllllllllllllllllll}\n",
       " ID & Age & Gender & Education & Country & Ethnicity & Neuroticism & Extraversion & Openness\\_to\\_Experience & Agreeableness & ⋯ & Ecstacy & Heorin & LegalH & LSD & Meth & Mushrooms & Nicotine & Semer & VSA & NA\\\\\n",
       " <dbl> & <dbl> & <dbl> & <dbl> & <dbl> & <dbl> & <dbl> & <dbl> & <dbl> & <dbl> & ⋯ & <chr> & <chr> & <chr> & <chr> & <chr> & <chr> & <chr> & <chr> & <chr> & <chr>\\\\\n",
       "\\hline\n",
       "\t 1 &  0.49788 &  0.48246 & -0.05921 & 0.96082 &  0.12600 &  0.31287 & -0.57545 & -0.58331 & -0.91699 & ⋯ & CL0 & CL0 & CL0 & CL0 & CL0 & CL0 & CL0 & CL2 & CL0 & CL0\\\\\n",
       "\t 2 & -0.07854 & -0.48246 &  1.98437 & 0.96082 & -0.31685 & -0.67825 &  1.93886 &  1.43533 &  0.76096 & ⋯ & CL4 & CL0 & CL2 & CL0 & CL2 & CL3 & CL0 & CL4 & CL0 & CL0\\\\\n",
       "\t 3 &  0.49788 & -0.48246 & -0.05921 & 0.96082 & -0.31685 & -0.46725 &  0.80523 & -0.84732 & -1.62090 & ⋯ & CL0 & CL0 & CL0 & CL0 & CL0 & CL0 & CL1 & CL0 & CL0 & CL0\\\\\n",
       "\t 4 & -0.95197 &  0.48246 &  1.16365 & 0.96082 & -0.31685 & -0.14882 & -0.80615 & -0.01928 &  0.59042 & ⋯ & CL0 & CL0 & CL2 & CL0 & CL0 & CL0 & CL0 & CL2 & CL0 & CL0\\\\\n",
       "\t ⋮ & ⋮ & ⋮ & ⋮ & ⋮ & ⋮ & ⋮ & ⋮ & ⋮ & ⋮ & ⋱ & ⋮ & ⋮ & ⋮ & ⋮ & ⋮ & ⋮ & ⋮ & ⋮ & ⋮ & ⋮\\\\\n",
       "\t 1886 & -0.07854 &  0.48246 &  0.45468 & -0.57009 & -0.31685 &  1.13281 & -1.37639 & -1.27553 & -1.77200 & ⋯ & CL4 & CL0 & CL2 & CL0 & CL2 & CL0 & CL2 & CL6 & CL0 & CL0\\\\\n",
       "\t 1887 & -0.95197 &  0.48246 & -0.61113 & -0.57009 & -0.31685 &  0.91093 & -1.92173 &  0.29338 & -1.62090 & ⋯ & CL3 & CL0 & CL0 & CL3 & CL3 & CL0 & CL3 & CL4 & CL0 & CL0\\\\\n",
       "\t 1888 & -0.95197 & -0.48246 & -0.61113 &  0.21128 & -0.31685 & -0.46725 &  2.12700 &  1.65653 &  1.11406 & ⋯ & CL3 & CL0 & CL0 & CL3 & CL3 & CL0 & CL3 & CL6 & CL0 & CL2\\\\\n",
       "\\end{tabular}\n"
      ],
      "text/markdown": [
       "\n",
       "A spec_tbl_df: 1885 × 32\n",
       "\n",
       "| ID &lt;dbl&gt; | Age &lt;dbl&gt; | Gender &lt;dbl&gt; | Education &lt;dbl&gt; | Country &lt;dbl&gt; | Ethnicity &lt;dbl&gt; | Neuroticism &lt;dbl&gt; | Extraversion &lt;dbl&gt; | Openness_to_Experience &lt;dbl&gt; | Agreeableness &lt;dbl&gt; | ⋯ ⋯ | Ecstacy &lt;chr&gt; | Heorin &lt;chr&gt; | LegalH &lt;chr&gt; | LSD &lt;chr&gt; | Meth &lt;chr&gt; | Mushrooms &lt;chr&gt; | Nicotine &lt;chr&gt; | Semer &lt;chr&gt; | VSA &lt;chr&gt; | NA &lt;chr&gt; |\n",
       "|---|---|---|---|---|---|---|---|---|---|---|---|---|---|---|---|---|---|---|---|---|\n",
       "| 1 |  0.49788 |  0.48246 | -0.05921 | 0.96082 |  0.12600 |  0.31287 | -0.57545 | -0.58331 | -0.91699 | ⋯ | CL0 | CL0 | CL0 | CL0 | CL0 | CL0 | CL0 | CL2 | CL0 | CL0 |\n",
       "| 2 | -0.07854 | -0.48246 |  1.98437 | 0.96082 | -0.31685 | -0.67825 |  1.93886 |  1.43533 |  0.76096 | ⋯ | CL4 | CL0 | CL2 | CL0 | CL2 | CL3 | CL0 | CL4 | CL0 | CL0 |\n",
       "| 3 |  0.49788 | -0.48246 | -0.05921 | 0.96082 | -0.31685 | -0.46725 |  0.80523 | -0.84732 | -1.62090 | ⋯ | CL0 | CL0 | CL0 | CL0 | CL0 | CL0 | CL1 | CL0 | CL0 | CL0 |\n",
       "| 4 | -0.95197 |  0.48246 |  1.16365 | 0.96082 | -0.31685 | -0.14882 | -0.80615 | -0.01928 |  0.59042 | ⋯ | CL0 | CL0 | CL2 | CL0 | CL0 | CL0 | CL0 | CL2 | CL0 | CL0 |\n",
       "| ⋮ | ⋮ | ⋮ | ⋮ | ⋮ | ⋮ | ⋮ | ⋮ | ⋮ | ⋮ | ⋱ | ⋮ | ⋮ | ⋮ | ⋮ | ⋮ | ⋮ | ⋮ | ⋮ | ⋮ | ⋮ |\n",
       "| 1886 | -0.07854 |  0.48246 |  0.45468 | -0.57009 | -0.31685 |  1.13281 | -1.37639 | -1.27553 | -1.77200 | ⋯ | CL4 | CL0 | CL2 | CL0 | CL2 | CL0 | CL2 | CL6 | CL0 | CL0 |\n",
       "| 1887 | -0.95197 |  0.48246 | -0.61113 | -0.57009 | -0.31685 |  0.91093 | -1.92173 |  0.29338 | -1.62090 | ⋯ | CL3 | CL0 | CL0 | CL3 | CL3 | CL0 | CL3 | CL4 | CL0 | CL0 |\n",
       "| 1888 | -0.95197 | -0.48246 | -0.61113 |  0.21128 | -0.31685 | -0.46725 |  2.12700 |  1.65653 |  1.11406 | ⋯ | CL3 | CL0 | CL0 | CL3 | CL3 | CL0 | CL3 | CL6 | CL0 | CL2 |\n",
       "\n"
      ],
      "text/plain": [
       "     ID   Age      Gender   Education Country  Ethnicity Neuroticism\n",
       "1    1     0.49788  0.48246 -0.05921  0.96082   0.12600   0.31287   \n",
       "2    2    -0.07854 -0.48246  1.98437  0.96082  -0.31685  -0.67825   \n",
       "3    3     0.49788 -0.48246 -0.05921  0.96082  -0.31685  -0.46725   \n",
       "4    4    -0.95197  0.48246  1.16365  0.96082  -0.31685  -0.14882   \n",
       "⋮    ⋮    ⋮        ⋮        ⋮         ⋮        ⋮         ⋮          \n",
       "1883 1886 -0.07854  0.48246  0.45468  -0.57009 -0.31685   1.13281   \n",
       "1884 1887 -0.95197  0.48246 -0.61113  -0.57009 -0.31685   0.91093   \n",
       "1885 1888 -0.95197 -0.48246 -0.61113   0.21128 -0.31685  -0.46725   \n",
       "     Extraversion Openness_to_Experience Agreeableness ⋯ Ecstacy Heorin LegalH\n",
       "1    -0.57545     -0.58331               -0.91699      ⋯ CL0     CL0    CL0   \n",
       "2     1.93886      1.43533                0.76096      ⋯ CL4     CL0    CL2   \n",
       "3     0.80523     -0.84732               -1.62090      ⋯ CL0     CL0    CL0   \n",
       "4    -0.80615     -0.01928                0.59042      ⋯ CL0     CL0    CL2   \n",
       "⋮    ⋮            ⋮                      ⋮             ⋱ ⋮       ⋮      ⋮     \n",
       "1883 -1.37639     -1.27553               -1.77200      ⋯ CL4     CL0    CL2   \n",
       "1884 -1.92173      0.29338               -1.62090      ⋯ CL3     CL0    CL0   \n",
       "1885  2.12700      1.65653                1.11406      ⋯ CL3     CL0    CL0   \n",
       "     LSD Meth Mushrooms Nicotine Semer VSA <NA>\n",
       "1    CL0 CL0  CL0       CL0      CL2   CL0 CL0 \n",
       "2    CL0 CL2  CL3       CL0      CL4   CL0 CL0 \n",
       "3    CL0 CL0  CL0       CL1      CL0   CL0 CL0 \n",
       "4    CL0 CL0  CL0       CL0      CL2   CL0 CL0 \n",
       "⋮    ⋮   ⋮    ⋮         ⋮        ⋮     ⋮   ⋮   \n",
       "1883 CL0 CL2  CL0       CL2      CL6   CL0 CL0 \n",
       "1884 CL3 CL3  CL0       CL3      CL4   CL0 CL0 \n",
       "1885 CL3 CL3  CL0       CL3      CL6   CL0 CL2 "
      ]
     },
     "metadata": {},
     "output_type": "display_data"
    }
   ],
   "source": [
    "drugs_data <- read_csv(\"data_sets_project/drug_consumption.csv\", col_names = FALSE)\n",
    "colnames(drugs_data) <- c(\"ID\", \"Age\", \"Gender\", \"Education\", \"Country\", \"Ethnicity\", \"Neuroticism\", \"Extraversion\", \n",
    "                          \"Openness_to_Experience\", \"Agreeableness\", \"Conscientiousness\", \"Impulsiveness\", \n",
    "                          \"Sensation_Seeing\", \"Alcohol\", \"Amphet\", \"Amyl\", \"Benzos\", \"Caff\", \"Cannabis\", \"Choc\", \"Coke\",\n",
    "                          \"Crack\", \"Ecstacy\", \"Heorin\", \"LegalH\", \"LSD\", \"Meth\", \"Mushrooms\", \"Nicotine\", \"Semer\", \"VSA\")\n",
    "drugs_data"
   ]
  },
  {
   "cell_type": "markdown",
   "id": "d88fd6ae-bc67-4281-a58c-3a9cef457813",
   "metadata": {},
   "source": [
    "Each row represents an individual and each column represents an attribute assigned to that individual. Thus, the data is in tidy format as each row corresponds to a single observation, each column a single variable and each cell holds a unique value. "
   ]
  },
  {
   "cell_type": "markdown",
   "id": "6820e9ea-4e39-4bb8-a77a-9603e9a4c9a9",
   "metadata": {},
   "source": [
    "### Selecting the variables\n",
    "Since we are trying to predict the frequency of alcohol consumption based on each individual's personality traits, we only need to focus on the columns 'Neuroticism', 'Extraversion', 'Openness_to_Experience', 'Agrreableness', 'Impulsiveness', 'Conscientiousness' and of course 'Alcohol'. We would also like to see how the consumption levels vary across different age categories. So we will also include the column 'Age'."
   ]
  },
  {
   "cell_type": "code",
   "execution_count": 34,
   "id": "4b1da021-2949-4e02-b17c-62712ea52c55",
   "metadata": {},
   "outputs": [
    {
     "data": {
      "text/html": [
       "<table class=\"dataframe\">\n",
       "<caption>A tibble: 1885 × 8</caption>\n",
       "<thead>\n",
       "\t<tr><th scope=col>Age</th><th scope=col>Neuroticism</th><th scope=col>Extraversion</th><th scope=col>Openness_to_Experience</th><th scope=col>Agreeableness</th><th scope=col>Impulsiveness</th><th scope=col>Conscientiousness</th><th scope=col>Alcohol</th></tr>\n",
       "\t<tr><th scope=col>&lt;dbl&gt;</th><th scope=col>&lt;dbl&gt;</th><th scope=col>&lt;dbl&gt;</th><th scope=col>&lt;dbl&gt;</th><th scope=col>&lt;dbl&gt;</th><th scope=col>&lt;dbl&gt;</th><th scope=col>&lt;dbl&gt;</th><th scope=col>&lt;chr&gt;</th></tr>\n",
       "</thead>\n",
       "<tbody>\n",
       "\t<tr><td> 0.49788</td><td> 0.31287</td><td>-0.57545</td><td>-0.58331</td><td>-0.91699</td><td>-0.21712</td><td>-0.00665</td><td>CL5</td></tr>\n",
       "\t<tr><td>-0.07854</td><td>-0.67825</td><td> 1.93886</td><td> 1.43533</td><td> 0.76096</td><td>-0.71126</td><td>-0.14277</td><td>CL5</td></tr>\n",
       "\t<tr><td> 0.49788</td><td>-0.46725</td><td> 0.80523</td><td>-0.84732</td><td>-1.62090</td><td>-1.37983</td><td>-1.01450</td><td>CL6</td></tr>\n",
       "\t<tr><td>-0.95197</td><td>-0.14882</td><td>-0.80615</td><td>-0.01928</td><td> 0.59042</td><td>-1.37983</td><td> 0.58489</td><td>CL4</td></tr>\n",
       "\t<tr><td>⋮</td><td>⋮</td><td>⋮</td><td>⋮</td><td>⋮</td><td>⋮</td><td>⋮</td><td>⋮</td></tr>\n",
       "\t<tr><td>-0.07854</td><td> 1.13281</td><td>-1.37639</td><td>-1.27553</td><td>-1.77200</td><td>0.52975</td><td>-1.38502</td><td>CL4</td></tr>\n",
       "\t<tr><td>-0.95197</td><td> 0.91093</td><td>-1.92173</td><td> 0.29338</td><td>-1.62090</td><td>1.29221</td><td>-2.57309</td><td>CL5</td></tr>\n",
       "\t<tr><td>-0.95197</td><td>-0.46725</td><td> 2.12700</td><td> 1.65653</td><td> 1.11406</td><td>0.88113</td><td> 0.41594</td><td>CL4</td></tr>\n",
       "</tbody>\n",
       "</table>\n"
      ],
      "text/latex": [
       "A tibble: 1885 × 8\n",
       "\\begin{tabular}{llllllll}\n",
       " Age & Neuroticism & Extraversion & Openness\\_to\\_Experience & Agreeableness & Impulsiveness & Conscientiousness & Alcohol\\\\\n",
       " <dbl> & <dbl> & <dbl> & <dbl> & <dbl> & <dbl> & <dbl> & <chr>\\\\\n",
       "\\hline\n",
       "\t  0.49788 &  0.31287 & -0.57545 & -0.58331 & -0.91699 & -0.21712 & -0.00665 & CL5\\\\\n",
       "\t -0.07854 & -0.67825 &  1.93886 &  1.43533 &  0.76096 & -0.71126 & -0.14277 & CL5\\\\\n",
       "\t  0.49788 & -0.46725 &  0.80523 & -0.84732 & -1.62090 & -1.37983 & -1.01450 & CL6\\\\\n",
       "\t -0.95197 & -0.14882 & -0.80615 & -0.01928 &  0.59042 & -1.37983 &  0.58489 & CL4\\\\\n",
       "\t ⋮ & ⋮ & ⋮ & ⋮ & ⋮ & ⋮ & ⋮ & ⋮\\\\\n",
       "\t -0.07854 &  1.13281 & -1.37639 & -1.27553 & -1.77200 & 0.52975 & -1.38502 & CL4\\\\\n",
       "\t -0.95197 &  0.91093 & -1.92173 &  0.29338 & -1.62090 & 1.29221 & -2.57309 & CL5\\\\\n",
       "\t -0.95197 & -0.46725 &  2.12700 &  1.65653 &  1.11406 & 0.88113 &  0.41594 & CL4\\\\\n",
       "\\end{tabular}\n"
      ],
      "text/markdown": [
       "\n",
       "A tibble: 1885 × 8\n",
       "\n",
       "| Age &lt;dbl&gt; | Neuroticism &lt;dbl&gt; | Extraversion &lt;dbl&gt; | Openness_to_Experience &lt;dbl&gt; | Agreeableness &lt;dbl&gt; | Impulsiveness &lt;dbl&gt; | Conscientiousness &lt;dbl&gt; | Alcohol &lt;chr&gt; |\n",
       "|---|---|---|---|---|---|---|---|\n",
       "|  0.49788 |  0.31287 | -0.57545 | -0.58331 | -0.91699 | -0.21712 | -0.00665 | CL5 |\n",
       "| -0.07854 | -0.67825 |  1.93886 |  1.43533 |  0.76096 | -0.71126 | -0.14277 | CL5 |\n",
       "|  0.49788 | -0.46725 |  0.80523 | -0.84732 | -1.62090 | -1.37983 | -1.01450 | CL6 |\n",
       "| -0.95197 | -0.14882 | -0.80615 | -0.01928 |  0.59042 | -1.37983 |  0.58489 | CL4 |\n",
       "| ⋮ | ⋮ | ⋮ | ⋮ | ⋮ | ⋮ | ⋮ | ⋮ |\n",
       "| -0.07854 |  1.13281 | -1.37639 | -1.27553 | -1.77200 | 0.52975 | -1.38502 | CL4 |\n",
       "| -0.95197 |  0.91093 | -1.92173 |  0.29338 | -1.62090 | 1.29221 | -2.57309 | CL5 |\n",
       "| -0.95197 | -0.46725 |  2.12700 |  1.65653 |  1.11406 | 0.88113 |  0.41594 | CL4 |\n",
       "\n"
      ],
      "text/plain": [
       "     Age      Neuroticism Extraversion Openness_to_Experience Agreeableness\n",
       "1     0.49788  0.31287    -0.57545     -0.58331               -0.91699     \n",
       "2    -0.07854 -0.67825     1.93886      1.43533                0.76096     \n",
       "3     0.49788 -0.46725     0.80523     -0.84732               -1.62090     \n",
       "4    -0.95197 -0.14882    -0.80615     -0.01928                0.59042     \n",
       "⋮    ⋮        ⋮           ⋮            ⋮                      ⋮            \n",
       "1883 -0.07854  1.13281    -1.37639     -1.27553               -1.77200     \n",
       "1884 -0.95197  0.91093    -1.92173      0.29338               -1.62090     \n",
       "1885 -0.95197 -0.46725     2.12700      1.65653                1.11406     \n",
       "     Impulsiveness Conscientiousness Alcohol\n",
       "1    -0.21712      -0.00665          CL5    \n",
       "2    -0.71126      -0.14277          CL5    \n",
       "3    -1.37983      -1.01450          CL6    \n",
       "4    -1.37983       0.58489          CL4    \n",
       "⋮    ⋮             ⋮                 ⋮      \n",
       "1883 0.52975       -1.38502          CL4    \n",
       "1884 1.29221       -2.57309          CL5    \n",
       "1885 0.88113        0.41594          CL4    "
      ]
     },
     "metadata": {},
     "output_type": "display_data"
    }
   ],
   "source": [
    "alcohol_data <- select(drugs_data, Age, Neuroticism,\n",
    "                       Extraversion, Openness_to_Experience,\n",
    "                       Agreeableness, Impulsiveness, Conscientiousness, Alcohol)\n",
    "alcohol_data"
   ]
  },
  {
   "cell_type": "markdown",
   "id": "d307ea01-f2a1-4287-b263-e45a19fb338c",
   "metadata": {},
   "source": [
    "### Summarizing data\n",
    "We are going to use only training data from this point on for our data exploration. "
   ]
  },
  {
   "cell_type": "code",
   "execution_count": 35,
   "id": "1e0820d4-6ab8-447d-8087-45a47f8ba725",
   "metadata": {},
   "outputs": [
    {
     "data": {
      "text/html": [
       "<table class=\"dataframe\">\n",
       "<caption>A tibble: 1412 × 8</caption>\n",
       "<thead>\n",
       "\t<tr><th scope=col>Age</th><th scope=col>Neuroticism</th><th scope=col>Extraversion</th><th scope=col>Openness_to_Experience</th><th scope=col>Agreeableness</th><th scope=col>Impulsiveness</th><th scope=col>Conscientiousness</th><th scope=col>Alcohol</th></tr>\n",
       "\t<tr><th scope=col>&lt;dbl&gt;</th><th scope=col>&lt;dbl&gt;</th><th scope=col>&lt;dbl&gt;</th><th scope=col>&lt;dbl&gt;</th><th scope=col>&lt;dbl&gt;</th><th scope=col>&lt;dbl&gt;</th><th scope=col>&lt;dbl&gt;</th><th scope=col>&lt;chr&gt;</th></tr>\n",
       "</thead>\n",
       "<tbody>\n",
       "\t<tr><td>0.49788</td><td>-1.19430</td><td>-0.80615</td><td> 0.14143</td><td>-0.60633</td><td>-1.37983</td><td>-0.00665</td><td>CL3</td></tr>\n",
       "\t<tr><td>2.59171</td><td>-0.24649</td><td>-0.80615</td><td>-2.63199</td><td>-0.30172</td><td> 0.52975</td><td>-0.78155</td><td>CL3</td></tr>\n",
       "\t<tr><td>1.82213</td><td> 0.04257</td><td>-0.69509</td><td>-1.11902</td><td>-0.45321</td><td>-1.37983</td><td>-0.40581</td><td>CL3</td></tr>\n",
       "\t<tr><td>2.59171</td><td>-1.19430</td><td>-1.76250</td><td>-2.85950</td><td>-1.47955</td><td> 0.52975</td><td> 0.25953</td><td>CL3</td></tr>\n",
       "\t<tr><td>⋮</td><td>⋮</td><td>⋮</td><td>⋮</td><td>⋮</td><td>⋮</td><td>⋮</td><td>⋮</td></tr>\n",
       "\t<tr><td>-0.95197</td><td> 1.02119</td><td>-0.43999</td><td> 1.43533</td><td>-1.07533</td><td>-0.71126</td><td> 0.12331</td><td>CL6</td></tr>\n",
       "\t<tr><td>-0.07854</td><td>-0.14882</td><td>-0.57545</td><td> 1.43533</td><td>-0.91699</td><td> 0.52975</td><td>-0.78155</td><td>CL6</td></tr>\n",
       "\t<tr><td>-0.95197</td><td> 1.49158</td><td>-1.92173</td><td>-0.58331</td><td>-1.77200</td><td>-0.21712</td><td> 0.58489</td><td>CL6</td></tr>\n",
       "</tbody>\n",
       "</table>\n"
      ],
      "text/latex": [
       "A tibble: 1412 × 8\n",
       "\\begin{tabular}{llllllll}\n",
       " Age & Neuroticism & Extraversion & Openness\\_to\\_Experience & Agreeableness & Impulsiveness & Conscientiousness & Alcohol\\\\\n",
       " <dbl> & <dbl> & <dbl> & <dbl> & <dbl> & <dbl> & <dbl> & <chr>\\\\\n",
       "\\hline\n",
       "\t 0.49788 & -1.19430 & -0.80615 &  0.14143 & -0.60633 & -1.37983 & -0.00665 & CL3\\\\\n",
       "\t 2.59171 & -0.24649 & -0.80615 & -2.63199 & -0.30172 &  0.52975 & -0.78155 & CL3\\\\\n",
       "\t 1.82213 &  0.04257 & -0.69509 & -1.11902 & -0.45321 & -1.37983 & -0.40581 & CL3\\\\\n",
       "\t 2.59171 & -1.19430 & -1.76250 & -2.85950 & -1.47955 &  0.52975 &  0.25953 & CL3\\\\\n",
       "\t ⋮ & ⋮ & ⋮ & ⋮ & ⋮ & ⋮ & ⋮ & ⋮\\\\\n",
       "\t -0.95197 &  1.02119 & -0.43999 &  1.43533 & -1.07533 & -0.71126 &  0.12331 & CL6\\\\\n",
       "\t -0.07854 & -0.14882 & -0.57545 &  1.43533 & -0.91699 &  0.52975 & -0.78155 & CL6\\\\\n",
       "\t -0.95197 &  1.49158 & -1.92173 & -0.58331 & -1.77200 & -0.21712 &  0.58489 & CL6\\\\\n",
       "\\end{tabular}\n"
      ],
      "text/markdown": [
       "\n",
       "A tibble: 1412 × 8\n",
       "\n",
       "| Age &lt;dbl&gt; | Neuroticism &lt;dbl&gt; | Extraversion &lt;dbl&gt; | Openness_to_Experience &lt;dbl&gt; | Agreeableness &lt;dbl&gt; | Impulsiveness &lt;dbl&gt; | Conscientiousness &lt;dbl&gt; | Alcohol &lt;chr&gt; |\n",
       "|---|---|---|---|---|---|---|---|\n",
       "| 0.49788 | -1.19430 | -0.80615 |  0.14143 | -0.60633 | -1.37983 | -0.00665 | CL3 |\n",
       "| 2.59171 | -0.24649 | -0.80615 | -2.63199 | -0.30172 |  0.52975 | -0.78155 | CL3 |\n",
       "| 1.82213 |  0.04257 | -0.69509 | -1.11902 | -0.45321 | -1.37983 | -0.40581 | CL3 |\n",
       "| 2.59171 | -1.19430 | -1.76250 | -2.85950 | -1.47955 |  0.52975 |  0.25953 | CL3 |\n",
       "| ⋮ | ⋮ | ⋮ | ⋮ | ⋮ | ⋮ | ⋮ | ⋮ |\n",
       "| -0.95197 |  1.02119 | -0.43999 |  1.43533 | -1.07533 | -0.71126 |  0.12331 | CL6 |\n",
       "| -0.07854 | -0.14882 | -0.57545 |  1.43533 | -0.91699 |  0.52975 | -0.78155 | CL6 |\n",
       "| -0.95197 |  1.49158 | -1.92173 | -0.58331 | -1.77200 | -0.21712 |  0.58489 | CL6 |\n",
       "\n"
      ],
      "text/plain": [
       "     Age      Neuroticism Extraversion Openness_to_Experience Agreeableness\n",
       "1    0.49788  -1.19430    -0.80615      0.14143               -0.60633     \n",
       "2    2.59171  -0.24649    -0.80615     -2.63199               -0.30172     \n",
       "3    1.82213   0.04257    -0.69509     -1.11902               -0.45321     \n",
       "4    2.59171  -1.19430    -1.76250     -2.85950               -1.47955     \n",
       "⋮    ⋮        ⋮           ⋮            ⋮                      ⋮            \n",
       "1410 -0.95197  1.02119    -0.43999      1.43533               -1.07533     \n",
       "1411 -0.07854 -0.14882    -0.57545      1.43533               -0.91699     \n",
       "1412 -0.95197  1.49158    -1.92173     -0.58331               -1.77200     \n",
       "     Impulsiveness Conscientiousness Alcohol\n",
       "1    -1.37983      -0.00665          CL3    \n",
       "2     0.52975      -0.78155          CL3    \n",
       "3    -1.37983      -0.40581          CL3    \n",
       "4     0.52975       0.25953          CL3    \n",
       "⋮    ⋮             ⋮                 ⋮      \n",
       "1410 -0.71126       0.12331          CL6    \n",
       "1411  0.52975      -0.78155          CL6    \n",
       "1412 -0.21712       0.58489          CL6    "
      ]
     },
     "metadata": {},
     "output_type": "display_data"
    }
   ],
   "source": [
    "alcohol_split <- initial_split(alcohol_data, prop = 0.75, strata = Alcohol)\n",
    "alcohol_train <- training(alcohol_split)\n",
    "alcohol_train"
   ]
  },
  {
   "cell_type": "markdown",
   "id": "1486d967-881f-461a-91a0-7404271db67e",
   "metadata": {},
   "source": [
    "First, we will see how many observations are there for each class of alcohol consumption."
   ]
  },
  {
   "cell_type": "code",
   "execution_count": 36,
   "id": "9fcf6d75-0543-45f8-ad2c-0d054fa2bfaf",
   "metadata": {},
   "outputs": [
    {
     "data": {
      "text/html": [
       "<table class=\"dataframe\">\n",
       "<caption>A tibble: 7 × 2</caption>\n",
       "<thead>\n",
       "\t<tr><th scope=col>Alcohol</th><th scope=col>n</th></tr>\n",
       "\t<tr><th scope=col>&lt;chr&gt;</th><th scope=col>&lt;int&gt;</th></tr>\n",
       "</thead>\n",
       "<tbody>\n",
       "\t<tr><td>CL0</td><td> 22</td></tr>\n",
       "\t<tr><td>CL1</td><td> 24</td></tr>\n",
       "\t<tr><td>CL2</td><td> 50</td></tr>\n",
       "\t<tr><td>CL3</td><td>149</td></tr>\n",
       "\t<tr><td>CL4</td><td>215</td></tr>\n",
       "\t<tr><td>CL5</td><td>571</td></tr>\n",
       "\t<tr><td>CL6</td><td>381</td></tr>\n",
       "</tbody>\n",
       "</table>\n"
      ],
      "text/latex": [
       "A tibble: 7 × 2\n",
       "\\begin{tabular}{ll}\n",
       " Alcohol & n\\\\\n",
       " <chr> & <int>\\\\\n",
       "\\hline\n",
       "\t CL0 &  22\\\\\n",
       "\t CL1 &  24\\\\\n",
       "\t CL2 &  50\\\\\n",
       "\t CL3 & 149\\\\\n",
       "\t CL4 & 215\\\\\n",
       "\t CL5 & 571\\\\\n",
       "\t CL6 & 381\\\\\n",
       "\\end{tabular}\n"
      ],
      "text/markdown": [
       "\n",
       "A tibble: 7 × 2\n",
       "\n",
       "| Alcohol &lt;chr&gt; | n &lt;int&gt; |\n",
       "|---|---|\n",
       "| CL0 |  22 |\n",
       "| CL1 |  24 |\n",
       "| CL2 |  50 |\n",
       "| CL3 | 149 |\n",
       "| CL4 | 215 |\n",
       "| CL5 | 571 |\n",
       "| CL6 | 381 |\n",
       "\n"
      ],
      "text/plain": [
       "  Alcohol n  \n",
       "1 CL0      22\n",
       "2 CL1      24\n",
       "3 CL2      50\n",
       "4 CL3     149\n",
       "5 CL4     215\n",
       "6 CL5     571\n",
       "7 CL6     381"
      ]
     },
     "metadata": {},
     "output_type": "display_data"
    }
   ],
   "source": [
    "alcohol_count <- group_by(alcohol_train, Alcohol) |>\n",
    "                 summarize(n = n())\n",
    "alcohol_count"
   ]
  },
  {
   "cell_type": "markdown",
   "id": "727b1019-7f76-4afb-8b36-d8c0a49c154a",
   "metadata": {},
   "source": [
    "As you can see, most of the individuals belong to the class 'CL6'. To make it more clear, we will rename the classes."
   ]
  },
  {
   "cell_type": "code",
   "execution_count": 37,
   "id": "3e9de798-68bc-480e-9f43-1cbb177ce189",
   "metadata": {},
   "outputs": [
    {
     "name": "stderr",
     "output_type": "stream",
     "text": [
      "\u001b[1m\u001b[22mNew names:\n",
      "\u001b[36m•\u001b[39m `` -> `...1`\n"
     ]
    },
    {
     "data": {
      "text/html": [
       "<table class=\"dataframe\">\n",
       "<caption>A tibble: 7 × 3</caption>\n",
       "<thead>\n",
       "\t<tr><th scope=col>Meaning</th><th scope=col>Class</th><th scope=col>No. of Individuals</th></tr>\n",
       "\t<tr><th scope=col>&lt;chr&gt;</th><th scope=col>&lt;chr&gt;</th><th scope=col>&lt;int&gt;</th></tr>\n",
       "</thead>\n",
       "<tbody>\n",
       "\t<tr><td>Never Used            </td><td>CL0</td><td> 22</td></tr>\n",
       "\t<tr><td>Used over a Decade Ago</td><td>CL1</td><td> 24</td></tr>\n",
       "\t<tr><td>Used in Last Decade   </td><td>CL2</td><td> 50</td></tr>\n",
       "\t<tr><td>Used in Last Year     </td><td>CL3</td><td>149</td></tr>\n",
       "\t<tr><td>Used in Last Month    </td><td>CL4</td><td>215</td></tr>\n",
       "\t<tr><td>Used in Last Week     </td><td>CL5</td><td>571</td></tr>\n",
       "\t<tr><td>Used in Last Day      </td><td>CL6</td><td>381</td></tr>\n",
       "</tbody>\n",
       "</table>\n"
      ],
      "text/latex": [
       "A tibble: 7 × 3\n",
       "\\begin{tabular}{lll}\n",
       " Meaning & Class & No. of Individuals\\\\\n",
       " <chr> & <chr> & <int>\\\\\n",
       "\\hline\n",
       "\t Never Used             & CL0 &  22\\\\\n",
       "\t Used over a Decade Ago & CL1 &  24\\\\\n",
       "\t Used in Last Decade    & CL2 &  50\\\\\n",
       "\t Used in Last Year      & CL3 & 149\\\\\n",
       "\t Used in Last Month     & CL4 & 215\\\\\n",
       "\t Used in Last Week      & CL5 & 571\\\\\n",
       "\t Used in Last Day       & CL6 & 381\\\\\n",
       "\\end{tabular}\n"
      ],
      "text/markdown": [
       "\n",
       "A tibble: 7 × 3\n",
       "\n",
       "| Meaning &lt;chr&gt; | Class &lt;chr&gt; | No. of Individuals &lt;int&gt; |\n",
       "|---|---|---|\n",
       "| Never Used             | CL0 |  22 |\n",
       "| Used over a Decade Ago | CL1 |  24 |\n",
       "| Used in Last Decade    | CL2 |  50 |\n",
       "| Used in Last Year      | CL3 | 149 |\n",
       "| Used in Last Month     | CL4 | 215 |\n",
       "| Used in Last Week      | CL5 | 571 |\n",
       "| Used in Last Day       | CL6 | 381 |\n",
       "\n"
      ],
      "text/plain": [
       "  Meaning                Class No. of Individuals\n",
       "1 Never Used             CL0    22               \n",
       "2 Used over a Decade Ago CL1    24               \n",
       "3 Used in Last Decade    CL2    50               \n",
       "4 Used in Last Year      CL3   149               \n",
       "5 Used in Last Month     CL4   215               \n",
       "6 Used in Last Week      CL5   571               \n",
       "7 Used in Last Day       CL6   381               "
      ]
     },
     "metadata": {},
     "output_type": "display_data"
    }
   ],
   "source": [
    "meaning <- c(\"Never Used\", \"Used over a Decade Ago\", \"Used in Last Decade\",\n",
    "             \"Used in Last Year\", \"Used in Last Month\", \"Used in Last Week\", \"Used in Last Day\")\n",
    "alcohol_count_meaning <- bind_cols(meaning, alcohol_count)\n",
    "colnames(alcohol_count_meaning) <- c(\"Meaning\", \"Class\", \"No. of Individuals\")\n",
    "alcohol_count_meaning"
   ]
  },
  {
   "cell_type": "markdown",
   "id": "81fd9390-2111-4935-90a7-a3832b61456e",
   "metadata": {},
   "source": [
    "Thus, most of the individuals consumed alcohol in the last week. We will also find out the mean for each of the personality attributes. However, the values for the attributes in the data set do not reflect their true values probably because they have been standarized. So we will provide the true values when we find out the means for these variables except for the variable 'Impulsiveness' because only the standardized values have been provided for it in the data set information page."
   ]
  },
  {
   "cell_type": "code",
   "execution_count": 45,
   "id": "5842fed3-6f6c-4261-9024-54d50894148e",
   "metadata": {},
   "outputs": [
    {
     "name": "stderr",
     "output_type": "stream",
     "text": [
      "\u001b[1m\u001b[22mNew names:\n",
      "\u001b[36m•\u001b[39m `` -> `...3`\n",
      "\u001b[36m•\u001b[39m `` -> `...4`\n"
     ]
    },
    {
     "data": {
      "text/html": [
       "<table class=\"dataframe\">\n",
       "<caption>A tibble: 6 × 4</caption>\n",
       "<thead>\n",
       "\t<tr><th scope=col>Personality Trait</th><th scope=col>Mean</th><th scope=col>Closest True Value</th><th scope=col>Range of True Values</th></tr>\n",
       "\t<tr><th scope=col>&lt;chr&gt;</th><th scope=col>&lt;dbl&gt;</th><th scope=col>&lt;chr&gt;</th><th scope=col>&lt;chr&gt;</th></tr>\n",
       "</thead>\n",
       "<tbody>\n",
       "\t<tr><td>Neuroticism           </td><td>-0.0099988102</td><td>36</td><td>12-60</td></tr>\n",
       "\t<tr><td>Extraversion          </td><td>-0.0005180241</td><td>41</td><td>16-59</td></tr>\n",
       "\t<tr><td>Openness_to_Experience</td><td> 0.0105236615</td><td>47</td><td>24-60</td></tr>\n",
       "\t<tr><td>Agreeableness         </td><td>-0.0058394901</td><td>43</td><td>12-60</td></tr>\n",
       "\t<tr><td>Impulsiveness         </td><td> 0.0144916289</td><td>NA</td><td>NA   </td></tr>\n",
       "\t<tr><td>Conscientiousness     </td><td> 0.0023146246</td><td>42</td><td>17-59</td></tr>\n",
       "</tbody>\n",
       "</table>\n"
      ],
      "text/latex": [
       "A tibble: 6 × 4\n",
       "\\begin{tabular}{llll}\n",
       " Personality Trait & Mean & Closest True Value & Range of True Values\\\\\n",
       " <chr> & <dbl> & <chr> & <chr>\\\\\n",
       "\\hline\n",
       "\t Neuroticism            & -0.0099988102 & 36 & 12-60\\\\\n",
       "\t Extraversion           & -0.0005180241 & 41 & 16-59\\\\\n",
       "\t Openness\\_to\\_Experience &  0.0105236615 & 47 & 24-60\\\\\n",
       "\t Agreeableness          & -0.0058394901 & 43 & 12-60\\\\\n",
       "\t Impulsiveness          &  0.0144916289 & NA & NA   \\\\\n",
       "\t Conscientiousness      &  0.0023146246 & 42 & 17-59\\\\\n",
       "\\end{tabular}\n"
      ],
      "text/markdown": [
       "\n",
       "A tibble: 6 × 4\n",
       "\n",
       "| Personality Trait &lt;chr&gt; | Mean &lt;dbl&gt; | Closest True Value &lt;chr&gt; | Range of True Values &lt;chr&gt; |\n",
       "|---|---|---|---|\n",
       "| Neuroticism            | -0.0099988102 | 36 | 12-60 |\n",
       "| Extraversion           | -0.0005180241 | 41 | 16-59 |\n",
       "| Openness_to_Experience |  0.0105236615 | 47 | 24-60 |\n",
       "| Agreeableness          | -0.0058394901 | 43 | 12-60 |\n",
       "| Impulsiveness          |  0.0144916289 | NA | NA    |\n",
       "| Conscientiousness      |  0.0023146246 | 42 | 17-59 |\n",
       "\n"
      ],
      "text/plain": [
       "  Personality Trait      Mean          Closest True Value Range of True Values\n",
       "1 Neuroticism            -0.0099988102 36                 12-60               \n",
       "2 Extraversion           -0.0005180241 41                 16-59               \n",
       "3 Openness_to_Experience  0.0105236615 47                 24-60               \n",
       "4 Agreeableness          -0.0058394901 43                 12-60               \n",
       "5 Impulsiveness           0.0144916289 NA                 NA                  \n",
       "6 Conscientiousness       0.0023146246 42                 17-59               "
      ]
     },
     "metadata": {},
     "output_type": "display_data"
    }
   ],
   "source": [
    "attributes_mean <- alcohol_train |>\n",
    "                   select(Neuroticism:Conscientiousness) |>\n",
    "                   map_dfc(mean) |>\n",
    "                   pivot_longer(cols = Neuroticism:Conscientiousness,\n",
    "                               names_to = \"Personality Trait\",\n",
    "                               values_to = \"Mean\") |>\n",
    "                   bind_cols(c(\"36\", \"41\", \"47\", \"43\", \"NA\", \"42\"),\n",
    "                             c(\"12-60\", \"16-59\", \"24-60\", \"12-60\", \"NA\", \"17-59\"))\n",
    "colnames(attributes_mean) <- c(\"Personality Trait\", \"Mean\", \"Closest True Value\", \"Range of True Values\")\n",
    "attributes_mean"
   ]
  },
  {
   "cell_type": "code",
   "execution_count": null,
   "id": "a5e6b4bb-af44-497f-a110-fe84afc47491",
   "metadata": {},
   "outputs": [],
   "source": []
  }
 ],
 "metadata": {
  "kernelspec": {
   "display_name": "R",
   "language": "R",
   "name": "ir"
  },
  "language_info": {
   "codemirror_mode": "r",
   "file_extension": ".r",
   "mimetype": "text/x-r-source",
   "name": "R",
   "pygments_lexer": "r",
   "version": "4.1.3"
  }
 },
 "nbformat": 4,
 "nbformat_minor": 5
}

{
 "cells": [
  {
   "cell_type": "markdown",
   "id": "e528fa92-e1d2-41f3-b0e0-138b9822ec62",
   "metadata": {},
   "source": [
    "# Final Report"
   ]
  },
  {
   "cell_type": "markdown",
   "id": "cc862b84-3e65-4e38-af8f-52463ba7f289",
   "metadata": {},
   "source": [
    "## Introduction\n",
    "The dataset contains 32 columns. Each column corresponds to a specific attribute for each participant. The values in all columns were originally categorical but have been quantified to real numbers in the dataset. The level of consumption, however, for each drug is categorical and contains the following classes:\n",
    "\n",
    "While not the most dangerous, alcohol is one of the most popular drugs in the world. Its consumption is not only popularized but normalized in modern society, regardless of any negative effects it may have. Many mental factors, such as impulsiveness and neuroticism, can affect how often one consumes alcohol. Furthermore, minimum legal ages fail to stop children and young teens from consuming alcohol. The question we aimed to answer in this project is “How can we predict the frequency of alcohol consumption based on certain aspects of an individual’s personality?” The dataset we are using to answer this question is a quantified drug consumption dataset. The dataset contains information about 1885 unique individuals. Each entry contains 12 attributes such as personality measurements, age, ethnicity, and etc; all of which are quantified and standardized. In addition, the dataset contains information regarding these individuals’ use of 18 drugs, ranging from chocolate to heroin, and one fictitious drug (semeron) to filter out false claims. Each value in the drug columns reflects the recency of an individual’s use of a certain drug, ranging from “Never Used” to “Used in Last Day.”\n",
    "\n",
    "- CLO: Never used\n",
    "- CL1: Used over a decade ago\n",
    "- CL2: Used in last decade\n",
    "- CL3: Used in last year\n",
    "- CL4: Used in last month\n",
    "- CL5: Used in last week\n",
    "- CL6: Used in last day\n",
    "\n",
    "Alongside the legal and illegal drugs in the dataset, there is a fictitious drug called Semeron which was used in the survey to identiy over-claimers. Here is information regarding all the columns:\n",
    "\n",
    "- ID \n",
    "- Age (18-65+)\n",
    "- Gender\n",
    "- Education (level of education)\n",
    "- Country (country of residence)\n",
    "- Ethnicity (ethnicity)\n",
    "- Nscore (measurement of neuroticism)\n",
    "    + 12 to 60 (actual)\n",
    "    + -3.46436 to 3.27393 (quantified)\n",
    "- Escore (measurement of extraversion) \n",
    "    + 16 to 59 (actual)\n",
    "    + -3.27393 to 3.27393 (quantified)\n",
    "- Oscore (openness to experience)\n",
    "    + 24 to 60 (actual)\n",
    "    + -3.27393 to 2.90161 (quantified)\n",
    "- Ascore (measurement of agreeableness)\n",
    "    + 12 to 60 (actual)\n",
    "    + -3.46436 to 3.46436 (quantified)\n",
    "- Cscore (measurement of conscientiousness)\n",
    "    + 17 to 59 (actual)\n",
    "    + -3.46436 to 3.46436 (quantified)\n",
    "- IScore (measurement of impulsiveness)\n",
    "    + no actual values were provided\n",
    "    + -2.55524 to 2.90161 (quantified)\n",
    "- SS (measurement of sensation seeking)\n",
    "    + no actual values were provided\n",
    "    + -2.07848 to 1.92173 (quantified)\n",
    "- Alcohol (level alcohol consumption)\n",
    "- Amphetamines (level of amphetamines consumption)\n",
    "- AmylNitrate (level of amyl nitrite consumption)\n",
    "- Benzodiazepine (level of benzodiazepine consumption)\n",
    "- Caffeine (level of caffeine consumption)\n",
    "- Cannabis (level of cannabis consumption)\n",
    "- Chocolate (level of chocolate consumption)\n",
    "- Cocaine (level of cocaine consumption)\n",
    "- Crack (level of crack consumption)\n",
    "- Ecstasy (level of ecstasy consumption)\n",
    "- Heroin (level of heroin consumption)\n",
    "- Ketamine (level of ketamine consumption)\n",
    "- LegalHighs (level of legal highs consumption) \n",
    "- LSD is (level of LSD consumption)\n",
    "- Methadone (level of methadone consumption) \n",
    "- Mushrooms (level of magic mushrooms consumption) \n",
    "- Nicotine (level of nicotine consumption)\n",
    "- Semeron (level of fictitious drug Semeron consumption) \n",
    "- VSA (level of volatile substance abuse) "
   ]
  },
  {
   "cell_type": "markdown",
   "id": "d84c0139-f487-4ae2-a00c-e65385f65d69",
   "metadata": {},
   "source": [
    "## Methods and Results\n",
    "\n",
    "### Overview:\n",
    "\n",
    "In order to perform our analysis, we took the following steps: \n",
    "\n",
    "1. **Reading and Wrangling:** We read the data from its original source online, assigned relevant names to the unnamed columns, removed variables we deemed irrelevant to our analysis, and filtered out over-claiming observations\n",
    "2. **Splitting:** We split our data into training and testing sets to perform our analysis\n",
    "3. **Choosing Predictors:** We combined forward selection, predictor distribution, and external research to choose the three predictors we thought fit our analysis best\n",
    "4. **Building and Tuning:** We built and tuned our k-nn classifier using our created recipe and 5-fold cross-validation\n",
    "5. **Classification:** We used the classifier on the testing set to perform our analysis\n",
    "6. **Results and Analysis:** We visualized the results and analyzed what it meant\n",
    "\n",
    "### Loading Libraries"
   ]
  },
  {
   "cell_type": "code",
   "execution_count": 1,
   "id": "41b1364d-17c1-4b0f-9597-e01ec4aecc66",
   "metadata": {},
   "outputs": [
    {
     "name": "stderr",
     "output_type": "stream",
     "text": [
      "── \u001b[1mAttaching packages\u001b[22m ─────────────────────────────────────── tidyverse 1.3.1 ──\n",
      "\n",
      "\u001b[32m✔\u001b[39m \u001b[34mggplot2\u001b[39m 3.3.6     \u001b[32m✔\u001b[39m \u001b[34mpurrr  \u001b[39m 0.3.4\n",
      "\u001b[32m✔\u001b[39m \u001b[34mtibble \u001b[39m 3.1.7     \u001b[32m✔\u001b[39m \u001b[34mdplyr  \u001b[39m 1.0.9\n",
      "\u001b[32m✔\u001b[39m \u001b[34mtidyr  \u001b[39m 1.2.0     \u001b[32m✔\u001b[39m \u001b[34mstringr\u001b[39m 1.4.0\n",
      "\u001b[32m✔\u001b[39m \u001b[34mreadr  \u001b[39m 2.1.2     \u001b[32m✔\u001b[39m \u001b[34mforcats\u001b[39m 0.5.1\n",
      "\n",
      "── \u001b[1mConflicts\u001b[22m ────────────────────────────────────────── tidyverse_conflicts() ──\n",
      "\u001b[31m✖\u001b[39m \u001b[34mdplyr\u001b[39m::\u001b[32mfilter()\u001b[39m masks \u001b[34mstats\u001b[39m::filter()\n",
      "\u001b[31m✖\u001b[39m \u001b[34mdplyr\u001b[39m::\u001b[32mlag()\u001b[39m    masks \u001b[34mstats\u001b[39m::lag()\n",
      "\n",
      "\n",
      "Attaching package: ‘testthat’\n",
      "\n",
      "\n",
      "The following object is masked from ‘package:dplyr’:\n",
      "\n",
      "    matches\n",
      "\n",
      "\n",
      "The following object is masked from ‘package:purrr’:\n",
      "\n",
      "    is_null\n",
      "\n",
      "\n",
      "The following objects are masked from ‘package:readr’:\n",
      "\n",
      "    edition_get, local_edition\n",
      "\n",
      "\n",
      "The following object is masked from ‘package:tidyr’:\n",
      "\n",
      "    matches\n",
      "\n",
      "\n",
      "── \u001b[1mAttaching packages\u001b[22m ────────────────────────────────────── tidymodels 1.0.0 ──\n",
      "\n",
      "\u001b[32m✔\u001b[39m \u001b[34mbroom       \u001b[39m 1.0.0     \u001b[32m✔\u001b[39m \u001b[34mrsample     \u001b[39m 1.0.0\n",
      "\u001b[32m✔\u001b[39m \u001b[34mdials       \u001b[39m 1.0.0     \u001b[32m✔\u001b[39m \u001b[34mtune        \u001b[39m 1.0.0\n",
      "\u001b[32m✔\u001b[39m \u001b[34minfer       \u001b[39m 1.0.2     \u001b[32m✔\u001b[39m \u001b[34mworkflows   \u001b[39m 1.0.0\n",
      "\u001b[32m✔\u001b[39m \u001b[34mmodeldata   \u001b[39m 1.0.0     \u001b[32m✔\u001b[39m \u001b[34mworkflowsets\u001b[39m 1.0.0\n",
      "\u001b[32m✔\u001b[39m \u001b[34mparsnip     \u001b[39m 1.0.0     \u001b[32m✔\u001b[39m \u001b[34myardstick   \u001b[39m 1.0.0\n",
      "\u001b[32m✔\u001b[39m \u001b[34mrecipes     \u001b[39m 1.0.1     \n",
      "\n",
      "── \u001b[1mConflicts\u001b[22m ───────────────────────────────────────── tidymodels_conflicts() ──\n",
      "\u001b[31m✖\u001b[39m \u001b[34mscales\u001b[39m::\u001b[32mdiscard()\u001b[39m   masks \u001b[34mpurrr\u001b[39m::discard()\n",
      "\u001b[31m✖\u001b[39m \u001b[34mdplyr\u001b[39m::\u001b[32mfilter()\u001b[39m     masks \u001b[34mstats\u001b[39m::filter()\n",
      "\u001b[31m✖\u001b[39m \u001b[34mrecipes\u001b[39m::\u001b[32mfixed()\u001b[39m    masks \u001b[34mstringr\u001b[39m::fixed()\n",
      "\u001b[31m✖\u001b[39m \u001b[34mtestthat\u001b[39m::\u001b[32mis_null()\u001b[39m masks \u001b[34mpurrr\u001b[39m::is_null()\n",
      "\u001b[31m✖\u001b[39m \u001b[34mdplyr\u001b[39m::\u001b[32mlag()\u001b[39m        masks \u001b[34mstats\u001b[39m::lag()\n",
      "\u001b[31m✖\u001b[39m \u001b[34mrsample\u001b[39m::\u001b[32mmatches()\u001b[39m  masks \u001b[34mtestthat\u001b[39m::matches(), \u001b[34mdplyr\u001b[39m::matches(), \u001b[34mtidyr\u001b[39m::matches()\n",
      "\u001b[31m✖\u001b[39m \u001b[34myardstick\u001b[39m::\u001b[32mspec()\u001b[39m   masks \u001b[34mreadr\u001b[39m::spec()\n",
      "\u001b[31m✖\u001b[39m \u001b[34mrecipes\u001b[39m::\u001b[32mstep()\u001b[39m     masks \u001b[34mstats\u001b[39m::step()\n",
      "\u001b[34m•\u001b[39m Dig deeper into tidy modeling with R at \u001b[32mhttps://www.tmwr.org\u001b[39m\n",
      "\n",
      "Registered S3 method overwritten by 'GGally':\n",
      "  method from   \n",
      "  +.gg   ggplot2\n",
      "\n"
     ]
    }
   ],
   "source": [
    "library(tidyverse)\n",
    "library(testthat)\n",
    "library(digest)\n",
    "library(repr)\n",
    "library(tidymodels)\n",
    "library(GGally)\n",
    "library(forcats)\n",
    "library(RColorBrewer)\n",
    "library(ggplot2)\n",
    "library(knitr)\n",
    "options(repr.matrix.max.rows = 7) # limits the outputs of data frames to 7 rows (or observations)"
   ]
  },
  {
   "cell_type": "markdown",
   "id": "8887c868-0984-4d14-b8c2-e4b9bb779886",
   "metadata": {},
   "source": [
    "### Reading the Data\n",
    "We read the drugs consumption quantified dataset directly from the URL and saved it to a dataframe called \"drugs_data\". Since the columns in the dataset have no headings, we set `col_names` to `FALSE`."
   ]
  },
  {
   "cell_type": "code",
   "execution_count": 7,
   "id": "2ea08de0-4b27-4286-9583-5efcab7fa70c",
   "metadata": {},
   "outputs": [
    {
     "name": "stderr",
     "output_type": "stream",
     "text": [
      "\u001b[1mRows: \u001b[22m\u001b[34m1885\u001b[39m \u001b[1mColumns: \u001b[22m\u001b[34m32\u001b[39m\n",
      "\u001b[36m──\u001b[39m \u001b[1mColumn specification\u001b[22m \u001b[36m────────────────────────────────────────────────────────\u001b[39m\n",
      "\u001b[1mDelimiter:\u001b[22m \",\"\n",
      "\u001b[31mchr\u001b[39m (19): X14, X15, X16, X17, X18, X19, X20, X21, X22, X23, X24, X25, X26, X...\n",
      "\u001b[32mdbl\u001b[39m (13): X1, X2, X3, X4, X5, X6, X7, X8, X9, X10, X11, X12, X13\n",
      "\n",
      "\u001b[36mℹ\u001b[39m Use `spec()` to retrieve the full column specification for this data.\n",
      "\u001b[36mℹ\u001b[39m Specify the column types or set `show_col_types = FALSE` to quiet this message.\n"
     ]
    },
    {
     "data": {
      "text/html": [
       "<table class=\"dataframe\">\n",
       "<caption>A spec_tbl_df: 1885 × 32</caption>\n",
       "<thead>\n",
       "\t<tr><th scope=col>X1</th><th scope=col>X2</th><th scope=col>X3</th><th scope=col>X4</th><th scope=col>X5</th><th scope=col>X6</th><th scope=col>X7</th><th scope=col>X8</th><th scope=col>X9</th><th scope=col>X10</th><th scope=col>⋯</th><th scope=col>X23</th><th scope=col>X24</th><th scope=col>X25</th><th scope=col>X26</th><th scope=col>X27</th><th scope=col>X28</th><th scope=col>X29</th><th scope=col>X30</th><th scope=col>X31</th><th scope=col>X32</th></tr>\n",
       "\t<tr><th scope=col>&lt;dbl&gt;</th><th scope=col>&lt;dbl&gt;</th><th scope=col>&lt;dbl&gt;</th><th scope=col>&lt;dbl&gt;</th><th scope=col>&lt;dbl&gt;</th><th scope=col>&lt;dbl&gt;</th><th scope=col>&lt;dbl&gt;</th><th scope=col>&lt;dbl&gt;</th><th scope=col>&lt;dbl&gt;</th><th scope=col>&lt;dbl&gt;</th><th scope=col>⋯</th><th scope=col>&lt;chr&gt;</th><th scope=col>&lt;chr&gt;</th><th scope=col>&lt;chr&gt;</th><th scope=col>&lt;chr&gt;</th><th scope=col>&lt;chr&gt;</th><th scope=col>&lt;chr&gt;</th><th scope=col>&lt;chr&gt;</th><th scope=col>&lt;chr&gt;</th><th scope=col>&lt;chr&gt;</th><th scope=col>&lt;chr&gt;</th></tr>\n",
       "</thead>\n",
       "<tbody>\n",
       "\t<tr><td>1</td><td> 0.49788</td><td> 0.48246</td><td>-0.05921</td><td>0.96082</td><td> 0.12600</td><td> 0.31287</td><td>-0.57545</td><td>-0.58331</td><td>-0.91699</td><td>⋯</td><td>CL0</td><td>CL0</td><td>CL0</td><td>CL0</td><td>CL0</td><td>CL0</td><td>CL0</td><td>CL2</td><td>CL0</td><td>CL0</td></tr>\n",
       "\t<tr><td>2</td><td>-0.07854</td><td>-0.48246</td><td> 1.98437</td><td>0.96082</td><td>-0.31685</td><td>-0.67825</td><td> 1.93886</td><td> 1.43533</td><td> 0.76096</td><td>⋯</td><td>CL4</td><td>CL0</td><td>CL2</td><td>CL0</td><td>CL2</td><td>CL3</td><td>CL0</td><td>CL4</td><td>CL0</td><td>CL0</td></tr>\n",
       "\t<tr><td>3</td><td> 0.49788</td><td>-0.48246</td><td>-0.05921</td><td>0.96082</td><td>-0.31685</td><td>-0.46725</td><td> 0.80523</td><td>-0.84732</td><td>-1.62090</td><td>⋯</td><td>CL0</td><td>CL0</td><td>CL0</td><td>CL0</td><td>CL0</td><td>CL0</td><td>CL1</td><td>CL0</td><td>CL0</td><td>CL0</td></tr>\n",
       "\t<tr><td>4</td><td>-0.95197</td><td> 0.48246</td><td> 1.16365</td><td>0.96082</td><td>-0.31685</td><td>-0.14882</td><td>-0.80615</td><td>-0.01928</td><td> 0.59042</td><td>⋯</td><td>CL0</td><td>CL0</td><td>CL2</td><td>CL0</td><td>CL0</td><td>CL0</td><td>CL0</td><td>CL2</td><td>CL0</td><td>CL0</td></tr>\n",
       "\t<tr><td>⋮</td><td>⋮</td><td>⋮</td><td>⋮</td><td>⋮</td><td>⋮</td><td>⋮</td><td>⋮</td><td>⋮</td><td>⋮</td><td>⋱</td><td>⋮</td><td>⋮</td><td>⋮</td><td>⋮</td><td>⋮</td><td>⋮</td><td>⋮</td><td>⋮</td><td>⋮</td><td>⋮</td></tr>\n",
       "\t<tr><td>1886</td><td>-0.07854</td><td> 0.48246</td><td> 0.45468</td><td>-0.57009</td><td>-0.31685</td><td> 1.13281</td><td>-1.37639</td><td>-1.27553</td><td>-1.77200</td><td>⋯</td><td>CL4</td><td>CL0</td><td>CL2</td><td>CL0</td><td>CL2</td><td>CL0</td><td>CL2</td><td>CL6</td><td>CL0</td><td>CL0</td></tr>\n",
       "\t<tr><td>1887</td><td>-0.95197</td><td> 0.48246</td><td>-0.61113</td><td>-0.57009</td><td>-0.31685</td><td> 0.91093</td><td>-1.92173</td><td> 0.29338</td><td>-1.62090</td><td>⋯</td><td>CL3</td><td>CL0</td><td>CL0</td><td>CL3</td><td>CL3</td><td>CL0</td><td>CL3</td><td>CL4</td><td>CL0</td><td>CL0</td></tr>\n",
       "\t<tr><td>1888</td><td>-0.95197</td><td>-0.48246</td><td>-0.61113</td><td> 0.21128</td><td>-0.31685</td><td>-0.46725</td><td> 2.12700</td><td> 1.65653</td><td> 1.11406</td><td>⋯</td><td>CL3</td><td>CL0</td><td>CL0</td><td>CL3</td><td>CL3</td><td>CL0</td><td>CL3</td><td>CL6</td><td>CL0</td><td>CL2</td></tr>\n",
       "</tbody>\n",
       "</table>\n"
      ],
      "text/latex": [
       "A spec\\_tbl\\_df: 1885 × 32\n",
       "\\begin{tabular}{lllllllllllllllllllll}\n",
       " X1 & X2 & X3 & X4 & X5 & X6 & X7 & X8 & X9 & X10 & ⋯ & X23 & X24 & X25 & X26 & X27 & X28 & X29 & X30 & X31 & X32\\\\\n",
       " <dbl> & <dbl> & <dbl> & <dbl> & <dbl> & <dbl> & <dbl> & <dbl> & <dbl> & <dbl> & ⋯ & <chr> & <chr> & <chr> & <chr> & <chr> & <chr> & <chr> & <chr> & <chr> & <chr>\\\\\n",
       "\\hline\n",
       "\t 1 &  0.49788 &  0.48246 & -0.05921 & 0.96082 &  0.12600 &  0.31287 & -0.57545 & -0.58331 & -0.91699 & ⋯ & CL0 & CL0 & CL0 & CL0 & CL0 & CL0 & CL0 & CL2 & CL0 & CL0\\\\\n",
       "\t 2 & -0.07854 & -0.48246 &  1.98437 & 0.96082 & -0.31685 & -0.67825 &  1.93886 &  1.43533 &  0.76096 & ⋯ & CL4 & CL0 & CL2 & CL0 & CL2 & CL3 & CL0 & CL4 & CL0 & CL0\\\\\n",
       "\t 3 &  0.49788 & -0.48246 & -0.05921 & 0.96082 & -0.31685 & -0.46725 &  0.80523 & -0.84732 & -1.62090 & ⋯ & CL0 & CL0 & CL0 & CL0 & CL0 & CL0 & CL1 & CL0 & CL0 & CL0\\\\\n",
       "\t 4 & -0.95197 &  0.48246 &  1.16365 & 0.96082 & -0.31685 & -0.14882 & -0.80615 & -0.01928 &  0.59042 & ⋯ & CL0 & CL0 & CL2 & CL0 & CL0 & CL0 & CL0 & CL2 & CL0 & CL0\\\\\n",
       "\t ⋮ & ⋮ & ⋮ & ⋮ & ⋮ & ⋮ & ⋮ & ⋮ & ⋮ & ⋮ & ⋱ & ⋮ & ⋮ & ⋮ & ⋮ & ⋮ & ⋮ & ⋮ & ⋮ & ⋮ & ⋮\\\\\n",
       "\t 1886 & -0.07854 &  0.48246 &  0.45468 & -0.57009 & -0.31685 &  1.13281 & -1.37639 & -1.27553 & -1.77200 & ⋯ & CL4 & CL0 & CL2 & CL0 & CL2 & CL0 & CL2 & CL6 & CL0 & CL0\\\\\n",
       "\t 1887 & -0.95197 &  0.48246 & -0.61113 & -0.57009 & -0.31685 &  0.91093 & -1.92173 &  0.29338 & -1.62090 & ⋯ & CL3 & CL0 & CL0 & CL3 & CL3 & CL0 & CL3 & CL4 & CL0 & CL0\\\\\n",
       "\t 1888 & -0.95197 & -0.48246 & -0.61113 &  0.21128 & -0.31685 & -0.46725 &  2.12700 &  1.65653 &  1.11406 & ⋯ & CL3 & CL0 & CL0 & CL3 & CL3 & CL0 & CL3 & CL6 & CL0 & CL2\\\\\n",
       "\\end{tabular}\n"
      ],
      "text/markdown": [
       "\n",
       "A spec_tbl_df: 1885 × 32\n",
       "\n",
       "| X1 &lt;dbl&gt; | X2 &lt;dbl&gt; | X3 &lt;dbl&gt; | X4 &lt;dbl&gt; | X5 &lt;dbl&gt; | X6 &lt;dbl&gt; | X7 &lt;dbl&gt; | X8 &lt;dbl&gt; | X9 &lt;dbl&gt; | X10 &lt;dbl&gt; | ⋯ ⋯ | X23 &lt;chr&gt; | X24 &lt;chr&gt; | X25 &lt;chr&gt; | X26 &lt;chr&gt; | X27 &lt;chr&gt; | X28 &lt;chr&gt; | X29 &lt;chr&gt; | X30 &lt;chr&gt; | X31 &lt;chr&gt; | X32 &lt;chr&gt; |\n",
       "|---|---|---|---|---|---|---|---|---|---|---|---|---|---|---|---|---|---|---|---|---|\n",
       "| 1 |  0.49788 |  0.48246 | -0.05921 | 0.96082 |  0.12600 |  0.31287 | -0.57545 | -0.58331 | -0.91699 | ⋯ | CL0 | CL0 | CL0 | CL0 | CL0 | CL0 | CL0 | CL2 | CL0 | CL0 |\n",
       "| 2 | -0.07854 | -0.48246 |  1.98437 | 0.96082 | -0.31685 | -0.67825 |  1.93886 |  1.43533 |  0.76096 | ⋯ | CL4 | CL0 | CL2 | CL0 | CL2 | CL3 | CL0 | CL4 | CL0 | CL0 |\n",
       "| 3 |  0.49788 | -0.48246 | -0.05921 | 0.96082 | -0.31685 | -0.46725 |  0.80523 | -0.84732 | -1.62090 | ⋯ | CL0 | CL0 | CL0 | CL0 | CL0 | CL0 | CL1 | CL0 | CL0 | CL0 |\n",
       "| 4 | -0.95197 |  0.48246 |  1.16365 | 0.96082 | -0.31685 | -0.14882 | -0.80615 | -0.01928 |  0.59042 | ⋯ | CL0 | CL0 | CL2 | CL0 | CL0 | CL0 | CL0 | CL2 | CL0 | CL0 |\n",
       "| ⋮ | ⋮ | ⋮ | ⋮ | ⋮ | ⋮ | ⋮ | ⋮ | ⋮ | ⋮ | ⋱ | ⋮ | ⋮ | ⋮ | ⋮ | ⋮ | ⋮ | ⋮ | ⋮ | ⋮ | ⋮ |\n",
       "| 1886 | -0.07854 |  0.48246 |  0.45468 | -0.57009 | -0.31685 |  1.13281 | -1.37639 | -1.27553 | -1.77200 | ⋯ | CL4 | CL0 | CL2 | CL0 | CL2 | CL0 | CL2 | CL6 | CL0 | CL0 |\n",
       "| 1887 | -0.95197 |  0.48246 | -0.61113 | -0.57009 | -0.31685 |  0.91093 | -1.92173 |  0.29338 | -1.62090 | ⋯ | CL3 | CL0 | CL0 | CL3 | CL3 | CL0 | CL3 | CL4 | CL0 | CL0 |\n",
       "| 1888 | -0.95197 | -0.48246 | -0.61113 |  0.21128 | -0.31685 | -0.46725 |  2.12700 |  1.65653 |  1.11406 | ⋯ | CL3 | CL0 | CL0 | CL3 | CL3 | CL0 | CL3 | CL6 | CL0 | CL2 |\n",
       "\n"
      ],
      "text/plain": [
       "     X1   X2       X3       X4       X5       X6       X7       X8      \n",
       "1    1     0.49788  0.48246 -0.05921 0.96082   0.12600  0.31287 -0.57545\n",
       "2    2    -0.07854 -0.48246  1.98437 0.96082  -0.31685 -0.67825  1.93886\n",
       "3    3     0.49788 -0.48246 -0.05921 0.96082  -0.31685 -0.46725  0.80523\n",
       "4    4    -0.95197  0.48246  1.16365 0.96082  -0.31685 -0.14882 -0.80615\n",
       "⋮    ⋮    ⋮        ⋮        ⋮        ⋮        ⋮        ⋮        ⋮       \n",
       "1883 1886 -0.07854  0.48246  0.45468 -0.57009 -0.31685  1.13281 -1.37639\n",
       "1884 1887 -0.95197  0.48246 -0.61113 -0.57009 -0.31685  0.91093 -1.92173\n",
       "1885 1888 -0.95197 -0.48246 -0.61113  0.21128 -0.31685 -0.46725  2.12700\n",
       "     X9       X10      ⋯ X23 X24 X25 X26 X27 X28 X29 X30 X31 X32\n",
       "1    -0.58331 -0.91699 ⋯ CL0 CL0 CL0 CL0 CL0 CL0 CL0 CL2 CL0 CL0\n",
       "2     1.43533  0.76096 ⋯ CL4 CL0 CL2 CL0 CL2 CL3 CL0 CL4 CL0 CL0\n",
       "3    -0.84732 -1.62090 ⋯ CL0 CL0 CL0 CL0 CL0 CL0 CL1 CL0 CL0 CL0\n",
       "4    -0.01928  0.59042 ⋯ CL0 CL0 CL2 CL0 CL0 CL0 CL0 CL2 CL0 CL0\n",
       "⋮    ⋮        ⋮        ⋱ ⋮   ⋮   ⋮   ⋮   ⋮   ⋮   ⋮   ⋮   ⋮   ⋮  \n",
       "1883 -1.27553 -1.77200 ⋯ CL4 CL0 CL2 CL0 CL2 CL0 CL2 CL6 CL0 CL0\n",
       "1884  0.29338 -1.62090 ⋯ CL3 CL0 CL0 CL3 CL3 CL0 CL3 CL4 CL0 CL0\n",
       "1885  1.65653  1.11406 ⋯ CL3 CL0 CL0 CL3 CL3 CL0 CL3 CL6 CL0 CL2"
      ]
     },
     "metadata": {},
     "output_type": "display_data"
    }
   ],
   "source": [
    "url <- \"https://archive.ics.uci.edu/ml/machine-learning-databases/00373/drug_consumption.data\"\n",
    "drugs_data <- read_csv(url, col_names = FALSE)\n",
    "drugs_data"
   ]
  },
  {
   "cell_type": "markdown",
   "id": "9a729338-3d02-4bca-83f9-3f515bfffd0d",
   "metadata": {},
   "source": [
    "### Wrangling and Cleaning\n",
    "- According to the website containing the dataset, it contains no missing values, and so it is unnecessary to check for them.\n",
    "- We renamed the columns to names that corresponded to the information they contain.\n",
    "- Each row in the data set corresponds to a single participant (observation), each column to a single variable (attribute) and each cell to a single value. Thus, our dataset is in tidy format.\n",
    "- We removed every variable we deemed unnecessary for our analysis. This includes all other drugs other than alcohol and the fake drug Semeron, and all identifiers other than age.\n",
    "- Since there are observations where the consumption for the fictitious drug `Semer` is not `CLO` (never used), in order to accurately perform our analysis, we had to filter out all observations that have claimed to ever use it (observations with .\n",
    "- We will use `mutate` and `as_factor` functions to ensure that our response variable `Alcohol` is treated as factor which is neccesary for our classficiation model."
   ]
  },
  {
   "cell_type": "code",
   "execution_count": 8,
   "id": "19559684-ebe2-4246-93dd-eb8e01fa3b1f",
   "metadata": {},
   "outputs": [
    {
     "data": {
      "text/html": [
       "<table class=\"dataframe\">\n",
       "<caption>A tibble: 428 × 9</caption>\n",
       "<thead>\n",
       "\t<tr><th scope=col>Age</th><th scope=col>NScore</th><th scope=col>EScore</th><th scope=col>OScore</th><th scope=col>AScore</th><th scope=col>IScore</th><th scope=col>CScore</th><th scope=col>SS</th><th scope=col>Alcohol</th></tr>\n",
       "\t<tr><th scope=col>&lt;dbl&gt;</th><th scope=col>&lt;dbl&gt;</th><th scope=col>&lt;dbl&gt;</th><th scope=col>&lt;dbl&gt;</th><th scope=col>&lt;dbl&gt;</th><th scope=col>&lt;dbl&gt;</th><th scope=col>&lt;dbl&gt;</th><th scope=col>&lt;dbl&gt;</th><th scope=col>&lt;fct&gt;</th></tr>\n",
       "</thead>\n",
       "<tbody>\n",
       "\t<tr><td>0.49788</td><td>-0.46725</td><td> 0.80523</td><td>-0.84732</td><td>-1.62090</td><td>-1.37983</td><td>-1.01450</td><td> 0.40148</td><td>CL6</td></tr>\n",
       "\t<tr><td>0.49788</td><td>-1.32828</td><td> 1.93886</td><td>-0.84732</td><td>-0.30172</td><td> 0.19268</td><td> 1.63088</td><td>-0.52593</td><td>CL5</td></tr>\n",
       "\t<tr><td>1.82213</td><td>-2.05048</td><td>-1.50796</td><td>-1.55521</td><td>-1.07533</td><td>-0.71126</td><td> 1.13407</td><td>-0.52593</td><td>CL5</td></tr>\n",
       "\t<tr><td>1.82213</td><td> 1.37297</td><td>-0.15487</td><td>-0.17779</td><td>-1.92595</td><td>-0.71126</td><td>-1.51840</td><td>-0.21575</td><td>CL6</td></tr>\n",
       "\t<tr><td>⋮</td><td>⋮</td><td>⋮</td><td>⋮</td><td>⋮</td><td>⋮</td><td>⋮</td><td>⋮</td><td>⋮</td></tr>\n",
       "\t<tr><td>-0.95197</td><td>-0.79151</td><td> 0.00332</td><td>2.44904</td><td>0.76096</td><td> 0.88113</td><td>-1.51840</td><td>1.92173</td><td>CL5</td></tr>\n",
       "\t<tr><td> 2.59171</td><td> 2.12700</td><td>-0.15487</td><td>2.44904</td><td>0.94156</td><td>-0.21712</td><td>-0.65253</td><td>0.07987</td><td>CL5</td></tr>\n",
       "\t<tr><td>-0.95197</td><td>-1.19430</td><td> 1.74091</td><td>1.88511</td><td>0.76096</td><td> 0.88113</td><td>-1.13788</td><td>1.92173</td><td>CL5</td></tr>\n",
       "</tbody>\n",
       "</table>\n"
      ],
      "text/latex": [
       "A tibble: 428 × 9\n",
       "\\begin{tabular}{lllllllll}\n",
       " Age & NScore & EScore & OScore & AScore & IScore & CScore & SS & Alcohol\\\\\n",
       " <dbl> & <dbl> & <dbl> & <dbl> & <dbl> & <dbl> & <dbl> & <dbl> & <fct>\\\\\n",
       "\\hline\n",
       "\t 0.49788 & -0.46725 &  0.80523 & -0.84732 & -1.62090 & -1.37983 & -1.01450 &  0.40148 & CL6\\\\\n",
       "\t 0.49788 & -1.32828 &  1.93886 & -0.84732 & -0.30172 &  0.19268 &  1.63088 & -0.52593 & CL5\\\\\n",
       "\t 1.82213 & -2.05048 & -1.50796 & -1.55521 & -1.07533 & -0.71126 &  1.13407 & -0.52593 & CL5\\\\\n",
       "\t 1.82213 &  1.37297 & -0.15487 & -0.17779 & -1.92595 & -0.71126 & -1.51840 & -0.21575 & CL6\\\\\n",
       "\t ⋮ & ⋮ & ⋮ & ⋮ & ⋮ & ⋮ & ⋮ & ⋮ & ⋮\\\\\n",
       "\t -0.95197 & -0.79151 &  0.00332 & 2.44904 & 0.76096 &  0.88113 & -1.51840 & 1.92173 & CL5\\\\\n",
       "\t  2.59171 &  2.12700 & -0.15487 & 2.44904 & 0.94156 & -0.21712 & -0.65253 & 0.07987 & CL5\\\\\n",
       "\t -0.95197 & -1.19430 &  1.74091 & 1.88511 & 0.76096 &  0.88113 & -1.13788 & 1.92173 & CL5\\\\\n",
       "\\end{tabular}\n"
      ],
      "text/markdown": [
       "\n",
       "A tibble: 428 × 9\n",
       "\n",
       "| Age &lt;dbl&gt; | NScore &lt;dbl&gt; | EScore &lt;dbl&gt; | OScore &lt;dbl&gt; | AScore &lt;dbl&gt; | IScore &lt;dbl&gt; | CScore &lt;dbl&gt; | SS &lt;dbl&gt; | Alcohol &lt;fct&gt; |\n",
       "|---|---|---|---|---|---|---|---|---|\n",
       "| 0.49788 | -0.46725 |  0.80523 | -0.84732 | -1.62090 | -1.37983 | -1.01450 |  0.40148 | CL6 |\n",
       "| 0.49788 | -1.32828 |  1.93886 | -0.84732 | -0.30172 |  0.19268 |  1.63088 | -0.52593 | CL5 |\n",
       "| 1.82213 | -2.05048 | -1.50796 | -1.55521 | -1.07533 | -0.71126 |  1.13407 | -0.52593 | CL5 |\n",
       "| 1.82213 |  1.37297 | -0.15487 | -0.17779 | -1.92595 | -0.71126 | -1.51840 | -0.21575 | CL6 |\n",
       "| ⋮ | ⋮ | ⋮ | ⋮ | ⋮ | ⋮ | ⋮ | ⋮ | ⋮ |\n",
       "| -0.95197 | -0.79151 |  0.00332 | 2.44904 | 0.76096 |  0.88113 | -1.51840 | 1.92173 | CL5 |\n",
       "|  2.59171 |  2.12700 | -0.15487 | 2.44904 | 0.94156 | -0.21712 | -0.65253 | 0.07987 | CL5 |\n",
       "| -0.95197 | -1.19430 |  1.74091 | 1.88511 | 0.76096 |  0.88113 | -1.13788 | 1.92173 | CL5 |\n",
       "\n"
      ],
      "text/plain": [
       "    Age      NScore   EScore   OScore   AScore   IScore   CScore   SS      \n",
       "1   0.49788  -0.46725  0.80523 -0.84732 -1.62090 -1.37983 -1.01450  0.40148\n",
       "2   0.49788  -1.32828  1.93886 -0.84732 -0.30172  0.19268  1.63088 -0.52593\n",
       "3   1.82213  -2.05048 -1.50796 -1.55521 -1.07533 -0.71126  1.13407 -0.52593\n",
       "4   1.82213   1.37297 -0.15487 -0.17779 -1.92595 -0.71126 -1.51840 -0.21575\n",
       "⋮   ⋮        ⋮        ⋮        ⋮        ⋮        ⋮        ⋮        ⋮       \n",
       "426 -0.95197 -0.79151  0.00332 2.44904  0.76096   0.88113 -1.51840 1.92173 \n",
       "427  2.59171  2.12700 -0.15487 2.44904  0.94156  -0.21712 -0.65253 0.07987 \n",
       "428 -0.95197 -1.19430  1.74091 1.88511  0.76096   0.88113 -1.13788 1.92173 \n",
       "    Alcohol\n",
       "1   CL6    \n",
       "2   CL5    \n",
       "3   CL5    \n",
       "4   CL6    \n",
       "⋮   ⋮      \n",
       "426 CL5    \n",
       "427 CL5    \n",
       "428 CL5    "
      ]
     },
     "metadata": {},
     "output_type": "display_data"
    }
   ],
   "source": [
    "colnames(drugs_data) <- c(\"ID\", \"Age\", \"Gender\", \"Education\", \"Country\", \"Ethnicity\", \"NScore\", \"EScore\", \"OScore\", \"AScore\", \n",
    "                          \"CScore\", \"IScore\", \"SS\", \"Alcohol\", \"Amphetamines\", \"AmylNitrate\", \"Benzodiazepine\", \"Caffeine\", \"Cannabis\", \"Chocolate\", \"Cocaine\",\n",
    "                          \"Crack\", \"Ecstacy\", \"Heroin\", \"LegalHighs\", \"LSD\", \"Methadone\", \"Mushrooms\", \"Nicotine\", \"Semeron\", \"VSA\")\n",
    "\n",
    "alcohol_data <- select(drugs_data, Age, NScore , EScore, OScore, AScore,\n",
    "                                IScore, CScore, SS, Semeron, Alcohol)\n",
    "\n",
    "alcohol_data_filtered <- alcohol_data |>\n",
    "                         filter(Semeron == \"CL0\") |>\n",
    "                         select(-Semeron)\n",
    "\n",
    "alcohol_clean <- alcohol_data_filtered |>\n",
    "                 mutate(Alcohol = as_factor(Alcohol))\n",
    "alcohol_clean"
   ]
  },
  {
   "cell_type": "markdown",
   "id": "990908e1-65c5-4f38-a66a-41d29e47ab37",
   "metadata": {},
   "source": [
    "### Exploratory Data Analysis\n",
    "After cleaning our dataset, we are left with 428 observations. From this point on, we will be using 75% of our data set and we will use the rest 25% only to test the accuracy of our classifier. Thus, we will split our dataset into training and testing sets using the `initial_split` function."
   ]
  },
  {
   "cell_type": "code",
   "execution_count": 4,
   "id": "2c288122-6f3f-49a2-afbc-f941a56268f5",
   "metadata": {},
   "outputs": [],
   "source": [
    "set.seed(69)\n",
    "alcohol_split <- initial_split(alcohol_data_filtered, prop = 0.75, strata = Alcohol)\n",
    "alcohol_train <- training(alcohol_split)\n",
    "alcohol_test <- testing(alcohol_split)"
   ]
  },
  {
   "cell_type": "markdown",
   "id": "8f675fcd-f4d8-44ef-9d4b-9b11a709629f",
   "metadata": {},
   "source": [
    "#### Dataset Summary\n",
    "We will summarize our dataset in two ways:\n",
    "- A table that reports the number of observations for each class in `Alcohol`\n",
    "- A table that reports the mean of all personality measurements grouped by the `Alcohol` variable."
   ]
  },
  {
   "cell_type": "code",
   "execution_count": 22,
   "id": "41d550d9-8ce7-4231-8ec7-d5fde90b6abe",
   "metadata": {
    "jupyter": {
     "source_hidden": true
    },
    "tags": []
   },
   "outputs": [
    {
     "data": {
      "text/html": [
       "<table class=\"dataframe\">\n",
       "<caption>A tibble: 7 × 2</caption>\n",
       "<thead>\n",
       "\t<tr><th scope=col>Alcohol</th><th scope=col>n</th></tr>\n",
       "\t<tr><th scope=col>&lt;chr&gt;</th><th scope=col>&lt;int&gt;</th></tr>\n",
       "</thead>\n",
       "<tbody>\n",
       "\t<tr><td>CL0</td><td> 16</td></tr>\n",
       "\t<tr><td>CL1</td><td>  6</td></tr>\n",
       "\t<tr><td>CL2</td><td> 11</td></tr>\n",
       "\t<tr><td>CL3</td><td> 35</td></tr>\n",
       "\t<tr><td>CL4</td><td> 48</td></tr>\n",
       "\t<tr><td>CL5</td><td>137</td></tr>\n",
       "\t<tr><td>CL6</td><td> 66</td></tr>\n",
       "</tbody>\n",
       "</table>\n"
      ],
      "text/latex": [
       "A tibble: 7 × 2\n",
       "\\begin{tabular}{ll}\n",
       " Alcohol & n\\\\\n",
       " <chr> & <int>\\\\\n",
       "\\hline\n",
       "\t CL0 &  16\\\\\n",
       "\t CL1 &   6\\\\\n",
       "\t CL2 &  11\\\\\n",
       "\t CL3 &  35\\\\\n",
       "\t CL4 &  48\\\\\n",
       "\t CL5 & 137\\\\\n",
       "\t CL6 &  66\\\\\n",
       "\\end{tabular}\n"
      ],
      "text/markdown": [
       "\n",
       "A tibble: 7 × 2\n",
       "\n",
       "| Alcohol &lt;chr&gt; | n &lt;int&gt; |\n",
       "|---|---|\n",
       "| CL0 |  16 |\n",
       "| CL1 |   6 |\n",
       "| CL2 |  11 |\n",
       "| CL3 |  35 |\n",
       "| CL4 |  48 |\n",
       "| CL5 | 137 |\n",
       "| CL6 |  66 |\n",
       "\n"
      ],
      "text/plain": [
       "  Alcohol n  \n",
       "1 CL0      16\n",
       "2 CL1       6\n",
       "3 CL2      11\n",
       "4 CL3      35\n",
       "5 CL4      48\n",
       "6 CL5     137\n",
       "7 CL6      66"
      ]
     },
     "metadata": {},
     "output_type": "display_data"
    }
   ],
   "source": [
    "alcohol_count <- group_by(alcohol_train, Alcohol) |>\n",
    "                 summarize(n = n())\n",
    "alcohol_count"
   ]
  },
  {
   "cell_type": "markdown",
   "id": "360d3baa-f637-4306-9fc2-01e186c600eb",
   "metadata": {},
   "source": [
    "- With the use `group_by`, `summarize` and `n()` functions, we obtained the count of observations for each class in `Alcohol` in the above table.\n",
    "- The number of observations are distributed unevenly across all levels of alcohol consumption which means that our data set is not balanced. The maximum number of observations are in `CL5`(used in last week) while the mininum number of observations are in `CL1`(used over a decade ago). "
   ]
  },
  {
   "cell_type": "code",
   "execution_count": 5,
   "id": "99cd97d0-413a-4067-94bc-f68b8824c0a8",
   "metadata": {},
   "outputs": [
    {
     "data": {
      "text/html": [
       "<table class=\"dataframe\">\n",
       "<caption>A tibble: 7 × 7</caption>\n",
       "<thead>\n",
       "\t<tr><th scope=col>Alcohol</th><th scope=col>NScore_Mean</th><th scope=col>EScore_Mean</th><th scope=col>OScore_Mean</th><th scope=col>AScore_Mean</th><th scope=col>IScore_Mean</th><th scope=col>CScore_Mean</th></tr>\n",
       "\t<tr><th scope=col>&lt;chr&gt;</th><th scope=col>&lt;dbl&gt;</th><th scope=col>&lt;dbl&gt;</th><th scope=col>&lt;dbl&gt;</th><th scope=col>&lt;dbl&gt;</th><th scope=col>&lt;dbl&gt;</th><th scope=col>&lt;dbl&gt;</th></tr>\n",
       "</thead>\n",
       "<tbody>\n",
       "\t<tr><td>CL0</td><td> 0.1190381</td><td> 0.1158106250</td><td> 0.0469375</td><td> 0.02410312</td><td>-0.3413656</td><td> 0.23926312</td></tr>\n",
       "\t<tr><td>CL1</td><td>-0.5894517</td><td> 0.4553266667</td><td>-0.9030767</td><td> 0.75377667</td><td>-0.2583617</td><td> 1.11948667</td></tr>\n",
       "\t<tr><td>CL2</td><td> 0.5474755</td><td>-0.5713127273</td><td>-0.6111855</td><td>-0.25231273</td><td>-0.4266245</td><td> 0.02889545</td></tr>\n",
       "\t<tr><td>CL3</td><td>-0.2083551</td><td>-0.1460434286</td><td>-0.4620551</td><td>-0.05292543</td><td>-0.4505683</td><td>-0.13884057</td></tr>\n",
       "\t<tr><td>CL4</td><td>-0.2381323</td><td>-0.0304225000</td><td>-0.3216004</td><td> 0.37365021</td><td>-0.2580952</td><td> 0.35648354</td></tr>\n",
       "\t<tr><td>CL5</td><td>-0.2104826</td><td> 0.1737224088</td><td>-0.3266285</td><td> 0.33174526</td><td>-0.3653848</td><td> 0.39946504</td></tr>\n",
       "\t<tr><td>CL6</td><td>-0.1070455</td><td> 0.0003836364</td><td>-0.2337532</td><td> 0.20108061</td><td>-0.2593374</td><td> 0.33426621</td></tr>\n",
       "</tbody>\n",
       "</table>\n"
      ],
      "text/latex": [
       "A tibble: 7 × 7\n",
       "\\begin{tabular}{lllllll}\n",
       " Alcohol & NScore\\_Mean & EScore\\_Mean & OScore\\_Mean & AScore\\_Mean & IScore\\_Mean & CScore\\_Mean\\\\\n",
       " <chr> & <dbl> & <dbl> & <dbl> & <dbl> & <dbl> & <dbl>\\\\\n",
       "\\hline\n",
       "\t CL0 &  0.1190381 &  0.1158106250 &  0.0469375 &  0.02410312 & -0.3413656 &  0.23926312\\\\\n",
       "\t CL1 & -0.5894517 &  0.4553266667 & -0.9030767 &  0.75377667 & -0.2583617 &  1.11948667\\\\\n",
       "\t CL2 &  0.5474755 & -0.5713127273 & -0.6111855 & -0.25231273 & -0.4266245 &  0.02889545\\\\\n",
       "\t CL3 & -0.2083551 & -0.1460434286 & -0.4620551 & -0.05292543 & -0.4505683 & -0.13884057\\\\\n",
       "\t CL4 & -0.2381323 & -0.0304225000 & -0.3216004 &  0.37365021 & -0.2580952 &  0.35648354\\\\\n",
       "\t CL5 & -0.2104826 &  0.1737224088 & -0.3266285 &  0.33174526 & -0.3653848 &  0.39946504\\\\\n",
       "\t CL6 & -0.1070455 &  0.0003836364 & -0.2337532 &  0.20108061 & -0.2593374 &  0.33426621\\\\\n",
       "\\end{tabular}\n"
      ],
      "text/markdown": [
       "\n",
       "A tibble: 7 × 7\n",
       "\n",
       "| Alcohol &lt;chr&gt; | NScore_Mean &lt;dbl&gt; | EScore_Mean &lt;dbl&gt; | OScore_Mean &lt;dbl&gt; | AScore_Mean &lt;dbl&gt; | IScore_Mean &lt;dbl&gt; | CScore_Mean &lt;dbl&gt; |\n",
       "|---|---|---|---|---|---|---|\n",
       "| CL0 |  0.1190381 |  0.1158106250 |  0.0469375 |  0.02410312 | -0.3413656 |  0.23926312 |\n",
       "| CL1 | -0.5894517 |  0.4553266667 | -0.9030767 |  0.75377667 | -0.2583617 |  1.11948667 |\n",
       "| CL2 |  0.5474755 | -0.5713127273 | -0.6111855 | -0.25231273 | -0.4266245 |  0.02889545 |\n",
       "| CL3 | -0.2083551 | -0.1460434286 | -0.4620551 | -0.05292543 | -0.4505683 | -0.13884057 |\n",
       "| CL4 | -0.2381323 | -0.0304225000 | -0.3216004 |  0.37365021 | -0.2580952 |  0.35648354 |\n",
       "| CL5 | -0.2104826 |  0.1737224088 | -0.3266285 |  0.33174526 | -0.3653848 |  0.39946504 |\n",
       "| CL6 | -0.1070455 |  0.0003836364 | -0.2337532 |  0.20108061 | -0.2593374 |  0.33426621 |\n",
       "\n"
      ],
      "text/plain": [
       "  Alcohol NScore_Mean EScore_Mean   OScore_Mean AScore_Mean IScore_Mean\n",
       "1 CL0      0.1190381   0.1158106250  0.0469375   0.02410312 -0.3413656 \n",
       "2 CL1     -0.5894517   0.4553266667 -0.9030767   0.75377667 -0.2583617 \n",
       "3 CL2      0.5474755  -0.5713127273 -0.6111855  -0.25231273 -0.4266245 \n",
       "4 CL3     -0.2083551  -0.1460434286 -0.4620551  -0.05292543 -0.4505683 \n",
       "5 CL4     -0.2381323  -0.0304225000 -0.3216004   0.37365021 -0.2580952 \n",
       "6 CL5     -0.2104826   0.1737224088 -0.3266285   0.33174526 -0.3653848 \n",
       "7 CL6     -0.1070455   0.0003836364 -0.2337532   0.20108061 -0.2593374 \n",
       "  CScore_Mean\n",
       "1  0.23926312\n",
       "2  1.11948667\n",
       "3  0.02889545\n",
       "4 -0.13884057\n",
       "5  0.35648354\n",
       "6  0.39946504\n",
       "7  0.33426621"
      ]
     },
     "metadata": {},
     "output_type": "display_data"
    }
   ],
   "source": [
    "alcohol_means <- alcohol_train |>\n",
    "                 group_by(Alcohol) |>\n",
    "                 summarize(NScore_Mean = mean(NScore),\n",
    "                           EScore_Mean = mean(EScore),\n",
    "                           OScore_Mean = mean(OScore),\n",
    "                           AScore_Mean = mean(AScore),\n",
    "                           IScore_Mean = mean(IScore),\n",
    "                           CScore_Mean = mean(CScore))\n",
    "alcohol_means"
   ]
  },
  {
   "cell_type": "markdown",
   "id": "c9baa5f2-f6f7-44da-9a9f-b3ffad4f0898",
   "metadata": {},
   "source": [
    "- With the use of `group_by`, `summarize` and `mean()` functions, we were able to obtain the means of all potential predictor variables for each class in `Alcohol` in the above table.\n",
    "- There is no clear distinction in these values between the classes in `Alcohol`. However, there is a pattern in the means for impulsivity as `IScore_Mean` suggests that the means for `IScore` across all classes is very close to its minimum value."
   ]
  },
  {
   "cell_type": "markdown",
   "id": "2f138f0f-cc7f-49be-9022-04ca17146ddb",
   "metadata": {},
   "source": [
    "### Visual Representation\n",
    "- We will look at the distribution of all the potential predictors in the dataset using histograms since we are dealing with numerical data.\n",
    "- After the analysis of the histograms, we will choose the variables which show a clear pattern in their distribution plots and \n",
    "perform further analysis on them separately.\n",
    "- First, we need to modify our data so we can compare the distributions of all potential predictors next to each other using `facet_wrap`. For this purpose, we will use the `pivot_longer` function so that all the potential predictors are under one column `predictors` and their corresponding values are under the column `values`."
   ]
  },
  {
   "cell_type": "code",
   "execution_count": 6,
   "id": "a98ab988-3b7c-4596-8dd9-74579600077e",
   "metadata": {},
   "outputs": [
    {
     "data": {
      "image/png": "[encoded data removed]",
      "text/plain": [
       "plot without title"
      ]
     },
     "metadata": {
      "image/png": {
       "height": 600,
       "width": 900
      }
     },
     "output_type": "display_data"
    }
   ],
   "source": [
    "options(repr.plot.width = 15, repr.plot.height = 10)\n",
    "\n",
    "alcohol_longer <- alcohol_train %>% \n",
    "                pivot_longer(cols = NScore:SS,\n",
    "                             names_to = \"Potential_predictors\",\n",
    "                             values_to = \"Values\")\n",
    "\n",
    "alcohol_plot <- alcohol_longer %>%\n",
    "    ggplot(aes(x = Values)) + \n",
    "    geom_histogram(position = 'identity', bins = 20) +\n",
    "    labs(x = \"\",\n",
    "         y = \"Counts\\n\",\n",
    "         title = \"\\nDistributions of Potential Predictors\\n\") +\n",
    "    facet_wrap(vars(Potential_predictors)) +\n",
    "    theme(text = element_text(size = 20)) \n",
    "alcohol_plot"
   ]
  },
  {
   "cell_type": "markdown",
   "id": "6e4a3fa4-af52-4ce2-9efd-bd2856a71bfd",
   "metadata": {},
   "source": [
    "- **AScore**: "
   ]
  },
  {
   "cell_type": "code",
   "execution_count": null,
   "id": "49e11e2b-3f0e-4cad-b240-c5d706373e35",
   "metadata": {},
   "outputs": [],
   "source": []
  }
 ],
 "metadata": {
  "kernelspec": {
   "display_name": "R",
   "language": "R",
   "name": "ir"
  },
  "language_info": {
   "codemirror_mode": "r",
   "file_extension": ".r",
   "mimetype": "text/x-r-source",
   "name": "R",
   "pygments_lexer": "r",
   "version": "4.1.3"
  }
 },
 "nbformat": 4,
 "nbformat_minor": 5
}

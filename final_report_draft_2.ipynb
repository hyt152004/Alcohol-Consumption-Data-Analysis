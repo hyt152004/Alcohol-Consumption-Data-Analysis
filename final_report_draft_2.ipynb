{
 "cells": [
  {
   "cell_type": "markdown",
   "id": "e528fa92-e1d2-41f3-b0e0-138b9822ec62",
   "metadata": {},
   "source": [
    "# Final Report"
   ]
  },
  {
   "cell_type": "markdown",
   "id": "cc862b84-3e65-4e38-af8f-52463ba7f289",
   "metadata": {},
   "source": [
    "The dataset contains 32 columns. Each column corresponds to a specific attribute for each participant. The level of consumption for each of the :\n",
    "* ID \n",
    "* Age (18 to 65+)\n",
    "* Gender (male or female)\n",
    "* Education (level of education)\n",
    "    + Left school before 16 years\n",
    "    + Left school at 16 years\n",
    "    + Left school at 17 years\n",
    "    + Left school at 18 years\n",
    "    + Some college or university, no certificate or degree\n",
    "    + Professional certificate/ diploma \n",
    "    + University degree\n",
    "    + Masters degree\n",
    "    + Doctorate degree\n",
    "- Country (country of residence)\n",
    "    + Australia\n",
    "    + Canada\n",
    "    + New Zealand\n",
    "    + Other\n",
    "    + Republic of Ireland\n",
    "    + United Kingdom\n",
    "    + United States of America\n",
    "- Ethnicity (ethnicity)\n",
    "    + Asian\n",
    "    + Black\n",
    "    + Mixed-Black/Asian\n",
    "    + Mixed-White/Asian\n",
    "    + Mixed-White/Black\n",
    "    + Other\n",
    "    + White\n",
    "- Nscore (measurement of neuroticism)\n",
    "- Escore (measurement of extraversion)\n",
    "- Oscore (openness to experience)\n",
    "- Ascore (measurement of agreeableness)\n",
    "- Cscore (measurement of conscientiousness)\n",
    "- Impulsive (measurement of impulsiveness)\n",
    "- SS (measurement of sensation seeking)\n",
    "- Alcohol (level alcohol consumption)\n",
    "- Amphet (level of amphetamines consumption)\n",
    "- Amyl (level of amyl nitrite consumption)\n",
    "- Benzos (level of benzodiazepine consumption)\n",
    "- Caff (level of caffeine consumption)\n",
    "- Cannabis (level of cannabis consumption)\n",
    "- Choc (level of chocolate consumption)\n",
    "- Coke (level of cocaine consumption)\n",
    "- Crack (level of crack consumption)\n",
    "- Ecstasy(level of ecstasy consumption)\n",
    "- Heroin (level of heroin consumption)\n",
    "- Ketamine (level of ketamine consumption)\n",
    "- Legalh (level of legal highs consumption) \n",
    "- LSD is (level of LSD consumption)\n",
    "- Meth (level of methadone consumption) \n",
    "- Mushrooms (level of magic mushrooms consumption) \n",
    "- Nicotine (level of nicotine consumption)\n",
    "- Semer (level of fictitious drug Semeron consumption) \n",
    "- VSA (level of volatile substance abuse) "
   ]
  },
  {
   "cell_type": "code",
   "execution_count": null,
   "id": "0f76baa1-2073-4c05-8bb3-0fb3cb99d130",
   "metadata": {},
   "outputs": [],
   "source": []
  }
 ],
 "metadata": {
  "kernelspec": {
   "display_name": "R",
   "language": "R",
   "name": "ir"
  },
  "language_info": {
   "codemirror_mode": "r",
   "file_extension": ".r",
   "mimetype": "text/x-r-source",
   "name": "R",
   "pygments_lexer": "r",
   "version": "4.1.3"
  }
 },
 "nbformat": 4,
 "nbformat_minor": 5
}

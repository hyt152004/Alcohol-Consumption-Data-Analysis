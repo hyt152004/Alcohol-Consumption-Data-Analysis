{
 "cells": [
  {
   "cell_type": "markdown",
   "id": "b2365b7e-9de1-487a-b7ba-5fa9b914a4a8",
   "metadata": {},
   "source": [
    "# Final Report"
   ]
  },
  {
   "cell_type": "code",
   "execution_count": 1,
   "id": "b040c846-a740-4c0f-963d-0f06d7784beb",
   "metadata": {},
   "outputs": [
    {
     "name": "stderr",
     "output_type": "stream",
     "text": [
      "── \u001b[1mAttaching packages\u001b[22m ─────────────────────────────────────── tidyverse 1.3.1 ──\n",
      "\n",
      "\u001b[32m✔\u001b[39m \u001b[34mggplot2\u001b[39m 3.3.6     \u001b[32m✔\u001b[39m \u001b[34mpurrr  \u001b[39m 0.3.4\n",
      "\u001b[32m✔\u001b[39m \u001b[34mtibble \u001b[39m 3.1.7     \u001b[32m✔\u001b[39m \u001b[34mdplyr  \u001b[39m 1.0.9\n",
      "\u001b[32m✔\u001b[39m \u001b[34mtidyr  \u001b[39m 1.2.0     \u001b[32m✔\u001b[39m \u001b[34mstringr\u001b[39m 1.4.0\n",
      "\u001b[32m✔\u001b[39m \u001b[34mreadr  \u001b[39m 2.1.2     \u001b[32m✔\u001b[39m \u001b[34mforcats\u001b[39m 0.5.1\n",
      "\n",
      "── \u001b[1mConflicts\u001b[22m ────────────────────────────────────────── tidyverse_conflicts() ──\n",
      "\u001b[31m✖\u001b[39m \u001b[34mdplyr\u001b[39m::\u001b[32mfilter()\u001b[39m masks \u001b[34mstats\u001b[39m::filter()\n",
      "\u001b[31m✖\u001b[39m \u001b[34mdplyr\u001b[39m::\u001b[32mlag()\u001b[39m    masks \u001b[34mstats\u001b[39m::lag()\n",
      "\n",
      "\n",
      "Attaching package: ‘testthat’\n",
      "\n",
      "\n",
      "The following object is masked from ‘package:dplyr’:\n",
      "\n",
      "    matches\n",
      "\n",
      "\n",
      "The following object is masked from ‘package:purrr’:\n",
      "\n",
      "    is_null\n",
      "\n",
      "\n",
      "The following objects are masked from ‘package:readr’:\n",
      "\n",
      "    edition_get, local_edition\n",
      "\n",
      "\n",
      "The following object is masked from ‘package:tidyr’:\n",
      "\n",
      "    matches\n",
      "\n",
      "\n",
      "── \u001b[1mAttaching packages\u001b[22m ────────────────────────────────────── tidymodels 1.0.0 ──\n",
      "\n",
      "\u001b[32m✔\u001b[39m \u001b[34mbroom       \u001b[39m 1.0.0     \u001b[32m✔\u001b[39m \u001b[34mrsample     \u001b[39m 1.0.0\n",
      "\u001b[32m✔\u001b[39m \u001b[34mdials       \u001b[39m 1.0.0     \u001b[32m✔\u001b[39m \u001b[34mtune        \u001b[39m 1.0.0\n",
      "\u001b[32m✔\u001b[39m \u001b[34minfer       \u001b[39m 1.0.2     \u001b[32m✔\u001b[39m \u001b[34mworkflows   \u001b[39m 1.0.0\n",
      "\u001b[32m✔\u001b[39m \u001b[34mmodeldata   \u001b[39m 1.0.0     \u001b[32m✔\u001b[39m \u001b[34mworkflowsets\u001b[39m 1.0.0\n",
      "\u001b[32m✔\u001b[39m \u001b[34mparsnip     \u001b[39m 1.0.0     \u001b[32m✔\u001b[39m \u001b[34myardstick   \u001b[39m 1.0.0\n",
      "\u001b[32m✔\u001b[39m \u001b[34mrecipes     \u001b[39m 1.0.1     \n",
      "\n",
      "── \u001b[1mConflicts\u001b[22m ───────────────────────────────────────── tidymodels_conflicts() ──\n",
      "\u001b[31m✖\u001b[39m \u001b[34mscales\u001b[39m::\u001b[32mdiscard()\u001b[39m   masks \u001b[34mpurrr\u001b[39m::discard()\n",
      "\u001b[31m✖\u001b[39m \u001b[34mdplyr\u001b[39m::\u001b[32mfilter()\u001b[39m     masks \u001b[34mstats\u001b[39m::filter()\n",
      "\u001b[31m✖\u001b[39m \u001b[34mrecipes\u001b[39m::\u001b[32mfixed()\u001b[39m    masks \u001b[34mstringr\u001b[39m::fixed()\n",
      "\u001b[31m✖\u001b[39m \u001b[34mtestthat\u001b[39m::\u001b[32mis_null()\u001b[39m masks \u001b[34mpurrr\u001b[39m::is_null()\n",
      "\u001b[31m✖\u001b[39m \u001b[34mdplyr\u001b[39m::\u001b[32mlag()\u001b[39m        masks \u001b[34mstats\u001b[39m::lag()\n",
      "\u001b[31m✖\u001b[39m \u001b[34mrsample\u001b[39m::\u001b[32mmatches()\u001b[39m  masks \u001b[34mtestthat\u001b[39m::matches(), \u001b[34mdplyr\u001b[39m::matches(), \u001b[34mtidyr\u001b[39m::matches()\n",
      "\u001b[31m✖\u001b[39m \u001b[34myardstick\u001b[39m::\u001b[32mspec()\u001b[39m   masks \u001b[34mreadr\u001b[39m::spec()\n",
      "\u001b[31m✖\u001b[39m \u001b[34mrecipes\u001b[39m::\u001b[32mstep()\u001b[39m     masks \u001b[34mstats\u001b[39m::step()\n",
      "\u001b[34m•\u001b[39m Use \u001b[32mtidymodels_prefer()\u001b[39m to resolve common conflicts.\n",
      "\n"
     ]
    }
   ],
   "source": [
    "library(tidyverse)\n",
    "library(testthat)\n",
    "library(digest)\n",
    "library(repr)\n",
    "library(tidymodels)\n",
    "# library(themis)\n",
    "options(repr.matrix.max.rows = 7)"
   ]
  },
  {
   "cell_type": "markdown",
   "id": "14fc6019-969a-429b-94ea-867a2877cbd4",
   "metadata": {},
   "source": [
    "## Reading the data"
   ]
  },
  {
   "cell_type": "code",
   "execution_count": 10,
   "id": "aed69ff6-b45d-49db-964c-125901cfcc98",
   "metadata": {},
   "outputs": [
    {
     "name": "stderr",
     "output_type": "stream",
     "text": [
      "\u001b[1mRows: \u001b[22m\u001b[34m1885\u001b[39m \u001b[1mColumns: \u001b[22m\u001b[34m32\u001b[39m\n",
      "\u001b[36m──\u001b[39m \u001b[1mColumn specification\u001b[22m \u001b[36m────────────────────────────────────────────────────────\u001b[39m\n",
      "\u001b[1mDelimiter:\u001b[22m \",\"\n",
      "\u001b[31mchr\u001b[39m (19): X14, X15, X16, X17, X18, X19, X20, X21, X22, X23, X24, X25, X26, X...\n",
      "\u001b[32mdbl\u001b[39m (13): X1, X2, X3, X4, X5, X6, X7, X8, X9, X10, X11, X12, X13\n",
      "\n",
      "\u001b[36mℹ\u001b[39m Use `spec()` to retrieve the full column specification for this data.\n",
      "\u001b[36mℹ\u001b[39m Specify the column types or set `show_col_types = FALSE` to quiet this message.\n"
     ]
    },
    {
     "data": {
      "text/html": [
       "<table class=\"dataframe\">\n",
       "<caption>A spec_tbl_df: 1885 × 32</caption>\n",
       "<thead>\n",
       "\t<tr><th scope=col>X1</th><th scope=col>X2</th><th scope=col>X3</th><th scope=col>X4</th><th scope=col>X5</th><th scope=col>X6</th><th scope=col>X7</th><th scope=col>X8</th><th scope=col>X9</th><th scope=col>X10</th><th scope=col>⋯</th><th scope=col>X23</th><th scope=col>X24</th><th scope=col>X25</th><th scope=col>X26</th><th scope=col>X27</th><th scope=col>X28</th><th scope=col>X29</th><th scope=col>X30</th><th scope=col>X31</th><th scope=col>X32</th></tr>\n",
       "\t<tr><th scope=col>&lt;dbl&gt;</th><th scope=col>&lt;dbl&gt;</th><th scope=col>&lt;dbl&gt;</th><th scope=col>&lt;dbl&gt;</th><th scope=col>&lt;dbl&gt;</th><th scope=col>&lt;dbl&gt;</th><th scope=col>&lt;dbl&gt;</th><th scope=col>&lt;dbl&gt;</th><th scope=col>&lt;dbl&gt;</th><th scope=col>&lt;dbl&gt;</th><th scope=col>⋯</th><th scope=col>&lt;chr&gt;</th><th scope=col>&lt;chr&gt;</th><th scope=col>&lt;chr&gt;</th><th scope=col>&lt;chr&gt;</th><th scope=col>&lt;chr&gt;</th><th scope=col>&lt;chr&gt;</th><th scope=col>&lt;chr&gt;</th><th scope=col>&lt;chr&gt;</th><th scope=col>&lt;chr&gt;</th><th scope=col>&lt;chr&gt;</th></tr>\n",
       "</thead>\n",
       "<tbody>\n",
       "\t<tr><td>1</td><td> 0.49788</td><td> 0.48246</td><td>-0.05921</td><td>0.96082</td><td> 0.12600</td><td> 0.31287</td><td>-0.57545</td><td>-0.58331</td><td>-0.91699</td><td>⋯</td><td>CL0</td><td>CL0</td><td>CL0</td><td>CL0</td><td>CL0</td><td>CL0</td><td>CL0</td><td>CL2</td><td>CL0</td><td>CL0</td></tr>\n",
       "\t<tr><td>2</td><td>-0.07854</td><td>-0.48246</td><td> 1.98437</td><td>0.96082</td><td>-0.31685</td><td>-0.67825</td><td> 1.93886</td><td> 1.43533</td><td> 0.76096</td><td>⋯</td><td>CL4</td><td>CL0</td><td>CL2</td><td>CL0</td><td>CL2</td><td>CL3</td><td>CL0</td><td>CL4</td><td>CL0</td><td>CL0</td></tr>\n",
       "\t<tr><td>3</td><td> 0.49788</td><td>-0.48246</td><td>-0.05921</td><td>0.96082</td><td>-0.31685</td><td>-0.46725</td><td> 0.80523</td><td>-0.84732</td><td>-1.62090</td><td>⋯</td><td>CL0</td><td>CL0</td><td>CL0</td><td>CL0</td><td>CL0</td><td>CL0</td><td>CL1</td><td>CL0</td><td>CL0</td><td>CL0</td></tr>\n",
       "\t<tr><td>4</td><td>-0.95197</td><td> 0.48246</td><td> 1.16365</td><td>0.96082</td><td>-0.31685</td><td>-0.14882</td><td>-0.80615</td><td>-0.01928</td><td> 0.59042</td><td>⋯</td><td>CL0</td><td>CL0</td><td>CL2</td><td>CL0</td><td>CL0</td><td>CL0</td><td>CL0</td><td>CL2</td><td>CL0</td><td>CL0</td></tr>\n",
       "\t<tr><td>⋮</td><td>⋮</td><td>⋮</td><td>⋮</td><td>⋮</td><td>⋮</td><td>⋮</td><td>⋮</td><td>⋮</td><td>⋮</td><td>⋱</td><td>⋮</td><td>⋮</td><td>⋮</td><td>⋮</td><td>⋮</td><td>⋮</td><td>⋮</td><td>⋮</td><td>⋮</td><td>⋮</td></tr>\n",
       "\t<tr><td>1886</td><td>-0.07854</td><td> 0.48246</td><td> 0.45468</td><td>-0.57009</td><td>-0.31685</td><td> 1.13281</td><td>-1.37639</td><td>-1.27553</td><td>-1.77200</td><td>⋯</td><td>CL4</td><td>CL0</td><td>CL2</td><td>CL0</td><td>CL2</td><td>CL0</td><td>CL2</td><td>CL6</td><td>CL0</td><td>CL0</td></tr>\n",
       "\t<tr><td>1887</td><td>-0.95197</td><td> 0.48246</td><td>-0.61113</td><td>-0.57009</td><td>-0.31685</td><td> 0.91093</td><td>-1.92173</td><td> 0.29338</td><td>-1.62090</td><td>⋯</td><td>CL3</td><td>CL0</td><td>CL0</td><td>CL3</td><td>CL3</td><td>CL0</td><td>CL3</td><td>CL4</td><td>CL0</td><td>CL0</td></tr>\n",
       "\t<tr><td>1888</td><td>-0.95197</td><td>-0.48246</td><td>-0.61113</td><td> 0.21128</td><td>-0.31685</td><td>-0.46725</td><td> 2.12700</td><td> 1.65653</td><td> 1.11406</td><td>⋯</td><td>CL3</td><td>CL0</td><td>CL0</td><td>CL3</td><td>CL3</td><td>CL0</td><td>CL3</td><td>CL6</td><td>CL0</td><td>CL2</td></tr>\n",
       "</tbody>\n",
       "</table>\n"
      ],
      "text/latex": [
       "A spec\\_tbl\\_df: 1885 × 32\n",
       "\\begin{tabular}{lllllllllllllllllllll}\n",
       " X1 & X2 & X3 & X4 & X5 & X6 & X7 & X8 & X9 & X10 & ⋯ & X23 & X24 & X25 & X26 & X27 & X28 & X29 & X30 & X31 & X32\\\\\n",
       " <dbl> & <dbl> & <dbl> & <dbl> & <dbl> & <dbl> & <dbl> & <dbl> & <dbl> & <dbl> & ⋯ & <chr> & <chr> & <chr> & <chr> & <chr> & <chr> & <chr> & <chr> & <chr> & <chr>\\\\\n",
       "\\hline\n",
       "\t 1 &  0.49788 &  0.48246 & -0.05921 & 0.96082 &  0.12600 &  0.31287 & -0.57545 & -0.58331 & -0.91699 & ⋯ & CL0 & CL0 & CL0 & CL0 & CL0 & CL0 & CL0 & CL2 & CL0 & CL0\\\\\n",
       "\t 2 & -0.07854 & -0.48246 &  1.98437 & 0.96082 & -0.31685 & -0.67825 &  1.93886 &  1.43533 &  0.76096 & ⋯ & CL4 & CL0 & CL2 & CL0 & CL2 & CL3 & CL0 & CL4 & CL0 & CL0\\\\\n",
       "\t 3 &  0.49788 & -0.48246 & -0.05921 & 0.96082 & -0.31685 & -0.46725 &  0.80523 & -0.84732 & -1.62090 & ⋯ & CL0 & CL0 & CL0 & CL0 & CL0 & CL0 & CL1 & CL0 & CL0 & CL0\\\\\n",
       "\t 4 & -0.95197 &  0.48246 &  1.16365 & 0.96082 & -0.31685 & -0.14882 & -0.80615 & -0.01928 &  0.59042 & ⋯ & CL0 & CL0 & CL2 & CL0 & CL0 & CL0 & CL0 & CL2 & CL0 & CL0\\\\\n",
       "\t ⋮ & ⋮ & ⋮ & ⋮ & ⋮ & ⋮ & ⋮ & ⋮ & ⋮ & ⋮ & ⋱ & ⋮ & ⋮ & ⋮ & ⋮ & ⋮ & ⋮ & ⋮ & ⋮ & ⋮ & ⋮\\\\\n",
       "\t 1886 & -0.07854 &  0.48246 &  0.45468 & -0.57009 & -0.31685 &  1.13281 & -1.37639 & -1.27553 & -1.77200 & ⋯ & CL4 & CL0 & CL2 & CL0 & CL2 & CL0 & CL2 & CL6 & CL0 & CL0\\\\\n",
       "\t 1887 & -0.95197 &  0.48246 & -0.61113 & -0.57009 & -0.31685 &  0.91093 & -1.92173 &  0.29338 & -1.62090 & ⋯ & CL3 & CL0 & CL0 & CL3 & CL3 & CL0 & CL3 & CL4 & CL0 & CL0\\\\\n",
       "\t 1888 & -0.95197 & -0.48246 & -0.61113 &  0.21128 & -0.31685 & -0.46725 &  2.12700 &  1.65653 &  1.11406 & ⋯ & CL3 & CL0 & CL0 & CL3 & CL3 & CL0 & CL3 & CL6 & CL0 & CL2\\\\\n",
       "\\end{tabular}\n"
      ],
      "text/markdown": [
       "\n",
       "A spec_tbl_df: 1885 × 32\n",
       "\n",
       "| X1 &lt;dbl&gt; | X2 &lt;dbl&gt; | X3 &lt;dbl&gt; | X4 &lt;dbl&gt; | X5 &lt;dbl&gt; | X6 &lt;dbl&gt; | X7 &lt;dbl&gt; | X8 &lt;dbl&gt; | X9 &lt;dbl&gt; | X10 &lt;dbl&gt; | ⋯ ⋯ | X23 &lt;chr&gt; | X24 &lt;chr&gt; | X25 &lt;chr&gt; | X26 &lt;chr&gt; | X27 &lt;chr&gt; | X28 &lt;chr&gt; | X29 &lt;chr&gt; | X30 &lt;chr&gt; | X31 &lt;chr&gt; | X32 &lt;chr&gt; |\n",
       "|---|---|---|---|---|---|---|---|---|---|---|---|---|---|---|---|---|---|---|---|---|\n",
       "| 1 |  0.49788 |  0.48246 | -0.05921 | 0.96082 |  0.12600 |  0.31287 | -0.57545 | -0.58331 | -0.91699 | ⋯ | CL0 | CL0 | CL0 | CL0 | CL0 | CL0 | CL0 | CL2 | CL0 | CL0 |\n",
       "| 2 | -0.07854 | -0.48246 |  1.98437 | 0.96082 | -0.31685 | -0.67825 |  1.93886 |  1.43533 |  0.76096 | ⋯ | CL4 | CL0 | CL2 | CL0 | CL2 | CL3 | CL0 | CL4 | CL0 | CL0 |\n",
       "| 3 |  0.49788 | -0.48246 | -0.05921 | 0.96082 | -0.31685 | -0.46725 |  0.80523 | -0.84732 | -1.62090 | ⋯ | CL0 | CL0 | CL0 | CL0 | CL0 | CL0 | CL1 | CL0 | CL0 | CL0 |\n",
       "| 4 | -0.95197 |  0.48246 |  1.16365 | 0.96082 | -0.31685 | -0.14882 | -0.80615 | -0.01928 |  0.59042 | ⋯ | CL0 | CL0 | CL2 | CL0 | CL0 | CL0 | CL0 | CL2 | CL0 | CL0 |\n",
       "| ⋮ | ⋮ | ⋮ | ⋮ | ⋮ | ⋮ | ⋮ | ⋮ | ⋮ | ⋮ | ⋱ | ⋮ | ⋮ | ⋮ | ⋮ | ⋮ | ⋮ | ⋮ | ⋮ | ⋮ | ⋮ |\n",
       "| 1886 | -0.07854 |  0.48246 |  0.45468 | -0.57009 | -0.31685 |  1.13281 | -1.37639 | -1.27553 | -1.77200 | ⋯ | CL4 | CL0 | CL2 | CL0 | CL2 | CL0 | CL2 | CL6 | CL0 | CL0 |\n",
       "| 1887 | -0.95197 |  0.48246 | -0.61113 | -0.57009 | -0.31685 |  0.91093 | -1.92173 |  0.29338 | -1.62090 | ⋯ | CL3 | CL0 | CL0 | CL3 | CL3 | CL0 | CL3 | CL4 | CL0 | CL0 |\n",
       "| 1888 | -0.95197 | -0.48246 | -0.61113 |  0.21128 | -0.31685 | -0.46725 |  2.12700 |  1.65653 |  1.11406 | ⋯ | CL3 | CL0 | CL0 | CL3 | CL3 | CL0 | CL3 | CL6 | CL0 | CL2 |\n",
       "\n"
      ],
      "text/plain": [
       "     X1   X2       X3       X4       X5       X6       X7       X8      \n",
       "1    1     0.49788  0.48246 -0.05921 0.96082   0.12600  0.31287 -0.57545\n",
       "2    2    -0.07854 -0.48246  1.98437 0.96082  -0.31685 -0.67825  1.93886\n",
       "3    3     0.49788 -0.48246 -0.05921 0.96082  -0.31685 -0.46725  0.80523\n",
       "4    4    -0.95197  0.48246  1.16365 0.96082  -0.31685 -0.14882 -0.80615\n",
       "⋮    ⋮    ⋮        ⋮        ⋮        ⋮        ⋮        ⋮        ⋮       \n",
       "1883 1886 -0.07854  0.48246  0.45468 -0.57009 -0.31685  1.13281 -1.37639\n",
       "1884 1887 -0.95197  0.48246 -0.61113 -0.57009 -0.31685  0.91093 -1.92173\n",
       "1885 1888 -0.95197 -0.48246 -0.61113  0.21128 -0.31685 -0.46725  2.12700\n",
       "     X9       X10      ⋯ X23 X24 X25 X26 X27 X28 X29 X30 X31 X32\n",
       "1    -0.58331 -0.91699 ⋯ CL0 CL0 CL0 CL0 CL0 CL0 CL0 CL2 CL0 CL0\n",
       "2     1.43533  0.76096 ⋯ CL4 CL0 CL2 CL0 CL2 CL3 CL0 CL4 CL0 CL0\n",
       "3    -0.84732 -1.62090 ⋯ CL0 CL0 CL0 CL0 CL0 CL0 CL1 CL0 CL0 CL0\n",
       "4    -0.01928  0.59042 ⋯ CL0 CL0 CL2 CL0 CL0 CL0 CL0 CL2 CL0 CL0\n",
       "⋮    ⋮        ⋮        ⋱ ⋮   ⋮   ⋮   ⋮   ⋮   ⋮   ⋮   ⋮   ⋮   ⋮  \n",
       "1883 -1.27553 -1.77200 ⋯ CL4 CL0 CL2 CL0 CL2 CL0 CL2 CL6 CL0 CL0\n",
       "1884  0.29338 -1.62090 ⋯ CL3 CL0 CL0 CL3 CL3 CL0 CL3 CL4 CL0 CL0\n",
       "1885  1.65653  1.11406 ⋯ CL3 CL0 CL0 CL3 CL3 CL0 CL3 CL6 CL0 CL2"
      ]
     },
     "metadata": {},
     "output_type": "display_data"
    }
   ],
   "source": [
    "drugs_data <- read_csv(\"https://archive.ics.uci.edu/ml/machine-learning-databases/00373/drug_consumption.data\", col_names = FALSE)\n",
    "drugs_data"
   ]
  },
  {
   "cell_type": "markdown",
   "id": "d3575b5f-8b09-470d-81f2-f8eb4ae30f79",
   "metadata": {},
   "source": [
    "### Assigning column names"
   ]
  },
  {
   "cell_type": "code",
   "execution_count": 3,
   "id": "c25aafbf-afd7-4eea-9d66-06987fbc86ad",
   "metadata": {},
   "outputs": [
    {
     "data": {
      "text/html": [
       "<table class=\"dataframe\">\n",
       "<caption>A spec_tbl_df: 1885 × 32</caption>\n",
       "<thead>\n",
       "\t<tr><th scope=col>ID</th><th scope=col>Age</th><th scope=col>Gender</th><th scope=col>Education</th><th scope=col>Country</th><th scope=col>Ethnicity</th><th scope=col>Neuroticism</th><th scope=col>Extraversion</th><th scope=col>Openness_to_Experience</th><th scope=col>Agreeableness</th><th scope=col>⋯</th><th scope=col>Ecstacy</th><th scope=col>Heorin</th><th scope=col>LegalH</th><th scope=col>LSD</th><th scope=col>Meth</th><th scope=col>Mushrooms</th><th scope=col>Nicotine</th><th scope=col>Semer</th><th scope=col>VSA</th><th scope=col>NA</th></tr>\n",
       "\t<tr><th scope=col>&lt;dbl&gt;</th><th scope=col>&lt;dbl&gt;</th><th scope=col>&lt;dbl&gt;</th><th scope=col>&lt;dbl&gt;</th><th scope=col>&lt;dbl&gt;</th><th scope=col>&lt;dbl&gt;</th><th scope=col>&lt;dbl&gt;</th><th scope=col>&lt;dbl&gt;</th><th scope=col>&lt;dbl&gt;</th><th scope=col>&lt;dbl&gt;</th><th scope=col>⋯</th><th scope=col>&lt;chr&gt;</th><th scope=col>&lt;chr&gt;</th><th scope=col>&lt;chr&gt;</th><th scope=col>&lt;chr&gt;</th><th scope=col>&lt;chr&gt;</th><th scope=col>&lt;chr&gt;</th><th scope=col>&lt;chr&gt;</th><th scope=col>&lt;chr&gt;</th><th scope=col>&lt;chr&gt;</th><th scope=col>&lt;chr&gt;</th></tr>\n",
       "</thead>\n",
       "<tbody>\n",
       "\t<tr><td>1</td><td> 0.49788</td><td> 0.48246</td><td>-0.05921</td><td>0.96082</td><td> 0.12600</td><td> 0.31287</td><td>-0.57545</td><td>-0.58331</td><td>-0.91699</td><td>⋯</td><td>CL0</td><td>CL0</td><td>CL0</td><td>CL0</td><td>CL0</td><td>CL0</td><td>CL0</td><td>CL2</td><td>CL0</td><td>CL0</td></tr>\n",
       "\t<tr><td>2</td><td>-0.07854</td><td>-0.48246</td><td> 1.98437</td><td>0.96082</td><td>-0.31685</td><td>-0.67825</td><td> 1.93886</td><td> 1.43533</td><td> 0.76096</td><td>⋯</td><td>CL4</td><td>CL0</td><td>CL2</td><td>CL0</td><td>CL2</td><td>CL3</td><td>CL0</td><td>CL4</td><td>CL0</td><td>CL0</td></tr>\n",
       "\t<tr><td>3</td><td> 0.49788</td><td>-0.48246</td><td>-0.05921</td><td>0.96082</td><td>-0.31685</td><td>-0.46725</td><td> 0.80523</td><td>-0.84732</td><td>-1.62090</td><td>⋯</td><td>CL0</td><td>CL0</td><td>CL0</td><td>CL0</td><td>CL0</td><td>CL0</td><td>CL1</td><td>CL0</td><td>CL0</td><td>CL0</td></tr>\n",
       "\t<tr><td>4</td><td>-0.95197</td><td> 0.48246</td><td> 1.16365</td><td>0.96082</td><td>-0.31685</td><td>-0.14882</td><td>-0.80615</td><td>-0.01928</td><td> 0.59042</td><td>⋯</td><td>CL0</td><td>CL0</td><td>CL2</td><td>CL0</td><td>CL0</td><td>CL0</td><td>CL0</td><td>CL2</td><td>CL0</td><td>CL0</td></tr>\n",
       "\t<tr><td>⋮</td><td>⋮</td><td>⋮</td><td>⋮</td><td>⋮</td><td>⋮</td><td>⋮</td><td>⋮</td><td>⋮</td><td>⋮</td><td>⋱</td><td>⋮</td><td>⋮</td><td>⋮</td><td>⋮</td><td>⋮</td><td>⋮</td><td>⋮</td><td>⋮</td><td>⋮</td><td>⋮</td></tr>\n",
       "\t<tr><td>1886</td><td>-0.07854</td><td> 0.48246</td><td> 0.45468</td><td>-0.57009</td><td>-0.31685</td><td> 1.13281</td><td>-1.37639</td><td>-1.27553</td><td>-1.77200</td><td>⋯</td><td>CL4</td><td>CL0</td><td>CL2</td><td>CL0</td><td>CL2</td><td>CL0</td><td>CL2</td><td>CL6</td><td>CL0</td><td>CL0</td></tr>\n",
       "\t<tr><td>1887</td><td>-0.95197</td><td> 0.48246</td><td>-0.61113</td><td>-0.57009</td><td>-0.31685</td><td> 0.91093</td><td>-1.92173</td><td> 0.29338</td><td>-1.62090</td><td>⋯</td><td>CL3</td><td>CL0</td><td>CL0</td><td>CL3</td><td>CL3</td><td>CL0</td><td>CL3</td><td>CL4</td><td>CL0</td><td>CL0</td></tr>\n",
       "\t<tr><td>1888</td><td>-0.95197</td><td>-0.48246</td><td>-0.61113</td><td> 0.21128</td><td>-0.31685</td><td>-0.46725</td><td> 2.12700</td><td> 1.65653</td><td> 1.11406</td><td>⋯</td><td>CL3</td><td>CL0</td><td>CL0</td><td>CL3</td><td>CL3</td><td>CL0</td><td>CL3</td><td>CL6</td><td>CL0</td><td>CL2</td></tr>\n",
       "</tbody>\n",
       "</table>\n"
      ],
      "text/latex": [
       "A spec\\_tbl\\_df: 1885 × 32\n",
       "\\begin{tabular}{lllllllllllllllllllll}\n",
       " ID & Age & Gender & Education & Country & Ethnicity & Neuroticism & Extraversion & Openness\\_to\\_Experience & Agreeableness & ⋯ & Ecstacy & Heorin & LegalH & LSD & Meth & Mushrooms & Nicotine & Semer & VSA & NA\\\\\n",
       " <dbl> & <dbl> & <dbl> & <dbl> & <dbl> & <dbl> & <dbl> & <dbl> & <dbl> & <dbl> & ⋯ & <chr> & <chr> & <chr> & <chr> & <chr> & <chr> & <chr> & <chr> & <chr> & <chr>\\\\\n",
       "\\hline\n",
       "\t 1 &  0.49788 &  0.48246 & -0.05921 & 0.96082 &  0.12600 &  0.31287 & -0.57545 & -0.58331 & -0.91699 & ⋯ & CL0 & CL0 & CL0 & CL0 & CL0 & CL0 & CL0 & CL2 & CL0 & CL0\\\\\n",
       "\t 2 & -0.07854 & -0.48246 &  1.98437 & 0.96082 & -0.31685 & -0.67825 &  1.93886 &  1.43533 &  0.76096 & ⋯ & CL4 & CL0 & CL2 & CL0 & CL2 & CL3 & CL0 & CL4 & CL0 & CL0\\\\\n",
       "\t 3 &  0.49788 & -0.48246 & -0.05921 & 0.96082 & -0.31685 & -0.46725 &  0.80523 & -0.84732 & -1.62090 & ⋯ & CL0 & CL0 & CL0 & CL0 & CL0 & CL0 & CL1 & CL0 & CL0 & CL0\\\\\n",
       "\t 4 & -0.95197 &  0.48246 &  1.16365 & 0.96082 & -0.31685 & -0.14882 & -0.80615 & -0.01928 &  0.59042 & ⋯ & CL0 & CL0 & CL2 & CL0 & CL0 & CL0 & CL0 & CL2 & CL0 & CL0\\\\\n",
       "\t ⋮ & ⋮ & ⋮ & ⋮ & ⋮ & ⋮ & ⋮ & ⋮ & ⋮ & ⋮ & ⋱ & ⋮ & ⋮ & ⋮ & ⋮ & ⋮ & ⋮ & ⋮ & ⋮ & ⋮ & ⋮\\\\\n",
       "\t 1886 & -0.07854 &  0.48246 &  0.45468 & -0.57009 & -0.31685 &  1.13281 & -1.37639 & -1.27553 & -1.77200 & ⋯ & CL4 & CL0 & CL2 & CL0 & CL2 & CL0 & CL2 & CL6 & CL0 & CL0\\\\\n",
       "\t 1887 & -0.95197 &  0.48246 & -0.61113 & -0.57009 & -0.31685 &  0.91093 & -1.92173 &  0.29338 & -1.62090 & ⋯ & CL3 & CL0 & CL0 & CL3 & CL3 & CL0 & CL3 & CL4 & CL0 & CL0\\\\\n",
       "\t 1888 & -0.95197 & -0.48246 & -0.61113 &  0.21128 & -0.31685 & -0.46725 &  2.12700 &  1.65653 &  1.11406 & ⋯ & CL3 & CL0 & CL0 & CL3 & CL3 & CL0 & CL3 & CL6 & CL0 & CL2\\\\\n",
       "\\end{tabular}\n"
      ],
      "text/markdown": [
       "\n",
       "A spec_tbl_df: 1885 × 32\n",
       "\n",
       "| ID &lt;dbl&gt; | Age &lt;dbl&gt; | Gender &lt;dbl&gt; | Education &lt;dbl&gt; | Country &lt;dbl&gt; | Ethnicity &lt;dbl&gt; | Neuroticism &lt;dbl&gt; | Extraversion &lt;dbl&gt; | Openness_to_Experience &lt;dbl&gt; | Agreeableness &lt;dbl&gt; | ⋯ ⋯ | Ecstacy &lt;chr&gt; | Heorin &lt;chr&gt; | LegalH &lt;chr&gt; | LSD &lt;chr&gt; | Meth &lt;chr&gt; | Mushrooms &lt;chr&gt; | Nicotine &lt;chr&gt; | Semer &lt;chr&gt; | VSA &lt;chr&gt; | NA &lt;chr&gt; |\n",
       "|---|---|---|---|---|---|---|---|---|---|---|---|---|---|---|---|---|---|---|---|---|\n",
       "| 1 |  0.49788 |  0.48246 | -0.05921 | 0.96082 |  0.12600 |  0.31287 | -0.57545 | -0.58331 | -0.91699 | ⋯ | CL0 | CL0 | CL0 | CL0 | CL0 | CL0 | CL0 | CL2 | CL0 | CL0 |\n",
       "| 2 | -0.07854 | -0.48246 |  1.98437 | 0.96082 | -0.31685 | -0.67825 |  1.93886 |  1.43533 |  0.76096 | ⋯ | CL4 | CL0 | CL2 | CL0 | CL2 | CL3 | CL0 | CL4 | CL0 | CL0 |\n",
       "| 3 |  0.49788 | -0.48246 | -0.05921 | 0.96082 | -0.31685 | -0.46725 |  0.80523 | -0.84732 | -1.62090 | ⋯ | CL0 | CL0 | CL0 | CL0 | CL0 | CL0 | CL1 | CL0 | CL0 | CL0 |\n",
       "| 4 | -0.95197 |  0.48246 |  1.16365 | 0.96082 | -0.31685 | -0.14882 | -0.80615 | -0.01928 |  0.59042 | ⋯ | CL0 | CL0 | CL2 | CL0 | CL0 | CL0 | CL0 | CL2 | CL0 | CL0 |\n",
       "| ⋮ | ⋮ | ⋮ | ⋮ | ⋮ | ⋮ | ⋮ | ⋮ | ⋮ | ⋮ | ⋱ | ⋮ | ⋮ | ⋮ | ⋮ | ⋮ | ⋮ | ⋮ | ⋮ | ⋮ | ⋮ |\n",
       "| 1886 | -0.07854 |  0.48246 |  0.45468 | -0.57009 | -0.31685 |  1.13281 | -1.37639 | -1.27553 | -1.77200 | ⋯ | CL4 | CL0 | CL2 | CL0 | CL2 | CL0 | CL2 | CL6 | CL0 | CL0 |\n",
       "| 1887 | -0.95197 |  0.48246 | -0.61113 | -0.57009 | -0.31685 |  0.91093 | -1.92173 |  0.29338 | -1.62090 | ⋯ | CL3 | CL0 | CL0 | CL3 | CL3 | CL0 | CL3 | CL4 | CL0 | CL0 |\n",
       "| 1888 | -0.95197 | -0.48246 | -0.61113 |  0.21128 | -0.31685 | -0.46725 |  2.12700 |  1.65653 |  1.11406 | ⋯ | CL3 | CL0 | CL0 | CL3 | CL3 | CL0 | CL3 | CL6 | CL0 | CL2 |\n",
       "\n"
      ],
      "text/plain": [
       "     ID   Age      Gender   Education Country  Ethnicity Neuroticism\n",
       "1    1     0.49788  0.48246 -0.05921  0.96082   0.12600   0.31287   \n",
       "2    2    -0.07854 -0.48246  1.98437  0.96082  -0.31685  -0.67825   \n",
       "3    3     0.49788 -0.48246 -0.05921  0.96082  -0.31685  -0.46725   \n",
       "4    4    -0.95197  0.48246  1.16365  0.96082  -0.31685  -0.14882   \n",
       "⋮    ⋮    ⋮        ⋮        ⋮         ⋮        ⋮         ⋮          \n",
       "1883 1886 -0.07854  0.48246  0.45468  -0.57009 -0.31685   1.13281   \n",
       "1884 1887 -0.95197  0.48246 -0.61113  -0.57009 -0.31685   0.91093   \n",
       "1885 1888 -0.95197 -0.48246 -0.61113   0.21128 -0.31685  -0.46725   \n",
       "     Extraversion Openness_to_Experience Agreeableness ⋯ Ecstacy Heorin LegalH\n",
       "1    -0.57545     -0.58331               -0.91699      ⋯ CL0     CL0    CL0   \n",
       "2     1.93886      1.43533                0.76096      ⋯ CL4     CL0    CL2   \n",
       "3     0.80523     -0.84732               -1.62090      ⋯ CL0     CL0    CL0   \n",
       "4    -0.80615     -0.01928                0.59042      ⋯ CL0     CL0    CL2   \n",
       "⋮    ⋮            ⋮                      ⋮             ⋱ ⋮       ⋮      ⋮     \n",
       "1883 -1.37639     -1.27553               -1.77200      ⋯ CL4     CL0    CL2   \n",
       "1884 -1.92173      0.29338               -1.62090      ⋯ CL3     CL0    CL0   \n",
       "1885  2.12700      1.65653                1.11406      ⋯ CL3     CL0    CL0   \n",
       "     LSD Meth Mushrooms Nicotine Semer VSA <NA>\n",
       "1    CL0 CL0  CL0       CL0      CL2   CL0 CL0 \n",
       "2    CL0 CL2  CL3       CL0      CL4   CL0 CL0 \n",
       "3    CL0 CL0  CL0       CL1      CL0   CL0 CL0 \n",
       "4    CL0 CL0  CL0       CL0      CL2   CL0 CL0 \n",
       "⋮    ⋮   ⋮    ⋮         ⋮        ⋮     ⋮   ⋮   \n",
       "1883 CL0 CL2  CL0       CL2      CL6   CL0 CL0 \n",
       "1884 CL3 CL3  CL0       CL3      CL4   CL0 CL0 \n",
       "1885 CL3 CL3  CL0       CL3      CL6   CL0 CL2 "
      ]
     },
     "metadata": {},
     "output_type": "display_data"
    }
   ],
   "source": [
    "colnames(drugs_data) <- c(\"ID\", \"Age\", \"Gender\", \"Education\", \"Country\", \"Ethnicity\", \"Neuroticism\", \"Extraversion\", \n",
    "                          \"Openness_to_Experience\", \"Agreeableness\", \"Conscientiousness\", \"Impulsiveness\", \n",
    "                          \"Sensation_Seeing\", \"Alcohol\", \"Amphet\", \"Amyl\", \"Benzos\", \"Caff\", \"Cannabis\", \"Choc\", \"Coke\",\n",
    "                          \"Crack\", \"Ecstacy\", \"Heorin\", \"LegalH\", \"LSD\", \"Meth\", \"Mushrooms\", \"Nicotine\", \"Semer\", \"VSA\")\n",
    "drugs_data"
   ]
  },
  {
   "cell_type": "markdown",
   "id": "fe74f2ef-49e6-42f0-b6d5-a7061728a363",
   "metadata": {},
   "source": [
    "### Removing unneccesary variables"
   ]
  },
  {
   "cell_type": "code",
   "execution_count": 4,
   "id": "4b80c7ef-9589-42eb-8198-cb60e92ae8c1",
   "metadata": {},
   "outputs": [
    {
     "data": {
      "text/html": [
       "<table class=\"dataframe\">\n",
       "<caption>A tibble: 1885 × 9</caption>\n",
       "<thead>\n",
       "\t<tr><th scope=col>Age</th><th scope=col>Neuroticism</th><th scope=col>Extraversion</th><th scope=col>Openness_to_Experience</th><th scope=col>Agreeableness</th><th scope=col>Impulsiveness</th><th scope=col>Conscientiousness</th><th scope=col>Alcohol</th><th scope=col>Semer</th></tr>\n",
       "\t<tr><th scope=col>&lt;dbl&gt;</th><th scope=col>&lt;dbl&gt;</th><th scope=col>&lt;dbl&gt;</th><th scope=col>&lt;dbl&gt;</th><th scope=col>&lt;dbl&gt;</th><th scope=col>&lt;dbl&gt;</th><th scope=col>&lt;dbl&gt;</th><th scope=col>&lt;chr&gt;</th><th scope=col>&lt;chr&gt;</th></tr>\n",
       "</thead>\n",
       "<tbody>\n",
       "\t<tr><td> 0.49788</td><td> 0.31287</td><td>-0.57545</td><td>-0.58331</td><td>-0.91699</td><td>-0.21712</td><td>-0.00665</td><td>CL5</td><td>CL2</td></tr>\n",
       "\t<tr><td>-0.07854</td><td>-0.67825</td><td> 1.93886</td><td> 1.43533</td><td> 0.76096</td><td>-0.71126</td><td>-0.14277</td><td>CL5</td><td>CL4</td></tr>\n",
       "\t<tr><td> 0.49788</td><td>-0.46725</td><td> 0.80523</td><td>-0.84732</td><td>-1.62090</td><td>-1.37983</td><td>-1.01450</td><td>CL6</td><td>CL0</td></tr>\n",
       "\t<tr><td>-0.95197</td><td>-0.14882</td><td>-0.80615</td><td>-0.01928</td><td> 0.59042</td><td>-1.37983</td><td> 0.58489</td><td>CL4</td><td>CL2</td></tr>\n",
       "\t<tr><td>⋮</td><td>⋮</td><td>⋮</td><td>⋮</td><td>⋮</td><td>⋮</td><td>⋮</td><td>⋮</td><td>⋮</td></tr>\n",
       "\t<tr><td>-0.07854</td><td> 1.13281</td><td>-1.37639</td><td>-1.27553</td><td>-1.77200</td><td>0.52975</td><td>-1.38502</td><td>CL4</td><td>CL6</td></tr>\n",
       "\t<tr><td>-0.95197</td><td> 0.91093</td><td>-1.92173</td><td> 0.29338</td><td>-1.62090</td><td>1.29221</td><td>-2.57309</td><td>CL5</td><td>CL4</td></tr>\n",
       "\t<tr><td>-0.95197</td><td>-0.46725</td><td> 2.12700</td><td> 1.65653</td><td> 1.11406</td><td>0.88113</td><td> 0.41594</td><td>CL4</td><td>CL6</td></tr>\n",
       "</tbody>\n",
       "</table>\n"
      ],
      "text/latex": [
       "A tibble: 1885 × 9\n",
       "\\begin{tabular}{lllllllll}\n",
       " Age & Neuroticism & Extraversion & Openness\\_to\\_Experience & Agreeableness & Impulsiveness & Conscientiousness & Alcohol & Semer\\\\\n",
       " <dbl> & <dbl> & <dbl> & <dbl> & <dbl> & <dbl> & <dbl> & <chr> & <chr>\\\\\n",
       "\\hline\n",
       "\t  0.49788 &  0.31287 & -0.57545 & -0.58331 & -0.91699 & -0.21712 & -0.00665 & CL5 & CL2\\\\\n",
       "\t -0.07854 & -0.67825 &  1.93886 &  1.43533 &  0.76096 & -0.71126 & -0.14277 & CL5 & CL4\\\\\n",
       "\t  0.49788 & -0.46725 &  0.80523 & -0.84732 & -1.62090 & -1.37983 & -1.01450 & CL6 & CL0\\\\\n",
       "\t -0.95197 & -0.14882 & -0.80615 & -0.01928 &  0.59042 & -1.37983 &  0.58489 & CL4 & CL2\\\\\n",
       "\t ⋮ & ⋮ & ⋮ & ⋮ & ⋮ & ⋮ & ⋮ & ⋮ & ⋮\\\\\n",
       "\t -0.07854 &  1.13281 & -1.37639 & -1.27553 & -1.77200 & 0.52975 & -1.38502 & CL4 & CL6\\\\\n",
       "\t -0.95197 &  0.91093 & -1.92173 &  0.29338 & -1.62090 & 1.29221 & -2.57309 & CL5 & CL4\\\\\n",
       "\t -0.95197 & -0.46725 &  2.12700 &  1.65653 &  1.11406 & 0.88113 &  0.41594 & CL4 & CL6\\\\\n",
       "\\end{tabular}\n"
      ],
      "text/markdown": [
       "\n",
       "A tibble: 1885 × 9\n",
       "\n",
       "| Age &lt;dbl&gt; | Neuroticism &lt;dbl&gt; | Extraversion &lt;dbl&gt; | Openness_to_Experience &lt;dbl&gt; | Agreeableness &lt;dbl&gt; | Impulsiveness &lt;dbl&gt; | Conscientiousness &lt;dbl&gt; | Alcohol &lt;chr&gt; | Semer &lt;chr&gt; |\n",
       "|---|---|---|---|---|---|---|---|---|\n",
       "|  0.49788 |  0.31287 | -0.57545 | -0.58331 | -0.91699 | -0.21712 | -0.00665 | CL5 | CL2 |\n",
       "| -0.07854 | -0.67825 |  1.93886 |  1.43533 |  0.76096 | -0.71126 | -0.14277 | CL5 | CL4 |\n",
       "|  0.49788 | -0.46725 |  0.80523 | -0.84732 | -1.62090 | -1.37983 | -1.01450 | CL6 | CL0 |\n",
       "| -0.95197 | -0.14882 | -0.80615 | -0.01928 |  0.59042 | -1.37983 |  0.58489 | CL4 | CL2 |\n",
       "| ⋮ | ⋮ | ⋮ | ⋮ | ⋮ | ⋮ | ⋮ | ⋮ | ⋮ |\n",
       "| -0.07854 |  1.13281 | -1.37639 | -1.27553 | -1.77200 | 0.52975 | -1.38502 | CL4 | CL6 |\n",
       "| -0.95197 |  0.91093 | -1.92173 |  0.29338 | -1.62090 | 1.29221 | -2.57309 | CL5 | CL4 |\n",
       "| -0.95197 | -0.46725 |  2.12700 |  1.65653 |  1.11406 | 0.88113 |  0.41594 | CL4 | CL6 |\n",
       "\n"
      ],
      "text/plain": [
       "     Age      Neuroticism Extraversion Openness_to_Experience Agreeableness\n",
       "1     0.49788  0.31287    -0.57545     -0.58331               -0.91699     \n",
       "2    -0.07854 -0.67825     1.93886      1.43533                0.76096     \n",
       "3     0.49788 -0.46725     0.80523     -0.84732               -1.62090     \n",
       "4    -0.95197 -0.14882    -0.80615     -0.01928                0.59042     \n",
       "⋮    ⋮        ⋮           ⋮            ⋮                      ⋮            \n",
       "1883 -0.07854  1.13281    -1.37639     -1.27553               -1.77200     \n",
       "1884 -0.95197  0.91093    -1.92173      0.29338               -1.62090     \n",
       "1885 -0.95197 -0.46725     2.12700      1.65653                1.11406     \n",
       "     Impulsiveness Conscientiousness Alcohol Semer\n",
       "1    -0.21712      -0.00665          CL5     CL2  \n",
       "2    -0.71126      -0.14277          CL5     CL4  \n",
       "3    -1.37983      -1.01450          CL6     CL0  \n",
       "4    -1.37983       0.58489          CL4     CL2  \n",
       "⋮    ⋮             ⋮                 ⋮       ⋮    \n",
       "1883 0.52975       -1.38502          CL4     CL6  \n",
       "1884 1.29221       -2.57309          CL5     CL4  \n",
       "1885 0.88113        0.41594          CL4     CL6  "
      ]
     },
     "metadata": {},
     "output_type": "display_data"
    }
   ],
   "source": [
    "alcohol_data <- select(drugs_data, Age, Neuroticism,\n",
    "                       Extraversion, Openness_to_Experience,\n",
    "                       Agreeableness, Impulsiveness, Conscientiousness, Alcohol, Semer)\n",
    "alcohol_data"
   ]
  },
  {
   "cell_type": "markdown",
   "id": "f797d8b0-8b80-4d3b-b486-bc43319f672a",
   "metadata": {},
   "source": [
    "### Filtering out irrelevant observations"
   ]
  },
  {
   "cell_type": "code",
   "execution_count": 5,
   "id": "439547c5-1c45-402c-bd31-ee51acb7d360",
   "metadata": {},
   "outputs": [
    {
     "data": {
      "text/html": [
       "<table class=\"dataframe\">\n",
       "<caption>A tibble: 428 × 8</caption>\n",
       "<thead>\n",
       "\t<tr><th scope=col>Age</th><th scope=col>Neuroticism</th><th scope=col>Extraversion</th><th scope=col>Openness_to_Experience</th><th scope=col>Agreeableness</th><th scope=col>Impulsiveness</th><th scope=col>Conscientiousness</th><th scope=col>Alcohol</th></tr>\n",
       "\t<tr><th scope=col>&lt;dbl&gt;</th><th scope=col>&lt;dbl&gt;</th><th scope=col>&lt;dbl&gt;</th><th scope=col>&lt;dbl&gt;</th><th scope=col>&lt;dbl&gt;</th><th scope=col>&lt;dbl&gt;</th><th scope=col>&lt;dbl&gt;</th><th scope=col>&lt;chr&gt;</th></tr>\n",
       "</thead>\n",
       "<tbody>\n",
       "\t<tr><td>0.49788</td><td>-0.46725</td><td> 0.80523</td><td>-0.84732</td><td>-1.62090</td><td>-1.37983</td><td>-1.01450</td><td>CL6</td></tr>\n",
       "\t<tr><td>0.49788</td><td>-1.32828</td><td> 1.93886</td><td>-0.84732</td><td>-0.30172</td><td> 0.19268</td><td> 1.63088</td><td>CL5</td></tr>\n",
       "\t<tr><td>1.82213</td><td>-2.05048</td><td>-1.50796</td><td>-1.55521</td><td>-1.07533</td><td>-0.71126</td><td> 1.13407</td><td>CL5</td></tr>\n",
       "\t<tr><td>1.82213</td><td> 1.37297</td><td>-0.15487</td><td>-0.17779</td><td>-1.92595</td><td>-0.71126</td><td>-1.51840</td><td>CL6</td></tr>\n",
       "\t<tr><td>⋮</td><td>⋮</td><td>⋮</td><td>⋮</td><td>⋮</td><td>⋮</td><td>⋮</td><td>⋮</td></tr>\n",
       "\t<tr><td>-0.95197</td><td>-0.79151</td><td> 0.00332</td><td>2.44904</td><td>0.76096</td><td> 0.88113</td><td>-1.51840</td><td>CL5</td></tr>\n",
       "\t<tr><td> 2.59171</td><td> 2.12700</td><td>-0.15487</td><td>2.44904</td><td>0.94156</td><td>-0.21712</td><td>-0.65253</td><td>CL5</td></tr>\n",
       "\t<tr><td>-0.95197</td><td>-1.19430</td><td> 1.74091</td><td>1.88511</td><td>0.76096</td><td> 0.88113</td><td>-1.13788</td><td>CL5</td></tr>\n",
       "</tbody>\n",
       "</table>\n"
      ],
      "text/latex": [
       "A tibble: 428 × 8\n",
       "\\begin{tabular}{llllllll}\n",
       " Age & Neuroticism & Extraversion & Openness\\_to\\_Experience & Agreeableness & Impulsiveness & Conscientiousness & Alcohol\\\\\n",
       " <dbl> & <dbl> & <dbl> & <dbl> & <dbl> & <dbl> & <dbl> & <chr>\\\\\n",
       "\\hline\n",
       "\t 0.49788 & -0.46725 &  0.80523 & -0.84732 & -1.62090 & -1.37983 & -1.01450 & CL6\\\\\n",
       "\t 0.49788 & -1.32828 &  1.93886 & -0.84732 & -0.30172 &  0.19268 &  1.63088 & CL5\\\\\n",
       "\t 1.82213 & -2.05048 & -1.50796 & -1.55521 & -1.07533 & -0.71126 &  1.13407 & CL5\\\\\n",
       "\t 1.82213 &  1.37297 & -0.15487 & -0.17779 & -1.92595 & -0.71126 & -1.51840 & CL6\\\\\n",
       "\t ⋮ & ⋮ & ⋮ & ⋮ & ⋮ & ⋮ & ⋮ & ⋮\\\\\n",
       "\t -0.95197 & -0.79151 &  0.00332 & 2.44904 & 0.76096 &  0.88113 & -1.51840 & CL5\\\\\n",
       "\t  2.59171 &  2.12700 & -0.15487 & 2.44904 & 0.94156 & -0.21712 & -0.65253 & CL5\\\\\n",
       "\t -0.95197 & -1.19430 &  1.74091 & 1.88511 & 0.76096 &  0.88113 & -1.13788 & CL5\\\\\n",
       "\\end{tabular}\n"
      ],
      "text/markdown": [
       "\n",
       "A tibble: 428 × 8\n",
       "\n",
       "| Age &lt;dbl&gt; | Neuroticism &lt;dbl&gt; | Extraversion &lt;dbl&gt; | Openness_to_Experience &lt;dbl&gt; | Agreeableness &lt;dbl&gt; | Impulsiveness &lt;dbl&gt; | Conscientiousness &lt;dbl&gt; | Alcohol &lt;chr&gt; |\n",
       "|---|---|---|---|---|---|---|---|\n",
       "| 0.49788 | -0.46725 |  0.80523 | -0.84732 | -1.62090 | -1.37983 | -1.01450 | CL6 |\n",
       "| 0.49788 | -1.32828 |  1.93886 | -0.84732 | -0.30172 |  0.19268 |  1.63088 | CL5 |\n",
       "| 1.82213 | -2.05048 | -1.50796 | -1.55521 | -1.07533 | -0.71126 |  1.13407 | CL5 |\n",
       "| 1.82213 |  1.37297 | -0.15487 | -0.17779 | -1.92595 | -0.71126 | -1.51840 | CL6 |\n",
       "| ⋮ | ⋮ | ⋮ | ⋮ | ⋮ | ⋮ | ⋮ | ⋮ |\n",
       "| -0.95197 | -0.79151 |  0.00332 | 2.44904 | 0.76096 |  0.88113 | -1.51840 | CL5 |\n",
       "|  2.59171 |  2.12700 | -0.15487 | 2.44904 | 0.94156 | -0.21712 | -0.65253 | CL5 |\n",
       "| -0.95197 | -1.19430 |  1.74091 | 1.88511 | 0.76096 |  0.88113 | -1.13788 | CL5 |\n",
       "\n"
      ],
      "text/plain": [
       "    Age      Neuroticism Extraversion Openness_to_Experience Agreeableness\n",
       "1   0.49788  -0.46725     0.80523     -0.84732               -1.62090     \n",
       "2   0.49788  -1.32828     1.93886     -0.84732               -0.30172     \n",
       "3   1.82213  -2.05048    -1.50796     -1.55521               -1.07533     \n",
       "4   1.82213   1.37297    -0.15487     -0.17779               -1.92595     \n",
       "⋮   ⋮        ⋮           ⋮            ⋮                      ⋮            \n",
       "426 -0.95197 -0.79151     0.00332     2.44904                0.76096      \n",
       "427  2.59171  2.12700    -0.15487     2.44904                0.94156      \n",
       "428 -0.95197 -1.19430     1.74091     1.88511                0.76096      \n",
       "    Impulsiveness Conscientiousness Alcohol\n",
       "1   -1.37983      -1.01450          CL6    \n",
       "2    0.19268       1.63088          CL5    \n",
       "3   -0.71126       1.13407          CL5    \n",
       "4   -0.71126      -1.51840          CL6    \n",
       "⋮   ⋮             ⋮                 ⋮      \n",
       "426  0.88113      -1.51840          CL5    \n",
       "427 -0.21712      -0.65253          CL5    \n",
       "428  0.88113      -1.13788          CL5    "
      ]
     },
     "metadata": {},
     "output_type": "display_data"
    }
   ],
   "source": [
    "alcohol_data_filtered <- alcohol_data |>\n",
    "                         filter(Semer == \"CL0\") |>\n",
    "                         select(-Semer)\n",
    "alcohol_data_filtered"
   ]
  },
  {
   "cell_type": "markdown",
   "id": "c05248d8-dd6d-4dbf-8d53-bfea9b829995",
   "metadata": {},
   "source": [
    "### Distribution of the response variable"
   ]
  },
  {
   "cell_type": "code",
   "execution_count": 6,
   "id": "e0af6d36-8bb7-403f-a2b2-b7c6780a8354",
   "metadata": {},
   "outputs": [
    {
     "name": "stderr",
     "output_type": "stream",
     "text": [
      "\u001b[1m\u001b[22mNew names:\n",
      "\u001b[36m•\u001b[39m `` -> `...3`\n"
     ]
    },
    {
     "data": {
      "text/html": [
       "<table class=\"dataframe\">\n",
       "<caption>A tibble: 7 × 3</caption>\n",
       "<thead>\n",
       "\t<tr><th scope=col>Class</th><th scope=col>No. of Individuals</th><th scope=col>Meaning</th></tr>\n",
       "\t<tr><th scope=col>&lt;chr&gt;</th><th scope=col>&lt;int&gt;</th><th scope=col>&lt;chr&gt;</th></tr>\n",
       "</thead>\n",
       "<tbody>\n",
       "\t<tr><td>CL0</td><td> 34</td><td>Never Used            </td></tr>\n",
       "\t<tr><td>CL1</td><td> 34</td><td>Used over a Decade Ago</td></tr>\n",
       "\t<tr><td>CL2</td><td> 68</td><td>Used in Last Decade   </td></tr>\n",
       "\t<tr><td>CL3</td><td>198</td><td>Used in Last Year     </td></tr>\n",
       "\t<tr><td>CL4</td><td>287</td><td>Used in Last Month    </td></tr>\n",
       "\t<tr><td>CL5</td><td>759</td><td>Used in Last Week     </td></tr>\n",
       "\t<tr><td>CL6</td><td>505</td><td>Used in Last Day      </td></tr>\n",
       "</tbody>\n",
       "</table>\n"
      ],
      "text/latex": [
       "A tibble: 7 × 3\n",
       "\\begin{tabular}{lll}\n",
       " Class & No. of Individuals & Meaning\\\\\n",
       " <chr> & <int> & <chr>\\\\\n",
       "\\hline\n",
       "\t CL0 &  34 & Never Used            \\\\\n",
       "\t CL1 &  34 & Used over a Decade Ago\\\\\n",
       "\t CL2 &  68 & Used in Last Decade   \\\\\n",
       "\t CL3 & 198 & Used in Last Year     \\\\\n",
       "\t CL4 & 287 & Used in Last Month    \\\\\n",
       "\t CL5 & 759 & Used in Last Week     \\\\\n",
       "\t CL6 & 505 & Used in Last Day      \\\\\n",
       "\\end{tabular}\n"
      ],
      "text/markdown": [
       "\n",
       "A tibble: 7 × 3\n",
       "\n",
       "| Class &lt;chr&gt; | No. of Individuals &lt;int&gt; | Meaning &lt;chr&gt; |\n",
       "|---|---|---|\n",
       "| CL0 |  34 | Never Used             |\n",
       "| CL1 |  34 | Used over a Decade Ago |\n",
       "| CL2 |  68 | Used in Last Decade    |\n",
       "| CL3 | 198 | Used in Last Year      |\n",
       "| CL4 | 287 | Used in Last Month     |\n",
       "| CL5 | 759 | Used in Last Week      |\n",
       "| CL6 | 505 | Used in Last Day       |\n",
       "\n"
      ],
      "text/plain": [
       "  Class No. of Individuals Meaning               \n",
       "1 CL0    34                Never Used            \n",
       "2 CL1    34                Used over a Decade Ago\n",
       "3 CL2    68                Used in Last Decade   \n",
       "4 CL3   198                Used in Last Year     \n",
       "5 CL4   287                Used in Last Month    \n",
       "6 CL5   759                Used in Last Week     \n",
       "7 CL6   505                Used in Last Day      "
      ]
     },
     "metadata": {},
     "output_type": "display_data"
    }
   ],
   "source": [
    "alcohol_count <- group_by(alcohol_data, Alcohol) |>\n",
    "                 summarize(n = n()) |>\n",
    "                 bind_cols(c(\"Never Used\", \"Used over a Decade Ago\", \"Used in Last Decade\",\n",
    "             \"Used in Last Year\", \"Used in Last Month\", \"Used in Last Week\", \"Used in Last Day\"))\n",
    "colnames(alcohol_count) <- c(\"Class\", \"No. of Individuals\", \"Meaning\")\n",
    "alcohol_count"
   ]
  },
  {
   "cell_type": "code",
   "execution_count": 11,
   "id": "9e1d6be6-c343-4928-9a04-a9bc2e47ce53",
   "metadata": {},
   "outputs": [
    {
     "name": "stderr",
     "output_type": "stream",
     "text": [
      "`stat_bin()` using `bins = 30`. Pick better value with `binwidth`.\n",
      "\n"
     ]
    },
    {
     "data": {
      "image/png": "[encoded data removed]",
      "text/plain": [
       "plot without title"
      ]
     },
     "metadata": {
      "image/png": {
       "height": 600,
       "width": 900
      }
     },
     "output_type": "display_data"
    }
   ],
   "source": [
    "options(repr.plot.width = 15, repr.plot.height = 10)\n",
    "nscore <- ggplot(alcohol_data, aes(x = Neuroticism, fill = as_factor(Alcohol))) +\n",
    "          geom_histogram() + \n",
    "          scale_fill_discrete(breaks = c(\"CL0\", \"CL1\", \"CL2\", \"CL3\", \"CL4\", \"CL5\", \"CL6\"),\n",
    "                            labels = c(\"Never Used\", \"Used Over A Decade Ago\", \"Used in Last Decade\", \"Used in Last Year\", \n",
    "                                      \"Used in Last Month\", \"Used in Last Week\", \"Used in Last Day\")) +\n",
    "          labs(x = \"Neuroticism Score (Standardized)\", y = \"Count\", fill = \"Alcohol Consumption\") +\n",
    "          ggtitle(\"Neuroticism vs. Alcohol Consumption\") +\n",
    "          theme(text = element_text(size = 20))\n",
    "\n",
    "nscore"
   ]
  },
  {
   "cell_type": "code",
   "execution_count": null,
   "id": "43ca0363-0ce1-4af9-8602-4547d7bdd3ec",
   "metadata": {},
   "outputs": [],
   "source": [
    "ggpairs(alcohol_data)"
   ]
  },
  {
   "cell_type": "markdown",
   "id": "bf22120c-cfcd-4b84-a386-28c93cec0567",
   "metadata": {},
   "source": [
    "### Forward selection"
   ]
  },
  {
   "cell_type": "code",
   "execution_count": 9,
   "id": "23e52942-7bbe-4355-828c-94d57b25415b",
   "metadata": {},
   "outputs": [
    {
     "name": "stderr",
     "output_type": "stream",
     "text": [
      "\u001b[31mx\u001b[39m \u001b[31mFold1: preprocessor 1/1:\n",
      "  \u001b[1m\u001b[33mError\u001b[31m in \u001b[1m\u001b[1m`check_type()`:\u001b[22m\n",
      "  \u001b[33m!\u001b[31m All columns selected for the step should be numeric\u001b[39m\n",
      "\n",
      "\u001b[31mx\u001b[39m \u001b[31mFold2: preprocessor 1/1:\n",
      "  \u001b[1m\u001b[33mError\u001b[31m in \u001b[1m\u001b[1m`check_type()`:\u001b[22m\n",
      "  \u001b[33m!\u001b[31m All columns selected for the step should be numeric\u001b[39m\n",
      "\n",
      "\u001b[31mx\u001b[39m \u001b[31mFold3: preprocessor 1/1:\n",
      "  \u001b[1m\u001b[33mError\u001b[31m in \u001b[1m\u001b[1m`check_type()`:\u001b[22m\n",
      "  \u001b[33m!\u001b[31m All columns selected for the step should be numeric\u001b[39m\n",
      "\n",
      "\u001b[31mx\u001b[39m \u001b[31mFold4: preprocessor 1/1:\n",
      "  \u001b[1m\u001b[33mError\u001b[31m in \u001b[1m\u001b[1m`check_type()`:\u001b[22m\n",
      "  \u001b[33m!\u001b[31m All columns selected for the step should be numeric\u001b[39m\n",
      "\n",
      "\u001b[31mx\u001b[39m \u001b[31mFold5: preprocessor 1/1:\n",
      "  \u001b[1m\u001b[33mError\u001b[31m in \u001b[1m\u001b[1m`check_type()`:\u001b[22m\n",
      "  \u001b[33m!\u001b[31m All columns selected for the step should be numeric\u001b[39m\n",
      "\n",
      "Warning message:\n",
      "“All models failed. Run `show_notes(.Last.tune.result)` for more information.”\n"
     ]
    },
    {
     "ename": "ERROR",
     "evalue": "\u001b[1m\u001b[33mError\u001b[39m in \u001b[1m\u001b[1m`estimate_tune_results()`:\u001b[22m\n\u001b[33m!\u001b[39m All of the models failed. See the .notes column.\n",
     "output_type": "error",
     "traceback": [
      "\u001b[1m\u001b[33mError\u001b[39m in \u001b[1m\u001b[1m`estimate_tune_results()`:\u001b[22m\n\u001b[33m!\u001b[39m All of the models failed. See the .notes column.\nTraceback:\n",
      "1. summarize(filter(collect_metrics(tune_grid(add_model(add_recipe(workflow(), \n .     alcohol_recipe), knn_spec), resamples = alcohol_vfold, grid = 10)), \n .     .metric == \"accuracy\"), mx = max(mean))",
      "2. filter(collect_metrics(tune_grid(add_model(add_recipe(workflow(), \n .     alcohol_recipe), knn_spec), resamples = alcohol_vfold, grid = 10)), \n .     .metric == \"accuracy\")",
      "3. collect_metrics(tune_grid(add_model(add_recipe(workflow(), alcohol_recipe), \n .     knn_spec), resamples = alcohol_vfold, grid = 10))",
      "4. collect_metrics.tune_results(tune_grid(add_model(add_recipe(workflow(), \n .     alcohol_recipe), knn_spec), resamples = alcohol_vfold, grid = 10))",
      "5. estimate_tune_results(x)",
      "6. rlang::abort(\"All of the models failed. See the .notes column.\")",
      "7. signal_abort(cnd, .file)"
     ]
    }
   ],
   "source": [
    "names <- colnames(alcohol_data |> select(-Alcohol))\n",
    "\n",
    "# create an empty tibble to store the results\n",
    "accuracies <- tibble(size = integer(), \n",
    "                     model_string = character(), \n",
    "                     accuracy = numeric())\n",
    "\n",
    "# create a model specification\n",
    "knn_spec <- nearest_neighbor(weight_func = \"rectangular\", \n",
    "                             neighbors = tune()) |>\n",
    "     set_engine(\"kknn\") |>\n",
    "     set_mode(\"classification\")\n",
    "\n",
    "# create a 5-fold cross-validation object\n",
    "alcohol_vfold <- vfold_cv(alcohol_data, v = 5, strata = Alcohol)\n",
    "\n",
    "# store the total number of predictors\n",
    "n_total <- length(names)\n",
    "\n",
    "# stores selected predictors\n",
    "selected <- c()\n",
    "\n",
    "# for every size from 1 to the total number of predictors\n",
    "for (i in 1:n_total) {\n",
    "    # for every predictor still not added yet\n",
    "    accs <- list()\n",
    "    models <- list()\n",
    "    for (j in 1:length(names)) {\n",
    "        # create a model string for this combination of predictors\n",
    "        preds_new <- c(selected, names[[j]])\n",
    "        model_string <- paste(\"Alcohol\", \"~\", paste(preds_new, collapse=\"+\"))\n",
    "\n",
    "        # create a recipe from the model string\n",
    "        alcohol_recipe <- recipe(as.formula(model_string), \n",
    "                                data = alcohol_data) |>\n",
    "                          step_scale(all_predictors()) |>\n",
    "                          step_center(all_predictors())\n",
    "\n",
    "        # tune the KNN classifier with these predictors, \n",
    "        # and collect the accuracy for the best K\n",
    "        acc <- workflow() |>\n",
    "          add_recipe(alcohol_recipe) |>\n",
    "          add_model(knn_spec) |>\n",
    "          tune_grid(resamples = alcohol_vfold, grid = 10) |>\n",
    "          collect_metrics() |>\n",
    "          filter(.metric == \"accuracy\") |>\n",
    "          summarize(mx = max(mean))\n",
    "        acc <- acc$mx |> unlist()\n",
    "\n",
    "        # add this result to the dataframe\n",
    "        accs[[j]] <- acc\n",
    "        models[[j]] <- model_string\n",
    "    }\n",
    "    jstar <- which.max(unlist(accs))\n",
    "    accuracies <- accuracies |> \n",
    "      add_row(size = i, \n",
    "              model_string = models[[jstar]], \n",
    "              accuracy = accs[[jstar]])\n",
    "    selected <- c(selected, names[[jstar]])\n",
    "    names <- names[-jstar]\n",
    "}\n",
    "accuracies"
   ]
  },
  {
   "cell_type": "code",
   "execution_count": null,
   "id": "259201b4-cbbc-46ce-ab6b-f8ad99b508a5",
   "metadata": {},
   "outputs": [],
   "source": []
  }
 ],
 "metadata": {
  "kernelspec": {
   "display_name": "R",
   "language": "R",
   "name": "ir"
  },
  "language_info": {
   "codemirror_mode": "r",
   "file_extension": ".r",
   "mimetype": "text/x-r-source",
   "name": "R",
   "pygments_lexer": "r",
   "version": "4.1.3"
  }
 },
 "nbformat": 4,
 "nbformat_minor": 5
}

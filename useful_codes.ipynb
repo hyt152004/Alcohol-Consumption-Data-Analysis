{
 "cells": [
  {
   "cell_type": "code",
   "execution_count": 1,
   "id": "900a86b0-b700-4c89-a3c2-ffec40f0a1f6",
   "metadata": {},
   "outputs": [
    {
     "ename": "ERROR",
     "evalue": "Error in library(themis): there is no package called ‘themis’\n",
     "output_type": "error",
     "traceback": [
      "Error in library(themis): there is no package called ‘themis’\nTraceback:\n",
      "1. library(themis)"
     ]
    }
   ],
   "source": [
    "library(themis)\n",
    "library(tidyverse)\n",
    "library(testthat)\n",
    "library(digest)\n",
    "library(repr)\n",
    "library(tidymodels)\n",
    "\n",
    "options(repr.matrix.max.rows = 7)"
   ]
  },
  {
   "cell_type": "markdown",
   "id": "04bd90ba-81e4-43db-914b-41eaade3d3b7",
   "metadata": {},
   "source": [
    "## Balancing the observations"
   ]
  },
  {
   "cell_type": "code",
   "execution_count": 7,
   "id": "9036072e-363b-44cf-bd34-532e12065ff3",
   "metadata": {},
   "outputs": [
    {
     "ename": "ERROR",
     "evalue": "Error in step_upsample(recipe(Class ~ ., data = rare_cancer), Class, over_ratio = 1, : could not find function \"step_upsample\"\n",
     "output_type": "error",
     "traceback": [
      "Error in step_upsample(recipe(Class ~ ., data = rare_cancer), Class, over_ratio = 1, : could not find function \"step_upsample\"\nTraceback:\n",
      "1. prep(step_upsample(recipe(Class ~ ., data = rare_cancer), Class, \n .     over_ratio = 1, skip = FALSE))"
     ]
    }
   ],
   "source": [
    "ups_recipe <- recipe(Class ~ ., data = rare_cancer) |>\n",
    "  step_upsample(Class, over_ratio = 1, skip = FALSE) |>\n",
    "  prep()"
   ]
  },
  {
   "cell_type": "markdown",
   "id": "2a50723e-638e-42f4-b728-32c06a4c87b2",
   "metadata": {},
   "source": [
    "Nope, an inaccurate model is just as informative as one that's not informative (although you won't be able to reliably apply it). Just make sure you discuss your results (i.e. you can't just say the model is inaccurate therefore there are no conclusions to be drawn). \n",
    "Generally speaking, this could mean a wide variety of things such as:\n",
    "- there are underlying variables you're not accounting/controlling for (discuss these)\n",
    "- your current variables have no correlation/association with the target (which is still a valid conclusion you can discuss)\n",
    "- your data is not representative or has excess outliers\n",
    "- you're perhaps using an unsuitable algorithm to build your model (ex. linear vs nonlinear regression)."
   ]
  },
  {
   "cell_type": "code",
   "execution_count": null,
   "id": "508d38e3-1134-4447-a812-aec0e10cf46c",
   "metadata": {},
   "outputs": [],
   "source": []
  }
 ],
 "metadata": {
  "kernelspec": {
   "display_name": "R",
   "language": "R",
   "name": "ir"
  },
  "language_info": {
   "codemirror_mode": "r",
   "file_extension": ".r",
   "mimetype": "text/x-r-source",
   "name": "R",
   "pygments_lexer": "r",
   "version": "4.1.3"
  }
 },
 "nbformat": 4,
 "nbformat_minor": 5
}

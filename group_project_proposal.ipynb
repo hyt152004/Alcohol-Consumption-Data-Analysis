{
 "cells": [
  {
   "cell_type": "code",
   "execution_count": 1,
   "id": "34ca4c71-c654-444a-9921-51f381af9fc6",
   "metadata": {},
   "outputs": [
    {
     "name": "stderr",
     "output_type": "stream",
     "text": [
      "── \u001b[1mAttaching packages\u001b[22m ─────────────────────────────────────── tidyverse 1.3.1 ──\n",
      "\n",
      "\u001b[32m✔\u001b[39m \u001b[34mggplot2\u001b[39m 3.3.6     \u001b[32m✔\u001b[39m \u001b[34mpurrr  \u001b[39m 0.3.4\n",
      "\u001b[32m✔\u001b[39m \u001b[34mtibble \u001b[39m 3.1.7     \u001b[32m✔\u001b[39m \u001b[34mdplyr  \u001b[39m 1.0.9\n",
      "\u001b[32m✔\u001b[39m \u001b[34mtidyr  \u001b[39m 1.2.0     \u001b[32m✔\u001b[39m \u001b[34mstringr\u001b[39m 1.4.0\n",
      "\u001b[32m✔\u001b[39m \u001b[34mreadr  \u001b[39m 2.1.2     \u001b[32m✔\u001b[39m \u001b[34mforcats\u001b[39m 0.5.1\n",
      "\n",
      "── \u001b[1mConflicts\u001b[22m ────────────────────────────────────────── tidyverse_conflicts() ──\n",
      "\u001b[31m✖\u001b[39m \u001b[34mdplyr\u001b[39m::\u001b[32mfilter()\u001b[39m masks \u001b[34mstats\u001b[39m::filter()\n",
      "\u001b[31m✖\u001b[39m \u001b[34mdplyr\u001b[39m::\u001b[32mlag()\u001b[39m    masks \u001b[34mstats\u001b[39m::lag()\n",
      "\n",
      "── \u001b[1mAttaching packages\u001b[22m ────────────────────────────────────── tidymodels 1.0.0 ──\n",
      "\n",
      "\u001b[32m✔\u001b[39m \u001b[34mbroom       \u001b[39m 1.0.0     \u001b[32m✔\u001b[39m \u001b[34mrsample     \u001b[39m 1.0.0\n",
      "\u001b[32m✔\u001b[39m \u001b[34mdials       \u001b[39m 1.0.0     \u001b[32m✔\u001b[39m \u001b[34mtune        \u001b[39m 1.0.0\n",
      "\u001b[32m✔\u001b[39m \u001b[34minfer       \u001b[39m 1.0.2     \u001b[32m✔\u001b[39m \u001b[34mworkflows   \u001b[39m 1.0.0\n",
      "\u001b[32m✔\u001b[39m \u001b[34mmodeldata   \u001b[39m 1.0.0     \u001b[32m✔\u001b[39m \u001b[34mworkflowsets\u001b[39m 1.0.0\n",
      "\u001b[32m✔\u001b[39m \u001b[34mparsnip     \u001b[39m 1.0.0     \u001b[32m✔\u001b[39m \u001b[34myardstick   \u001b[39m 1.0.0\n",
      "\u001b[32m✔\u001b[39m \u001b[34mrecipes     \u001b[39m 1.0.1     \n",
      "\n",
      "── \u001b[1mConflicts\u001b[22m ───────────────────────────────────────── tidymodels_conflicts() ──\n",
      "\u001b[31m✖\u001b[39m \u001b[34mscales\u001b[39m::\u001b[32mdiscard()\u001b[39m masks \u001b[34mpurrr\u001b[39m::discard()\n",
      "\u001b[31m✖\u001b[39m \u001b[34mdplyr\u001b[39m::\u001b[32mfilter()\u001b[39m   masks \u001b[34mstats\u001b[39m::filter()\n",
      "\u001b[31m✖\u001b[39m \u001b[34mrecipes\u001b[39m::\u001b[32mfixed()\u001b[39m  masks \u001b[34mstringr\u001b[39m::fixed()\n",
      "\u001b[31m✖\u001b[39m \u001b[34mdplyr\u001b[39m::\u001b[32mlag()\u001b[39m      masks \u001b[34mstats\u001b[39m::lag()\n",
      "\u001b[31m✖\u001b[39m \u001b[34myardstick\u001b[39m::\u001b[32mspec()\u001b[39m masks \u001b[34mreadr\u001b[39m::spec()\n",
      "\u001b[31m✖\u001b[39m \u001b[34mrecipes\u001b[39m::\u001b[32mstep()\u001b[39m   masks \u001b[34mstats\u001b[39m::step()\n",
      "\u001b[34m•\u001b[39m Dig deeper into tidy modeling with R at \u001b[32mhttps://www.tmwr.org\u001b[39m\n",
      "\n"
     ]
    }
   ],
   "source": [
    "library(tidyverse)\n",
    "library(repr)\n",
    "library(tidymodels)\n",
    "options(repr.matrix.max.rows = 6)"
   ]
  },
  {
   "cell_type": "code",
   "execution_count": 3,
   "id": "22ba27e1-d27b-4c96-9028-20a91eab8359",
   "metadata": {},
   "outputs": [
    {
     "name": "stderr",
     "output_type": "stream",
     "text": [
      "\u001b[1mRows: \u001b[22m\u001b[34m1885\u001b[39m \u001b[1mColumns: \u001b[22m\u001b[34m32\u001b[39m\n",
      "\u001b[36m──\u001b[39m \u001b[1mColumn specification\u001b[22m \u001b[36m────────────────────────────────────────────────────────\u001b[39m\n",
      "\u001b[1mDelimiter:\u001b[22m \",\"\n",
      "\u001b[31mchr\u001b[39m (19): X14, X15, X16, X17, X18, X19, X20, X21, X22, X23, X24, X25, X26, X...\n",
      "\u001b[32mdbl\u001b[39m (13): X1, X2, X3, X4, X5, X6, X7, X8, X9, X10, X11, X12, X13\n",
      "\n",
      "\u001b[36mℹ\u001b[39m Use `spec()` to retrieve the full column specification for this data.\n",
      "\u001b[36mℹ\u001b[39m Specify the column types or set `show_col_types = FALSE` to quiet this message.\n"
     ]
    },
    {
     "data": {
      "text/html": [
       "<table class=\"dataframe\">\n",
       "<caption>A spec_tbl_df: 1885 × 32</caption>\n",
       "<thead>\n",
       "\t<tr><th scope=col>ID</th><th scope=col>Age</th><th scope=col>Gender</th><th scope=col>Education</th><th scope=col>Country</th><th scope=col>Ethnicity</th><th scope=col>NScore</th><th scope=col>EScore</th><th scope=col>OScore</th><th scope=col>AScore</th><th scope=col>⋯</th><th scope=col>Ecstacy</th><th scope=col>Heorin</th><th scope=col>LegalH</th><th scope=col>LSD</th><th scope=col>Meth</th><th scope=col>Mushrooms</th><th scope=col>Nicotine</th><th scope=col>Semer</th><th scope=col>VSA</th><th scope=col>NA</th></tr>\n",
       "\t<tr><th scope=col>&lt;dbl&gt;</th><th scope=col>&lt;dbl&gt;</th><th scope=col>&lt;dbl&gt;</th><th scope=col>&lt;dbl&gt;</th><th scope=col>&lt;dbl&gt;</th><th scope=col>&lt;dbl&gt;</th><th scope=col>&lt;dbl&gt;</th><th scope=col>&lt;dbl&gt;</th><th scope=col>&lt;dbl&gt;</th><th scope=col>&lt;dbl&gt;</th><th scope=col>⋯</th><th scope=col>&lt;chr&gt;</th><th scope=col>&lt;chr&gt;</th><th scope=col>&lt;chr&gt;</th><th scope=col>&lt;chr&gt;</th><th scope=col>&lt;chr&gt;</th><th scope=col>&lt;chr&gt;</th><th scope=col>&lt;chr&gt;</th><th scope=col>&lt;chr&gt;</th><th scope=col>&lt;chr&gt;</th><th scope=col>&lt;chr&gt;</th></tr>\n",
       "</thead>\n",
       "<tbody>\n",
       "\t<tr><td>1</td><td> 0.49788</td><td> 0.48246</td><td>-0.05921</td><td>0.96082</td><td> 0.12600</td><td> 0.31287</td><td>-0.57545</td><td>-0.58331</td><td>-0.91699</td><td>⋯</td><td>CL0</td><td>CL0</td><td>CL0</td><td>CL0</td><td>CL0</td><td>CL0</td><td>CL0</td><td>CL2</td><td>CL0</td><td>CL0</td></tr>\n",
       "\t<tr><td>2</td><td>-0.07854</td><td>-0.48246</td><td> 1.98437</td><td>0.96082</td><td>-0.31685</td><td>-0.67825</td><td> 1.93886</td><td> 1.43533</td><td> 0.76096</td><td>⋯</td><td>CL4</td><td>CL0</td><td>CL2</td><td>CL0</td><td>CL2</td><td>CL3</td><td>CL0</td><td>CL4</td><td>CL0</td><td>CL0</td></tr>\n",
       "\t<tr><td>3</td><td> 0.49788</td><td>-0.48246</td><td>-0.05921</td><td>0.96082</td><td>-0.31685</td><td>-0.46725</td><td> 0.80523</td><td>-0.84732</td><td>-1.62090</td><td>⋯</td><td>CL0</td><td>CL0</td><td>CL0</td><td>CL0</td><td>CL0</td><td>CL0</td><td>CL1</td><td>CL0</td><td>CL0</td><td>CL0</td></tr>\n",
       "\t<tr><td>⋮</td><td>⋮</td><td>⋮</td><td>⋮</td><td>⋮</td><td>⋮</td><td>⋮</td><td>⋮</td><td>⋮</td><td>⋮</td><td>⋱</td><td>⋮</td><td>⋮</td><td>⋮</td><td>⋮</td><td>⋮</td><td>⋮</td><td>⋮</td><td>⋮</td><td>⋮</td><td>⋮</td></tr>\n",
       "\t<tr><td>1886</td><td>-0.07854</td><td> 0.48246</td><td> 0.45468</td><td>-0.57009</td><td>-0.31685</td><td> 1.13281</td><td>-1.37639</td><td>-1.27553</td><td>-1.77200</td><td>⋯</td><td>CL4</td><td>CL0</td><td>CL2</td><td>CL0</td><td>CL2</td><td>CL0</td><td>CL2</td><td>CL6</td><td>CL0</td><td>CL0</td></tr>\n",
       "\t<tr><td>1887</td><td>-0.95197</td><td> 0.48246</td><td>-0.61113</td><td>-0.57009</td><td>-0.31685</td><td> 0.91093</td><td>-1.92173</td><td> 0.29338</td><td>-1.62090</td><td>⋯</td><td>CL3</td><td>CL0</td><td>CL0</td><td>CL3</td><td>CL3</td><td>CL0</td><td>CL3</td><td>CL4</td><td>CL0</td><td>CL0</td></tr>\n",
       "\t<tr><td>1888</td><td>-0.95197</td><td>-0.48246</td><td>-0.61113</td><td> 0.21128</td><td>-0.31685</td><td>-0.46725</td><td> 2.12700</td><td> 1.65653</td><td> 1.11406</td><td>⋯</td><td>CL3</td><td>CL0</td><td>CL0</td><td>CL3</td><td>CL3</td><td>CL0</td><td>CL3</td><td>CL6</td><td>CL0</td><td>CL2</td></tr>\n",
       "</tbody>\n",
       "</table>\n"
      ],
      "text/latex": [
       "A spec\\_tbl\\_df: 1885 × 32\n",
       "\\begin{tabular}{lllllllllllllllllllll}\n",
       " ID & Age & Gender & Education & Country & Ethnicity & NScore & EScore & OScore & AScore & ⋯ & Ecstacy & Heorin & LegalH & LSD & Meth & Mushrooms & Nicotine & Semer & VSA & NA\\\\\n",
       " <dbl> & <dbl> & <dbl> & <dbl> & <dbl> & <dbl> & <dbl> & <dbl> & <dbl> & <dbl> & ⋯ & <chr> & <chr> & <chr> & <chr> & <chr> & <chr> & <chr> & <chr> & <chr> & <chr>\\\\\n",
       "\\hline\n",
       "\t 1 &  0.49788 &  0.48246 & -0.05921 & 0.96082 &  0.12600 &  0.31287 & -0.57545 & -0.58331 & -0.91699 & ⋯ & CL0 & CL0 & CL0 & CL0 & CL0 & CL0 & CL0 & CL2 & CL0 & CL0\\\\\n",
       "\t 2 & -0.07854 & -0.48246 &  1.98437 & 0.96082 & -0.31685 & -0.67825 &  1.93886 &  1.43533 &  0.76096 & ⋯ & CL4 & CL0 & CL2 & CL0 & CL2 & CL3 & CL0 & CL4 & CL0 & CL0\\\\\n",
       "\t 3 &  0.49788 & -0.48246 & -0.05921 & 0.96082 & -0.31685 & -0.46725 &  0.80523 & -0.84732 & -1.62090 & ⋯ & CL0 & CL0 & CL0 & CL0 & CL0 & CL0 & CL1 & CL0 & CL0 & CL0\\\\\n",
       "\t ⋮ & ⋮ & ⋮ & ⋮ & ⋮ & ⋮ & ⋮ & ⋮ & ⋮ & ⋮ & ⋱ & ⋮ & ⋮ & ⋮ & ⋮ & ⋮ & ⋮ & ⋮ & ⋮ & ⋮ & ⋮\\\\\n",
       "\t 1886 & -0.07854 &  0.48246 &  0.45468 & -0.57009 & -0.31685 &  1.13281 & -1.37639 & -1.27553 & -1.77200 & ⋯ & CL4 & CL0 & CL2 & CL0 & CL2 & CL0 & CL2 & CL6 & CL0 & CL0\\\\\n",
       "\t 1887 & -0.95197 &  0.48246 & -0.61113 & -0.57009 & -0.31685 &  0.91093 & -1.92173 &  0.29338 & -1.62090 & ⋯ & CL3 & CL0 & CL0 & CL3 & CL3 & CL0 & CL3 & CL4 & CL0 & CL0\\\\\n",
       "\t 1888 & -0.95197 & -0.48246 & -0.61113 &  0.21128 & -0.31685 & -0.46725 &  2.12700 &  1.65653 &  1.11406 & ⋯ & CL3 & CL0 & CL0 & CL3 & CL3 & CL0 & CL3 & CL6 & CL0 & CL2\\\\\n",
       "\\end{tabular}\n"
      ],
      "text/markdown": [
       "\n",
       "A spec_tbl_df: 1885 × 32\n",
       "\n",
       "| ID &lt;dbl&gt; | Age &lt;dbl&gt; | Gender &lt;dbl&gt; | Education &lt;dbl&gt; | Country &lt;dbl&gt; | Ethnicity &lt;dbl&gt; | NScore &lt;dbl&gt; | EScore &lt;dbl&gt; | OScore &lt;dbl&gt; | AScore &lt;dbl&gt; | ⋯ ⋯ | Ecstacy &lt;chr&gt; | Heorin &lt;chr&gt; | LegalH &lt;chr&gt; | LSD &lt;chr&gt; | Meth &lt;chr&gt; | Mushrooms &lt;chr&gt; | Nicotine &lt;chr&gt; | Semer &lt;chr&gt; | VSA &lt;chr&gt; | NA &lt;chr&gt; |\n",
       "|---|---|---|---|---|---|---|---|---|---|---|---|---|---|---|---|---|---|---|---|---|\n",
       "| 1 |  0.49788 |  0.48246 | -0.05921 | 0.96082 |  0.12600 |  0.31287 | -0.57545 | -0.58331 | -0.91699 | ⋯ | CL0 | CL0 | CL0 | CL0 | CL0 | CL0 | CL0 | CL2 | CL0 | CL0 |\n",
       "| 2 | -0.07854 | -0.48246 |  1.98437 | 0.96082 | -0.31685 | -0.67825 |  1.93886 |  1.43533 |  0.76096 | ⋯ | CL4 | CL0 | CL2 | CL0 | CL2 | CL3 | CL0 | CL4 | CL0 | CL0 |\n",
       "| 3 |  0.49788 | -0.48246 | -0.05921 | 0.96082 | -0.31685 | -0.46725 |  0.80523 | -0.84732 | -1.62090 | ⋯ | CL0 | CL0 | CL0 | CL0 | CL0 | CL0 | CL1 | CL0 | CL0 | CL0 |\n",
       "| ⋮ | ⋮ | ⋮ | ⋮ | ⋮ | ⋮ | ⋮ | ⋮ | ⋮ | ⋮ | ⋱ | ⋮ | ⋮ | ⋮ | ⋮ | ⋮ | ⋮ | ⋮ | ⋮ | ⋮ | ⋮ |\n",
       "| 1886 | -0.07854 |  0.48246 |  0.45468 | -0.57009 | -0.31685 |  1.13281 | -1.37639 | -1.27553 | -1.77200 | ⋯ | CL4 | CL0 | CL2 | CL0 | CL2 | CL0 | CL2 | CL6 | CL0 | CL0 |\n",
       "| 1887 | -0.95197 |  0.48246 | -0.61113 | -0.57009 | -0.31685 |  0.91093 | -1.92173 |  0.29338 | -1.62090 | ⋯ | CL3 | CL0 | CL0 | CL3 | CL3 | CL0 | CL3 | CL4 | CL0 | CL0 |\n",
       "| 1888 | -0.95197 | -0.48246 | -0.61113 |  0.21128 | -0.31685 | -0.46725 |  2.12700 |  1.65653 |  1.11406 | ⋯ | CL3 | CL0 | CL0 | CL3 | CL3 | CL0 | CL3 | CL6 | CL0 | CL2 |\n",
       "\n"
      ],
      "text/plain": [
       "     ID   Age      Gender   Education Country  Ethnicity NScore   EScore  \n",
       "1    1     0.49788  0.48246 -0.05921  0.96082   0.12600   0.31287 -0.57545\n",
       "2    2    -0.07854 -0.48246  1.98437  0.96082  -0.31685  -0.67825  1.93886\n",
       "3    3     0.49788 -0.48246 -0.05921  0.96082  -0.31685  -0.46725  0.80523\n",
       "⋮    ⋮    ⋮        ⋮        ⋮         ⋮        ⋮         ⋮        ⋮       \n",
       "1883 1886 -0.07854  0.48246  0.45468  -0.57009 -0.31685   1.13281 -1.37639\n",
       "1884 1887 -0.95197  0.48246 -0.61113  -0.57009 -0.31685   0.91093 -1.92173\n",
       "1885 1888 -0.95197 -0.48246 -0.61113   0.21128 -0.31685  -0.46725  2.12700\n",
       "     OScore   AScore   ⋯ Ecstacy Heorin LegalH LSD Meth Mushrooms Nicotine\n",
       "1    -0.58331 -0.91699 ⋯ CL0     CL0    CL0    CL0 CL0  CL0       CL0     \n",
       "2     1.43533  0.76096 ⋯ CL4     CL0    CL2    CL0 CL2  CL3       CL0     \n",
       "3    -0.84732 -1.62090 ⋯ CL0     CL0    CL0    CL0 CL0  CL0       CL1     \n",
       "⋮    ⋮        ⋮        ⋱ ⋮       ⋮      ⋮      ⋮   ⋮    ⋮         ⋮       \n",
       "1883 -1.27553 -1.77200 ⋯ CL4     CL0    CL2    CL0 CL2  CL0       CL2     \n",
       "1884  0.29338 -1.62090 ⋯ CL3     CL0    CL0    CL3 CL3  CL0       CL3     \n",
       "1885  1.65653  1.11406 ⋯ CL3     CL0    CL0    CL3 CL3  CL0       CL3     \n",
       "     Semer VSA <NA>\n",
       "1    CL2   CL0 CL0 \n",
       "2    CL4   CL0 CL0 \n",
       "3    CL0   CL0 CL0 \n",
       "⋮    ⋮     ⋮   ⋮   \n",
       "1883 CL6   CL0 CL0 \n",
       "1884 CL4   CL0 CL0 \n",
       "1885 CL6   CL0 CL2 "
      ]
     },
     "metadata": {},
     "output_type": "display_data"
    },
    {
     "data": {
      "text/html": [
       "<table class=\"dataframe\">\n",
       "<caption>A tibble: 1885 × 7</caption>\n",
       "<thead>\n",
       "\t<tr><th scope=col>Age</th><th scope=col>NScore</th><th scope=col>EScore</th><th scope=col>OScore</th><th scope=col>AScore</th><th scope=col>IScore</th><th scope=col>Alcohol</th></tr>\n",
       "\t<tr><th scope=col>&lt;dbl&gt;</th><th scope=col>&lt;dbl&gt;</th><th scope=col>&lt;dbl&gt;</th><th scope=col>&lt;dbl&gt;</th><th scope=col>&lt;dbl&gt;</th><th scope=col>&lt;dbl&gt;</th><th scope=col>&lt;chr&gt;</th></tr>\n",
       "</thead>\n",
       "<tbody>\n",
       "\t<tr><td> 0.49788</td><td> 0.31287</td><td>-0.57545</td><td>-0.58331</td><td>-0.91699</td><td>-0.21712</td><td>CL5</td></tr>\n",
       "\t<tr><td>-0.07854</td><td>-0.67825</td><td> 1.93886</td><td> 1.43533</td><td> 0.76096</td><td>-0.71126</td><td>CL5</td></tr>\n",
       "\t<tr><td> 0.49788</td><td>-0.46725</td><td> 0.80523</td><td>-0.84732</td><td>-1.62090</td><td>-1.37983</td><td>CL6</td></tr>\n",
       "\t<tr><td>⋮</td><td>⋮</td><td>⋮</td><td>⋮</td><td>⋮</td><td>⋮</td><td>⋮</td></tr>\n",
       "\t<tr><td>-0.07854</td><td> 1.13281</td><td>-1.37639</td><td>-1.27553</td><td>-1.77200</td><td>0.52975</td><td>CL4</td></tr>\n",
       "\t<tr><td>-0.95197</td><td> 0.91093</td><td>-1.92173</td><td> 0.29338</td><td>-1.62090</td><td>1.29221</td><td>CL5</td></tr>\n",
       "\t<tr><td>-0.95197</td><td>-0.46725</td><td> 2.12700</td><td> 1.65653</td><td> 1.11406</td><td>0.88113</td><td>CL4</td></tr>\n",
       "</tbody>\n",
       "</table>\n"
      ],
      "text/latex": [
       "A tibble: 1885 × 7\n",
       "\\begin{tabular}{lllllll}\n",
       " Age & NScore & EScore & OScore & AScore & IScore & Alcohol\\\\\n",
       " <dbl> & <dbl> & <dbl> & <dbl> & <dbl> & <dbl> & <chr>\\\\\n",
       "\\hline\n",
       "\t  0.49788 &  0.31287 & -0.57545 & -0.58331 & -0.91699 & -0.21712 & CL5\\\\\n",
       "\t -0.07854 & -0.67825 &  1.93886 &  1.43533 &  0.76096 & -0.71126 & CL5\\\\\n",
       "\t  0.49788 & -0.46725 &  0.80523 & -0.84732 & -1.62090 & -1.37983 & CL6\\\\\n",
       "\t ⋮ & ⋮ & ⋮ & ⋮ & ⋮ & ⋮ & ⋮\\\\\n",
       "\t -0.07854 &  1.13281 & -1.37639 & -1.27553 & -1.77200 & 0.52975 & CL4\\\\\n",
       "\t -0.95197 &  0.91093 & -1.92173 &  0.29338 & -1.62090 & 1.29221 & CL5\\\\\n",
       "\t -0.95197 & -0.46725 &  2.12700 &  1.65653 &  1.11406 & 0.88113 & CL4\\\\\n",
       "\\end{tabular}\n"
      ],
      "text/markdown": [
       "\n",
       "A tibble: 1885 × 7\n",
       "\n",
       "| Age &lt;dbl&gt; | NScore &lt;dbl&gt; | EScore &lt;dbl&gt; | OScore &lt;dbl&gt; | AScore &lt;dbl&gt; | IScore &lt;dbl&gt; | Alcohol &lt;chr&gt; |\n",
       "|---|---|---|---|---|---|---|\n",
       "|  0.49788 |  0.31287 | -0.57545 | -0.58331 | -0.91699 | -0.21712 | CL5 |\n",
       "| -0.07854 | -0.67825 |  1.93886 |  1.43533 |  0.76096 | -0.71126 | CL5 |\n",
       "|  0.49788 | -0.46725 |  0.80523 | -0.84732 | -1.62090 | -1.37983 | CL6 |\n",
       "| ⋮ | ⋮ | ⋮ | ⋮ | ⋮ | ⋮ | ⋮ |\n",
       "| -0.07854 |  1.13281 | -1.37639 | -1.27553 | -1.77200 | 0.52975 | CL4 |\n",
       "| -0.95197 |  0.91093 | -1.92173 |  0.29338 | -1.62090 | 1.29221 | CL5 |\n",
       "| -0.95197 | -0.46725 |  2.12700 |  1.65653 |  1.11406 | 0.88113 | CL4 |\n",
       "\n"
      ],
      "text/plain": [
       "     Age      NScore   EScore   OScore   AScore   IScore   Alcohol\n",
       "1     0.49788  0.31287 -0.57545 -0.58331 -0.91699 -0.21712 CL5    \n",
       "2    -0.07854 -0.67825  1.93886  1.43533  0.76096 -0.71126 CL5    \n",
       "3     0.49788 -0.46725  0.80523 -0.84732 -1.62090 -1.37983 CL6    \n",
       "⋮    ⋮        ⋮        ⋮        ⋮        ⋮        ⋮        ⋮      \n",
       "1883 -0.07854  1.13281 -1.37639 -1.27553 -1.77200 0.52975  CL4    \n",
       "1884 -0.95197  0.91093 -1.92173  0.29338 -1.62090 1.29221  CL5    \n",
       "1885 -0.95197 -0.46725  2.12700  1.65653  1.11406 0.88113  CL4    "
      ]
     },
     "metadata": {},
     "output_type": "display_data"
    }
   ],
   "source": [
    "drugs_data <- read_csv(\"data_sets_project/drug_consumption.csv\", col_names = FALSE)\n",
    "colnames(drugs_data) <- c(\"ID\",\n",
    "                          \"Age\", \n",
    "                          \"Gender\", \n",
    "                          \"Education\", \n",
    "                          \"Country\", \n",
    "                          \"Ethnicity\", \n",
    "                          \"NScore\", \n",
    "                          \"EScore\", \n",
    "                          \"OScore\", \n",
    "                          \"AScore\", \n",
    "                          \"CScore\",\n",
    "                          \"IScore\", \n",
    "                          \"SSScore\",\n",
    "                          \"Alcohol\",\n",
    "                          \"Amphet\", \n",
    "                          \"Amyl\", \n",
    "                          \"Benzos\",\n",
    "                          \"Caff\",\n",
    "                          \"Cannabis\", \n",
    "                          \"Choc\", \n",
    "                          \"Coke\",\n",
    "                          \"Crack\", \n",
    "                          \"Ecstacy\", \n",
    "                          \"Heorin\", \n",
    "                          \"LegalH\", \n",
    "                          \"LSD\", \n",
    "                          \"Meth\",\n",
    "                          \"Mushrooms\", \n",
    "                          \"Nicotine\", \n",
    "                          \"Semer\",\n",
    "                          \"VSA\")\n",
    "drugs_data\n",
    "drugs_data_alcohol <- select(drugs_data, Age, NScore, EScore, OScore, AScore, IScore, Alcohol)\n",
    "drugs_data_alcohol"
   ]
  },
  {
   "cell_type": "code",
   "execution_count": null,
   "id": "a73e5301-62e1-4000-afa8-405331120325",
   "metadata": {},
   "outputs": [],
   "source": []
  },
  {
   "cell_type": "code",
   "execution_count": null,
   "id": "8bc78977-1ecf-43f5-93ac-4c0051f34093",
   "metadata": {},
   "outputs": [],
   "source": []
  }
 ],
 "metadata": {
  "kernelspec": {
   "display_name": "R",
   "language": "R",
   "name": "ir"
  },
  "language_info": {
   "codemirror_mode": "r",
   "file_extension": ".r",
   "mimetype": "text/x-r-source",
   "name": "R",
   "pygments_lexer": "r",
   "version": "4.1.3"
  }
 },
 "nbformat": 4,
 "nbformat_minor": 5
}
